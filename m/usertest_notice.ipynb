{
 "cells": [
  {
   "cell_type": "markdown",
   "metadata": {
    "slideshow": {
     "slide_type": "slide"
    },
    "tags": [
     "no_reset"
    ]
   },
   "source": [
    "# JupyterLab User Testing!\n",
    "\n",
    "**What**: 5–30 mins of making JupyterLab better  \n",
    "**When**: Friday from 8am to 5:30pm  \n",
    "**Where**: 2nd floor, Gramercy  \n",
    "**How**: Walk in or sign up at: https://bit.ly/jupytercon-usertesting"
   ]
  }
 ],
 "metadata": {
  "celltoolbar": "Slideshow",
  "kernelspec": {
   "display_name": "Python 3",
   "language": "python",
   "name": "python3"
  },
  "language_info": {
   "codemirror_mode": {
    "name": "ipython",
    "version": 3
   },
   "file_extension": ".py",
   "mimetype": "text/x-python",
   "name": "python",
   "nbconvert_exporter": "python",
   "pygments_lexer": "ipython3",
   "version": "3.6.2"
  }
 },
 "nbformat": 4,
 "nbformat_minor": 2
}
