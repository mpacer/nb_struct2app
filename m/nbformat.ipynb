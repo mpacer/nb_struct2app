{
 "cells": [
  {
   "cell_type": "markdown",
   "metadata": {
    "slideshow": {
     "slide_type": "slide"
    }
   },
   "source": [
    "## Introduction: `*.ipynb` and nbformat"
   ]
  },
  {
   "cell_type": "markdown",
   "metadata": {
    "slideshow": {
     "slide_type": "slide"
    }
   },
   "source": [
    "###  `*.ipynb`\n",
    "\n",
    "* JSON on-disk representation\n",
    "* different versions \n",
    "    * current major version: 4\n",
    "* versions define json.schema"
   ]
  },
  {
   "cell_type": "markdown",
   "metadata": {
    "slideshow": {
     "slide_type": "fragment"
    }
   },
   "source": [
    "Straightforward questions: \n",
    "\n",
    "1. **Minimal structure** needed to meet the schema?\n",
    "2. **Validate** a notebook against the schema?"
   ]
  },
  {
   "cell_type": "markdown",
   "metadata": {
    "slideshow": {
     "slide_type": "slide"
    }
   },
   "source": [
    "### nbformat\n",
    "\n",
    "Python library for for simple programmatic notebook operations."
   ]
  },
  {
   "cell_type": "markdown",
   "metadata": {
    "slideshow": {
     "slide_type": "fragment"
    }
   },
   "source": [
    "#### Minimal structure "
   ]
  },
  {
   "cell_type": "code",
   "execution_count": 2,
   "metadata": {
    "slideshow": {
     "slide_type": "-"
    }
   },
   "outputs": [
    {
     "data": {
      "text/plain": [
       "{'cells': [], 'metadata': {}, 'nbformat': 4, 'nbformat_minor': 2}"
      ]
     },
     "metadata": {},
     "output_type": "display_data"
    }
   ],
   "source": [
    "import nbformat\n",
    "from nbformat.v4 import new_notebook\n",
    "nb = new_notebook()\n",
    "display(nb)"
   ]
  },
  {
   "cell_type": "markdown",
   "metadata": {
    "slideshow": {
     "slide_type": "fragment"
    }
   },
   "source": [
    "* `cells`: list\n",
    "* `metadata`: dict\n",
    "* `nbformat`, `nbformat_minor`: int, int"
   ]
  },
  {
   "cell_type": "markdown",
   "metadata": {
    "slideshow": {
     "slide_type": "slide"
    }
   },
   "source": [
    "**Validate**"
   ]
  },
  {
   "cell_type": "code",
   "execution_count": 3,
   "metadata": {
    "slideshow": {
     "slide_type": "-"
    }
   },
   "outputs": [],
   "source": [
    "nbformat.validate(nb)"
   ]
  },
  {
   "cell_type": "markdown",
   "metadata": {
    "slideshow": {
     "slide_type": "fragment"
    }
   },
   "source": [
    "What happens if it's invalid?"
   ]
  },
  {
   "cell_type": "code",
   "execution_count": 4,
   "metadata": {
    "slideshow": {
     "slide_type": "fragment"
    }
   },
   "outputs": [
    {
     "ename": "NotebookValidationError",
     "evalue": "Additional properties are not allowed ('pizza' was unexpected)\n\nFailed validating 'additionalProperties' in notebook:\n\nOn instance:\n{'cells': ['...0 cells...'],\n 'metadata': {},\n 'nbformat': 4,\n 'nbformat_minor': 2,\n 'pizza': True}",
     "output_type": "error",
     "traceback": [
      "\u001b[0;31m---------------------------------------------------------------------------\u001b[0m",
      "\u001b[0;31mValidationError\u001b[0m                           Traceback (most recent call last)",
      "\u001b[0;32m~/jupyter/nbformat/nbformat/validator.py\u001b[0m in \u001b[0;36mvalidate\u001b[0;34m(nbjson, ref, version, version_minor, relax_add_props)\u001b[0m\n\u001b[1;32m    257\u001b[0m         \u001b[0;32melse\u001b[0m\u001b[0;34m:\u001b[0m\u001b[0;34m\u001b[0m\u001b[0m\n\u001b[0;32m--> 258\u001b[0;31m             \u001b[0;32mreturn\u001b[0m \u001b[0mvalidator\u001b[0m\u001b[0;34m.\u001b[0m\u001b[0mvalidate\u001b[0m\u001b[0;34m(\u001b[0m\u001b[0mnbjson\u001b[0m\u001b[0;34m)\u001b[0m\u001b[0;34m\u001b[0m\u001b[0m\n\u001b[0m\u001b[1;32m    259\u001b[0m     \u001b[0;32mexcept\u001b[0m \u001b[0mValidationError\u001b[0m \u001b[0;32mas\u001b[0m \u001b[0me\u001b[0m\u001b[0;34m:\u001b[0m\u001b[0;34m\u001b[0m\u001b[0m\n",
      "\u001b[0;32m~/anaconda3/envs/dev/lib/python3.6/site-packages/jsonschema/validators.py\u001b[0m in \u001b[0;36mvalidate\u001b[0;34m(self, *args, **kwargs)\u001b[0m\n\u001b[1;32m    129\u001b[0m             \u001b[0;32mfor\u001b[0m \u001b[0merror\u001b[0m \u001b[0;32min\u001b[0m \u001b[0mself\u001b[0m\u001b[0;34m.\u001b[0m\u001b[0miter_errors\u001b[0m\u001b[0;34m(\u001b[0m\u001b[0;34m*\u001b[0m\u001b[0margs\u001b[0m\u001b[0;34m,\u001b[0m \u001b[0;34m**\u001b[0m\u001b[0mkwargs\u001b[0m\u001b[0;34m)\u001b[0m\u001b[0;34m:\u001b[0m\u001b[0;34m\u001b[0m\u001b[0m\n\u001b[0;32m--> 130\u001b[0;31m                 \u001b[0;32mraise\u001b[0m \u001b[0merror\u001b[0m\u001b[0;34m\u001b[0m\u001b[0m\n\u001b[0m\u001b[1;32m    131\u001b[0m \u001b[0;34m\u001b[0m\u001b[0m\n",
      "\u001b[0;31mValidationError\u001b[0m: Additional properties are not allowed ('pizza' was unexpected)\n\nFailed validating 'additionalProperties' in schema:\n    {'$schema': 'http://json-schema.org/draft-04/schema#',\n     'additionalProperties': False,\n     'definitions': {'cell': {'oneOf': [{'$ref': '#/definitions/raw_cell'},\n                                        {'$ref': '#/definitions/markdown_cell'},\n                                        {'$ref': '#/definitions/code_cell'}],\n                              'type': 'object'},\n                     'code_cell': {'additionalProperties': False,\n                                   'description': 'Notebook code cell.',\n                                   'properties': {'cell_type': {'description': 'String '\n                                                                               'identifying '\n                                                                               'the '\n                                                                               'type '\n                                                                               'of '\n                                                                               'cell.',\n                                                                'enum': ['code']},\n                                                  'execution_count': {'description': 'The '\n                                                                                     'code '\n                                                                                     \"cell's \"\n                                                                                     'prompt '\n                                                                                     'number. '\n                                                                                     'Will '\n                                                                                     'be '\n                                                                                     'null '\n                                                                                     'if '\n                                                                                     'the '\n                                                                                     'cell '\n                                                                                     'has '\n                                                                                     'not '\n                                                                                     'been '\n                                                                                     'run.',\n                                                                      'minimum': 0,\n                                                                      'type': ['integer',\n                                                                               'null']},\n                                                  'metadata': {'additionalProperties': True,\n                                                               'description': 'Cell-level '\n                                                                              'metadata.',\n                                                               'properties': {'collapsed': {'description': 'Whether '\n                                                                                                           'the '\n                                                                                                           'cell '\n                                                                                                           'is '\n                                                                                                           'collapsed/expanded.',\n                                                                                            'type': 'boolean'},\n                                                                              'jupyter': {'additionalProperties': True,\n                                                                                          'description': 'Official '\n                                                                                                         'Jupyter '\n                                                                                                         'Metadata '\n                                                                                                         'for '\n                                                                                                         'Code '\n                                                                                                         'Cells',\n                                                                                          'outputs_hidden': {'description': 'Whether '\n                                                                                                                            'the '\n                                                                                                                            'outputs '\n                                                                                                                            'are '\n                                                                                                                            'hidden.',\n                                                                                                             'type': 'boolean'},\n                                                                                          'source_hidden': {'description': 'Whether '\n                                                                                                                           'the '\n                                                                                                                           'source '\n                                                                                                                           'is '\n                                                                                                                           'hidden.',\n                                                                                                            'type': 'boolean'},\n                                                                                          'type': 'object'},\n                                                                              'name': {'$ref': '#/definitions/misc/metadata_name'},\n                                                                              'scrolled': {'description': 'Whether '\n                                                                                                          'the '\n                                                                                                          \"cell's \"\n                                                                                                          'output '\n                                                                                                          'is '\n                                                                                                          'scrolled, '\n                                                                                                          'unscrolled, '\n                                                                                                          'or '\n                                                                                                          'autoscrolled.',\n                                                                                           'enum': [True,\n                                                                                                    False,\n                                                                                                    'auto']},\n                                                                              'tags': {'$ref': '#/definitions/misc/metadata_tags'}},\n                                                               'type': 'object'},\n                                                  'outputs': {'description': 'Execution, '\n                                                                             'display, '\n                                                                             'or '\n                                                                             'stream '\n                                                                             'outputs.',\n                                                              'items': {'$ref': '#/definitions/output'},\n                                                              'type': 'array'},\n                                                  'source': {'$ref': '#/definitions/misc/source'}},\n                                   'required': ['cell_type',\n                                                'metadata',\n                                                'source',\n                                                'outputs',\n                                                'execution_count'],\n                                   'type': 'object'},\n                     'display_data': {'additionalProperties': False,\n                                      'description': 'Data displayed as a '\n                                                     'result of code cell '\n                                                     'execution.',\n                                      'properties': {'data': {'$ref': '#/definitions/misc/mimebundle'},\n                                                     'metadata': {'$ref': '#/definitions/misc/output_metadata'},\n                                                     'output_type': {'description': 'Type '\n                                                                                    'of '\n                                                                                    'cell '\n                                                                                    'output.',\n                                                                     'enum': ['display_data']}},\n                                      'required': ['output_type',\n                                                   'data',\n                                                   'metadata'],\n                                      'type': 'object'},\n                     'error': {'additionalProperties': False,\n                               'description': 'Output of an error that '\n                                              'occurred during code cell '\n                                              'execution.',\n                               'properties': {'ename': {'description': 'The '\n                                                                       'name '\n                                                                       'of '\n                                                                       'the '\n                                                                       'error.',\n                                                        'type': 'string'},\n                                              'evalue': {'description': 'The '\n                                                                        'value, '\n                                                                        'or '\n                                                                        'message, '\n                                                                        'of '\n                                                                        'the '\n                                                                        'error.',\n                                                         'type': 'string'},\n                                              'output_type': {'description': 'Type '\n                                                                             'of '\n                                                                             'cell '\n                                                                             'output.',\n                                                              'enum': ['error']},\n                                              'traceback': {'description': 'The '\n                                                                           \"error's \"\n                                                                           'traceback, '\n                                                                           'represented '\n                                                                           'as '\n                                                                           'an '\n                                                                           'array '\n                                                                           'of '\n                                                                           'strings.',\n                                                            'items': {'type': 'string'},\n                                                            'type': 'array'}},\n                               'required': ['output_type',\n                                            'ename',\n                                            'evalue',\n                                            'traceback'],\n                               'type': 'object'},\n                     'execute_result': {'additionalProperties': False,\n                                        'description': 'Result of '\n                                                       'executing a code '\n                                                       'cell.',\n                                        'properties': {'data': {'$ref': '#/definitions/misc/mimebundle'},\n                                                       'execution_count': {'description': 'A '\n                                                                                          \"result's \"\n                                                                                          'prompt '\n                                                                                          'number.',\n                                                                           'minimum': 0,\n                                                                           'type': ['integer',\n                                                                                    'null']},\n                                                       'metadata': {'$ref': '#/definitions/misc/output_metadata'},\n                                                       'output_type': {'description': 'Type '\n                                                                                      'of '\n                                                                                      'cell '\n                                                                                      'output.',\n                                                                       'enum': ['execute_result']}},\n                                        'required': ['output_type',\n                                                     'data',\n                                                     'metadata',\n                                                     'execution_count'],\n                                        'type': 'object'},\n                     'markdown_cell': {'additionalProperties': False,\n                                       'description': 'Notebook markdown '\n                                                      'cell.',\n                                       'properties': {'attachments': {'$ref': '#/definitions/misc/attachments'},\n                                                      'cell_type': {'description': 'String '\n                                                                                   'identifying '\n                                                                                   'the '\n                                                                                   'type '\n                                                                                   'of '\n                                                                                   'cell.',\n                                                                    'enum': ['markdown']},\n                                                      'metadata': {'additionalProperties': True,\n                                                                   'description': 'Cell-level '\n                                                                                  'metadata.',\n                                                                   'properties': {'jupyter': {'additionalProperties': True,\n                                                                                              'description': 'Official '\n                                                                                                             'Jupyter '\n                                                                                                             'Metadata '\n                                                                                                             'for '\n                                                                                                             'Markdown '\n                                                                                                             'Cells',\n                                                                                              'source_hidden': {'description': 'Whether '\n                                                                                                                               'the '\n                                                                                                                               'source '\n                                                                                                                               'is '\n                                                                                                                               'hidden.',\n                                                                                                                'type': 'boolean'},\n                                                                                              'type': 'object'},\n                                                                                  'name': {'$ref': '#/definitions/misc/metadata_name'},\n                                                                                  'tags': {'$ref': '#/definitions/misc/metadata_tags'}},\n                                                                   'type': 'object'},\n                                                      'source': {'$ref': '#/definitions/misc/source'}},\n                                       'required': ['cell_type',\n                                                    'metadata',\n                                                    'source'],\n                                       'type': 'object'},\n                     'misc': {'attachments': {'description': 'Media '\n                                                             'attachments '\n                                                             '(e.g. inline '\n                                                             'images), '\n                                                             'stored as '\n                                                             'mimebundle '\n                                                             'keyed by '\n                                                             'filename.',\n                                              'patternProperties': {'.*': {'$ref': '#/definitions/misc/mimebundle',\n                                                                           'description': 'The '\n                                                                                          \"attachment's \"\n                                                                                          'data '\n                                                                                          'stored '\n                                                                                          'as '\n                                                                                          'a '\n                                                                                          'mimebundle.'}},\n                                              'type': 'object'},\n                              'execution_count': {'description': 'The code '\n                                                                 \"cell's \"\n                                                                 'prompt '\n                                                                 'number. '\n                                                                 'Will be '\n                                                                 'null if '\n                                                                 'the cell '\n                                                                 'has not '\n                                                                 'been '\n                                                                 'run.',\n                                                  'minimum': 0,\n                                                  'type': ['integer',\n                                                           'null']},\n                              'metadata_name': {'description': \"The cell's \"\n                                                               'name. If '\n                                                               'present, '\n                                                               'must be a '\n                                                               'non-empty '\n                                                               'string. '\n                                                               'Must be '\n                                                               'unique '\n                                                               'across all '\n                                                               'the cells '\n                                                               'of a given '\n                                                               'notebook.',\n                                                'pattern': '^.+$',\n                                                'type': 'string'},\n                              'metadata_tags': {'description': \"The cell's \"\n                                                               'tags. Tags '\n                                                               'must be '\n                                                               'unique, '\n                                                               'and must '\n                                                               'not '\n                                                               'contain '\n                                                               'commas.',\n                                                'items': {'pattern': '^[^,]+$',\n                                                          'type': 'string'},\n                                                'type': 'array',\n                                                'uniqueItems': True},\n                              'mimebundle': {'additionalProperties': {'$ref': '#/definitions/misc/multiline_string',\n                                                                      'description': 'mimetype '\n                                                                                     'output '\n                                                                                     '(e.g. '\n                                                                                     'text/plain), '\n                                                                                     'represented '\n                                                                                     'as '\n                                                                                     'either '\n                                                                                     'an '\n                                                                                     'array '\n                                                                                     'of '\n                                                                                     'strings '\n                                                                                     'or '\n                                                                                     'a '\n                                                                                     'string.'},\n                                             'description': 'A mime-type '\n                                                            'keyed '\n                                                            'dictionary of '\n                                                            'data',\n                                             'patternProperties': {'^application/(.*\\\\+)?json$': {'description': 'Mimetypes '\n                                                                                                                 'with '\n                                                                                                                 'JSON '\n                                                                                                                 'output, '\n                                                                                                                 'can '\n                                                                                                                 'be '\n                                                                                                                 'any '\n                                                                                                                 'type'}},\n                                             'type': 'object'},\n                              'multiline_string': {'oneOf': [{'type': 'string'},\n                                                             {'items': {'type': 'string'},\n                                                              'type': 'array'}]},\n                              'output_metadata': {'additionalProperties': True,\n                                                  'description': 'Cell '\n                                                                 'output '\n                                                                 'metadata.',\n                                                  'type': 'object'},\n                              'source': {'$ref': '#/definitions/misc/multiline_string',\n                                         'description': 'Contents of the '\n                                                        'cell, represented '\n                                                        'as an array of '\n                                                        'lines.'}},\n                     'output': {'oneOf': [{'$ref': '#/definitions/execute_result'},\n                                          {'$ref': '#/definitions/display_data'},\n                                          {'$ref': '#/definitions/stream'},\n                                          {'$ref': '#/definitions/error'}],\n                                'type': 'object'},\n                     'raw_cell': {'additionalProperties': False,\n                                  'description': 'Notebook raw nbconvert '\n                                                 'cell.',\n                                  'properties': {'attachments': {'$ref': '#/definitions/misc/attachments'},\n                                                 'cell_type': {'description': 'String '\n                                                                              'identifying '\n                                                                              'the '\n                                                                              'type '\n                                                                              'of '\n                                                                              'cell.',\n                                                               'enum': ['raw']},\n                                                 'metadata': {'additionalProperties': True,\n                                                              'description': 'Cell-level '\n                                                                             'metadata.',\n                                                              'properties': {'format': {'description': 'Raw '\n                                                                                                       'cell '\n                                                                                                       'metadata '\n                                                                                                       'format '\n                                                                                                       'for '\n                                                                                                       'nbconvert.',\n                                                                                        'type': 'string'},\n                                                                             'jupyter': {'additionalProperties': True,\n                                                                                         'description': 'Official '\n                                                                                                        'Jupyter '\n                                                                                                        'Metadata '\n                                                                                                        'for '\n                                                                                                        'Raw '\n                                                                                                        'Cells',\n                                                                                         'source_hidden': {'description': 'Whether '\n                                                                                                                          'the '\n                                                                                                                          'source '\n                                                                                                                          'is '\n                                                                                                                          'hidden.',\n                                                                                                           'type': 'boolean'},\n                                                                                         'type': 'object'},\n                                                                             'name': {'$ref': '#/definitions/misc/metadata_name'},\n                                                                             'tags': {'$ref': '#/definitions/misc/metadata_tags'}},\n                                                              'type': 'object'},\n                                                 'source': {'$ref': '#/definitions/misc/source'}},\n                                  'required': ['cell_type',\n                                               'metadata',\n                                               'source'],\n                                  'type': 'object'},\n                     'stream': {'additionalProperties': False,\n                                'description': 'Stream output from a code '\n                                               'cell.',\n                                'properties': {'name': {'description': 'The '\n                                                                       'name '\n                                                                       'of '\n                                                                       'the '\n                                                                       'stream '\n                                                                       '(stdout, '\n                                                                       'stderr).',\n                                                        'type': 'string'},\n                                               'output_type': {'description': 'Type '\n                                                                              'of '\n                                                                              'cell '\n                                                                              'output.',\n                                                               'enum': ['stream']},\n                                               'text': {'$ref': '#/definitions/misc/multiline_string',\n                                                        'description': 'The '\n                                                                       \"stream's \"\n                                                                       'text '\n                                                                       'output, '\n                                                                       'represented '\n                                                                       'as '\n                                                                       'an '\n                                                                       'array '\n                                                                       'of '\n                                                                       'strings.'}},\n                                'required': ['output_type', 'name', 'text'],\n                                'type': 'object'},\n                     'unrecognized_cell': {'additionalProperties': True,\n                                           'description': 'Unrecognized '\n                                                          'cell from a '\n                                                          'future '\n                                                          'minor-revision '\n                                                          'to the notebook '\n                                                          'format.',\n                                           'properties': {'cell_type': {'description': 'String '\n                                                                                       'identifying '\n                                                                                       'the '\n                                                                                       'type '\n                                                                                       'of '\n                                                                                       'cell.',\n                                                                        'not': {'enum': ['markdown',\n                                                                                         'code',\n                                                                                         'raw']}},\n                                                          'metadata': {'additionalProperties': True,\n                                                                       'description': 'Cell-level '\n                                                                                      'metadata.',\n                                                                       'properties': {'name': {'$ref': '#/definitions/misc/metadata_name'},\n                                                                                      'tags': {'$ref': '#/definitions/misc/metadata_tags'}},\n                                                                       'type': 'object'}},\n                                           'required': ['cell_type',\n                                                        'metadata'],\n                                           'type': 'object'},\n                     'unrecognized_output': {'additionalProperties': True,\n                                             'description': 'Unrecognized '\n                                                            'output from a '\n                                                            'future '\n                                                            'minor-revision '\n                                                            'to the '\n                                                            'notebook '\n                                                            'format.',\n                                             'properties': {'output_type': {'description': 'Type '\n                                                                                           'of '\n                                                                                           'cell '\n                                                                                           'output.',\n                                                                            'not': {'enum': ['execute_result',\n                                                                                             'display_data',\n                                                                                             'stream',\n                                                                                             'error']}}},\n                                             'required': ['output_type'],\n                                             'type': 'object'}},\n     'description': 'Jupyter Notebook v4.2 JSON schema.',\n     'properties': {'cells': {'description': 'Array of cells of the '\n                                             'current notebook.',\n                              'items': {'$ref': '#/definitions/cell'},\n                              'type': 'array'},\n                    'metadata': {'additionalProperties': True,\n                                 'description': 'Notebook root-level '\n                                                'metadata.',\n                                 'properties': {'authors': {'description': 'The '\n                                                                           'author(s) '\n                                                                           'of '\n                                                                           'the '\n                                                                           'notebook '\n                                                                           'document',\n                                                            'item': {'additionalProperties': True,\n                                                                     'properties': {'name': {'type': 'string'}},\n                                                                     'type': 'object'},\n                                                            'type': 'array'},\n                                                'kernelspec': {'description': 'Kernel '\n                                                                              'information.',\n                                                               'properties': {'display_name': {'description': 'Name '\n                                                                                                              'to '\n                                                                                                              'display '\n                                                                                                              'in '\n                                                                                                              'UI.',\n                                                                                               'type': 'string'},\n                                                                              'name': {'description': 'Name '\n                                                                                                      'of '\n                                                                                                      'the '\n                                                                                                      'kernel '\n                                                                                                      'specification.',\n                                                                                       'type': 'string'}},\n                                                               'required': ['name',\n                                                                            'display_name'],\n                                                               'type': 'object'},\n                                                'language_info': {'description': 'Kernel '\n                                                                                 'information.',\n                                                                  'properties': {'codemirror_mode': {'description': 'The '\n                                                                                                                    'codemirror '\n                                                                                                                    'mode '\n                                                                                                                    'to '\n                                                                                                                    'use '\n                                                                                                                    'for '\n                                                                                                                    'code '\n                                                                                                                    'in '\n                                                                                                                    'this '\n                                                                                                                    'language.',\n                                                                                                     'oneOf': [{'type': 'string'},\n                                                                                                               {'type': 'object'}]},\n                                                                                 'file_extension': {'description': 'The '\n                                                                                                                   'file '\n                                                                                                                   'extension '\n                                                                                                                   'for '\n                                                                                                                   'files '\n                                                                                                                   'in '\n                                                                                                                   'this '\n                                                                                                                   'language.',\n                                                                                                    'type': 'string'},\n                                                                                 'mimetype': {'description': 'The '\n                                                                                                             'mimetype '\n                                                                                                             'corresponding '\n                                                                                                             'to '\n                                                                                                             'files '\n                                                                                                             'in '\n                                                                                                             'this '\n                                                                                                             'language.',\n                                                                                              'type': 'string'},\n                                                                                 'name': {'description': 'The '\n                                                                                                         'programming '\n                                                                                                         'language '\n                                                                                                         'which '\n                                                                                                         'this '\n                                                                                                         'kernel '\n                                                                                                         'runs.',\n                                                                                          'type': 'string'},\n                                                                                 'pygments_lexer': {'description': 'The '\n                                                                                                                   'pygments '\n                                                                                                                   'lexer '\n                                                                                                                   'to '\n                                                                                                                   'use '\n                                                                                                                   'for '\n                                                                                                                   'code '\n                                                                                                                   'in '\n                                                                                                                   'this '\n                                                                                                                   'language.',\n                                                                                                    'type': 'string'}},\n                                                                  'required': ['name'],\n                                                                  'type': 'object'},\n                                                'orig_nbformat': {'description': 'Original '\n                                                                                 'notebook '\n                                                                                 'format '\n                                                                                 '(major '\n                                                                                 'number) '\n                                                                                 'before '\n                                                                                 'converting '\n                                                                                 'the '\n                                                                                 'notebook '\n                                                                                 'between '\n                                                                                 'versions. '\n                                                                                 'This '\n                                                                                 'should '\n                                                                                 'never '\n                                                                                 'be '\n                                                                                 'written '\n                                                                                 'to '\n                                                                                 'a '\n                                                                                 'file.',\n                                                                  'minimum': 1,\n                                                                  'type': 'integer'},\n                                                'title': {'description': 'The '\n                                                                         'title '\n                                                                         'of '\n                                                                         'the '\n                                                                         'notebook '\n                                                                         'document',\n                                                          'type': 'string'}},\n                                 'type': 'object'},\n                    'nbformat': {'description': 'Notebook format (major '\n                                                'number). Incremented '\n                                                'between backwards '\n                                                'incompatible changes to '\n                                                'the notebook format.',\n                                 'maximum': 4,\n                                 'minimum': 4,\n                                 'type': 'integer'},\n                    'nbformat_minor': {'description': 'Notebook format '\n                                                      '(minor number). '\n                                                      'Incremented for '\n                                                      'backward compatible '\n                                                      'changes to the '\n                                                      'notebook format.',\n                                       'minimum': 0,\n                                       'type': 'integer'}},\n     'required': ['metadata', 'nbformat_minor', 'nbformat', 'cells'],\n     'type': 'object'}\n\nOn instance:\n    {'cells': [],\n     'metadata': {},\n     'nbformat': 4,\n     'nbformat_minor': 2,\n     'pizza': True}",
      "\nDuring handling of the above exception, another exception occurred:\n",
      "\u001b[0;31mNotebookValidationError\u001b[0m                   Traceback (most recent call last)",
      "\u001b[0;32m<ipython-input-4-e3637ae02c78>\u001b[0m in \u001b[0;36m<module>\u001b[0;34m()\u001b[0m\n\u001b[1;32m      1\u001b[0m \u001b[0mnb\u001b[0m\u001b[0;34m.\u001b[0m\u001b[0mpizza\u001b[0m \u001b[0;34m=\u001b[0m \u001b[0;32mTrue\u001b[0m\u001b[0;34m\u001b[0m\u001b[0m\n\u001b[0;32m----> 2\u001b[0;31m \u001b[0mnbformat\u001b[0m\u001b[0;34m.\u001b[0m\u001b[0mvalidate\u001b[0m\u001b[0;34m(\u001b[0m\u001b[0mnb\u001b[0m\u001b[0;34m)\u001b[0m\u001b[0;34m\u001b[0m\u001b[0m\n\u001b[0m",
      "\u001b[0;32m~/jupyter/nbformat/nbformat/validator.py\u001b[0m in \u001b[0;36mvalidate\u001b[0;34m(nbjson, ref, version, version_minor, relax_add_props)\u001b[0m\n\u001b[1;32m    258\u001b[0m             \u001b[0;32mreturn\u001b[0m \u001b[0mvalidator\u001b[0m\u001b[0;34m.\u001b[0m\u001b[0mvalidate\u001b[0m\u001b[0;34m(\u001b[0m\u001b[0mnbjson\u001b[0m\u001b[0;34m)\u001b[0m\u001b[0;34m\u001b[0m\u001b[0m\n\u001b[1;32m    259\u001b[0m     \u001b[0;32mexcept\u001b[0m \u001b[0mValidationError\u001b[0m \u001b[0;32mas\u001b[0m \u001b[0me\u001b[0m\u001b[0;34m:\u001b[0m\u001b[0;34m\u001b[0m\u001b[0m\n\u001b[0;32m--> 260\u001b[0;31m         \u001b[0;32mraise\u001b[0m \u001b[0mbetter_validation_error\u001b[0m\u001b[0;34m(\u001b[0m\u001b[0me\u001b[0m\u001b[0;34m,\u001b[0m \u001b[0mversion\u001b[0m\u001b[0;34m,\u001b[0m \u001b[0mversion_minor\u001b[0m\u001b[0;34m)\u001b[0m\u001b[0;34m\u001b[0m\u001b[0m\n\u001b[0m\u001b[1;32m    261\u001b[0m \u001b[0;34m\u001b[0m\u001b[0m\n",
      "\u001b[0;31mNotebookValidationError\u001b[0m: Additional properties are not allowed ('pizza' was unexpected)\n\nFailed validating 'additionalProperties' in notebook:\n\nOn instance:\n{'cells': ['...0 cells...'],\n 'metadata': {},\n 'nbformat': 4,\n 'nbformat_minor': 2,\n 'pizza': True}"
     ]
    }
   ],
   "source": [
    "nb.pizza = True\n",
    "nbformat.validate(nb)"
   ]
  },
  {
   "cell_type": "markdown",
   "metadata": {
    "slideshow": {
     "slide_type": "slide"
    }
   },
   "source": [
    "#### Cells their `source`s\n",
    "\n",
    "Before we can add cells, we need to create them.\n",
    "\n",
    "* Three types of cells:\n",
    "    * code_cell\n",
    "    * markdown_cell\n",
    "    * raw_cell"
   ]
  },
  {
   "cell_type": "code",
   "execution_count": 5,
   "metadata": {
    "slideshow": {
     "slide_type": "slide"
    }
   },
   "outputs": [],
   "source": [
    "from nbformat.v4 import new_code_cell, new_markdown_cell, new_raw_cell"
   ]
  },
  {
   "cell_type": "code",
   "execution_count": 6,
   "metadata": {
    "slideshow": {
     "slide_type": "fragment"
    }
   },
   "outputs": [
    {
     "data": {
      "text/plain": [
       "{'cell_type': 'markdown',\n",
       " 'metadata': {},\n",
       " 'source': 'First argument is the source.'}"
      ]
     },
     "metadata": {},
     "output_type": "display_data"
    }
   ],
   "source": [
    "nb = new_notebook()\n",
    "md = new_markdown_cell(\"First argument is the source.\")\n",
    "display(md)\n",
    "nb.cells.append(md)\n",
    "nbformat.validate(nb)"
   ]
  },
  {
   "cell_type": "markdown",
   "metadata": {
    "slideshow": {
     "slide_type": "fragment"
    }
   },
   "source": [
    "#### Markdown cells\n",
    "* `cell_type`: str, \"markdown\"\n",
    "* `metadata`: dict\n",
    "* `source`: str or list of strings"
   ]
  },
  {
   "cell_type": "code",
   "execution_count": 7,
   "metadata": {
    "slideshow": {
     "slide_type": "slide"
    }
   },
   "outputs": [
    {
     "data": {
      "text/plain": [
       "{'cell_type': 'raw',\n",
       " 'metadata': {},\n",
       " 'source': 'Sources can be one (multil-line)\\nstring.'}"
      ]
     },
     "metadata": {},
     "output_type": "display_data"
    }
   ],
   "source": [
    "raw = new_raw_cell(\"Sources can be one (multil-line)\\nstring.\")\n",
    "display(raw)"
   ]
  },
  {
   "cell_type": "markdown",
   "metadata": {
    "slideshow": {
     "slide_type": "fragment"
    }
   },
   "source": [
    "#### Raw cells\n",
    "* `cell_type`: str, \"raw\"\n",
    "* `metadata`: dict\n",
    "* `source`: str or list of strings"
   ]
  },
  {
   "cell_type": "code",
   "execution_count": 8,
   "metadata": {
    "slideshow": {
     "slide_type": "slide"
    }
   },
   "outputs": [
    {
     "data": {
      "text/plain": [
       "{'cell_type': 'code',\n",
       " 'execution_count': None,\n",
       " 'metadata': {},\n",
       " 'outputs': [],\n",
       " 'source': ['#Sources can also be a list of strings.\\n',\n",
       "  \"print('like this example')\"]}"
      ]
     },
     "metadata": {},
     "output_type": "display_data"
    }
   ],
   "source": [
    "code = new_code_cell([\"#Sources can also be a list of strings.\\n\", \"print('like this example')\"])\n",
    "display(code)"
   ]
  },
  {
   "cell_type": "markdown",
   "metadata": {
    "slideshow": {
     "slide_type": "fragment"
    }
   },
   "source": [
    "#### Code cells\n",
    "* `cell_type`: str, \"code\"\n",
    "* `execution_count`: `None` or int\n",
    "* `metadata`: dict\n",
    "* `outputs`: list\n",
    "* `source`: str"
   ]
  },
  {
   "cell_type": "markdown",
   "metadata": {
    "slideshow": {
     "slide_type": "slide"
    }
   },
   "source": [
    "## Creating outputs\n",
    "\n",
    "Need to specify the output type:"
   ]
  },
  {
   "cell_type": "code",
   "execution_count": null,
   "metadata": {
    "slideshow": {
     "slide_type": "slide"
    }
   },
   "outputs": [],
   "source": [
    "from nbformat.v4 import new_output"
   ]
  },
  {
   "cell_type": "code",
   "execution_count": 21,
   "metadata": {
    "slideshow": {
     "slide_type": "fragment"
    }
   },
   "outputs": [
    {
     "data": {
      "text/plain": [
       "{'name': 'stdout', 'output_type': 'stream', 'text': ''}"
      ]
     },
     "metadata": {},
     "output_type": "display_data"
    }
   ],
   "source": [
    "output_stream = new_output(\"stream\")\n",
    "display(output_stream)"
   ]
  },
  {
   "cell_type": "code",
   "execution_count": 22,
   "metadata": {
    "slideshow": {
     "slide_type": "fragment"
    }
   },
   "outputs": [
    {
     "data": {
      "text/plain": [
       "{'data': {}, 'metadata': {}, 'output_type': 'display_data'}"
      ]
     },
     "metadata": {},
     "output_type": "display_data"
    }
   ],
   "source": [
    "output_disp = new_output(\"display_data\")\n",
    "display(output_disp)"
   ]
  },
  {
   "cell_type": "code",
   "execution_count": 23,
   "metadata": {
    "slideshow": {
     "slide_type": "fragment"
    }
   },
   "outputs": [
    {
     "data": {
      "text/plain": [
       "{'data': {},\n",
       " 'execution_count': None,\n",
       " 'metadata': {},\n",
       " 'output_type': 'execute_result'}"
      ]
     },
     "metadata": {},
     "output_type": "display_data"
    }
   ],
   "source": [
    "output_ex = new_output(\"execute_result\", execution_count=None)\n",
    "display(output_ex)"
   ]
  },
  {
   "cell_type": "code",
   "execution_count": 25,
   "metadata": {
    "slideshow": {
     "slide_type": "fragment"
    }
   },
   "outputs": [
    {
     "data": {
      "text/plain": [
       "{'ename': 'ErrorName',\n",
       " 'evalue': 'Error message',\n",
       " 'output_type': 'error',\n",
       " 'traceback': ['Error traceback', 'as an array of', 'strings']}"
      ]
     },
     "metadata": {},
     "output_type": "display_data"
    }
   ],
   "source": [
    "output_err = new_output(\"error\", \n",
    "                        ename=\"ErrorName\", \n",
    "                        evalue=\"Error message\",\n",
    "                        traceback=[\"Error traceback\", \"as an array of\", \"strings\"]\n",
    "                       )\n",
    "display(output_err)"
   ]
  },
  {
   "cell_type": "markdown",
   "metadata": {},
   "source": [
    "#### Note on display_data\n",
    "\n",
    "Each output can have multiple mimetypes, see the `IPython` display machinery for more info. "
   ]
  },
  {
   "cell_type": "code",
   "execution_count": null,
   "metadata": {},
   "outputs": [],
   "source": []
  }
 ],
 "metadata": {
  "celltoolbar": "Slideshow",
  "kernelspec": {
   "display_name": "Python 3",
   "language": "python",
   "name": "python3"
  },
  "language_info": {
   "codemirror_mode": {
    "name": "ipython",
    "version": 3
   },
   "file_extension": ".py",
   "mimetype": "text/x-python",
   "name": "python",
   "nbconvert_exporter": "python",
   "pygments_lexer": "ipython3",
   "version": "3.6.2"
  }
 },
 "nbformat": 4,
 "nbformat_minor": 2
}
