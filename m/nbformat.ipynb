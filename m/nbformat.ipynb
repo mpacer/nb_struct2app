{
 "cells": [
  {
   "cell_type": "markdown",
   "metadata": {
    "slideshow": {
     "slide_type": "slide"
    }
   },
   "source": [
    "## Introduction: `*.ipynb` and nbformat"
   ]
  },
  {
   "cell_type": "markdown",
   "metadata": {
    "slideshow": {
     "slide_type": "slide"
    }
   },
   "source": [
    "###  `*.ipynb`\n",
    "\n",
    "* JSON on-disk representation\n",
    "* different versions \n",
    "    * current major version: 4\n",
    "* versions define json.schema"
   ]
  },
  {
   "cell_type": "markdown",
   "metadata": {
    "slideshow": {
     "slide_type": "fragment"
    }
   },
   "source": [
    "Straightforward questions: \n",
    "\n",
    "1. **Minimal structure** needed to meet the schema?\n",
    "2. **Validate** a notebook against the schema?"
   ]
  },
  {
   "cell_type": "markdown",
   "metadata": {
    "slideshow": {
     "slide_type": "slide"
    }
   },
   "source": [
    "### nbformat\n",
    "\n",
    "Python library for for simple programmatic notebook operations."
   ]
  },
  {
   "cell_type": "markdown",
   "metadata": {
    "slideshow": {
     "slide_type": "fragment"
    }
   },
   "source": [
    "#### Minimal structure "
   ]
  },
  {
   "cell_type": "code",
   "execution_count": null,
   "metadata": {
    "slideshow": {
     "slide_type": "-"
    }
   },
   "outputs": [],
   "source": [
    "import nbformat\n",
    "from nbformat.v4 import new_notebook\n",
    "nb = new_notebook()\n",
    "display(nb)"
   ]
  },
  {
   "cell_type": "markdown",
   "metadata": {
    "slideshow": {
     "slide_type": "fragment"
    }
   },
   "source": [
    "* `cells`: list\n",
    "* `metadata`: dict\n",
    "* `nbformat`, `nbformat_minor`: int, int"
   ]
  },
  {
   "cell_type": "markdown",
   "metadata": {
    "slideshow": {
     "slide_type": "slide"
    }
   },
   "source": [
    "**Validate**"
   ]
  },
  {
   "cell_type": "code",
   "execution_count": null,
   "metadata": {
    "slideshow": {
     "slide_type": "-"
    }
   },
   "outputs": [],
   "source": [
    "nbformat.validate(nb)"
   ]
  },
  {
   "cell_type": "markdown",
   "metadata": {
    "slideshow": {
     "slide_type": "fragment"
    }
   },
   "source": [
    "What happens if it's invalid?"
   ]
  },
  {
   "cell_type": "code",
   "execution_count": null,
   "metadata": {
    "slideshow": {
     "slide_type": "fragment"
    }
   },
   "outputs": [],
   "source": [
    "nb.pizza = True\n",
    "nbformat.validate(nb)"
   ]
  },
  {
   "cell_type": "markdown",
   "metadata": {
    "slideshow": {
     "slide_type": "slide"
    }
   },
   "source": [
    "#### Cells and their `source`s\n",
    "\n",
    "Before we can add cells, we need to create them.\n",
    "\n",
    "* Three types of cells:\n",
    "    * code_cell\n",
    "    * markdown_cell\n",
    "    * raw_cell"
   ]
  },
  {
   "cell_type": "code",
   "execution_count": null,
   "metadata": {
    "slideshow": {
     "slide_type": "-"
    }
   },
   "outputs": [],
   "source": [
    "from nbformat.v4 import new_code_cell, new_markdown_cell, new_raw_cell"
   ]
  },
  {
   "cell_type": "markdown",
   "metadata": {
    "slideshow": {
     "slide_type": "slide"
    }
   },
   "source": [
    "#### Markdown cells"
   ]
  },
  {
   "cell_type": "code",
   "execution_count": null,
   "metadata": {
    "slideshow": {
     "slide_type": "-"
    }
   },
   "outputs": [],
   "source": [
    "nb = new_notebook() # lose the pizza\n",
    "md = new_markdown_cell(\"First argument is the source.\",\n",
    "                       attachments={})\n",
    "display(md)\n",
    "nb.cells.append(md)"
   ]
  },
  {
   "cell_type": "markdown",
   "metadata": {
    "slideshow": {
     "slide_type": "fragment"
    }
   },
   "source": [
    "* `cell_type`: str, \"markdown\"\n",
    "* `metadata`: dict\n",
    "* `source`: str or list of strings\n",
    "* `attachments`: (optional) dict of mimebundles"
   ]
  },
  {
   "cell_type": "markdown",
   "metadata": {
    "slideshow": {
     "slide_type": "slide"
    }
   },
   "source": [
    "#### Raw cells"
   ]
  },
  {
   "cell_type": "code",
   "execution_count": null,
   "metadata": {
    "slideshow": {
     "slide_type": "-"
    }
   },
   "outputs": [],
   "source": [
    "raw = new_raw_cell(\"Sources can be one (multil-line)\\nstring.\", \n",
    "                   attachments={})\n",
    "display(raw)\n",
    "nb.cells.append(raw)"
   ]
  },
  {
   "cell_type": "markdown",
   "metadata": {
    "slideshow": {
     "slide_type": "fragment"
    }
   },
   "source": [
    "* `cell_type`: str, \"raw\"\n",
    "* `metadata`: dict\n",
    "* `source`: str or list of strings\n",
    "* `attachments`: (optional) dict of mimebundles"
   ]
  },
  {
   "cell_type": "markdown",
   "metadata": {
    "slideshow": {
     "slide_type": "slide"
    }
   },
   "source": [
    "#### Code cells"
   ]
  },
  {
   "cell_type": "code",
   "execution_count": null,
   "metadata": {
    "slideshow": {
     "slide_type": "-"
    }
   },
   "outputs": [],
   "source": [
    "code = new_code_cell([\"#Sources can also be a list of strings.\\n\", \n",
    "                      \"print('like this example')\"])\n",
    "display(code)\n",
    "nb.cells.append(code)"
   ]
  },
  {
   "cell_type": "markdown",
   "metadata": {
    "slideshow": {
     "slide_type": "fragment"
    }
   },
   "source": [
    "* `cell_type`: str, \"code\"\n",
    "* `execution_count`: `None` or int\n",
    "* `metadata`: dict099\n",
    "* `outputs`: list\n",
    "* `source`: str or list of strings"
   ]
  },
  {
   "cell_type": "markdown",
   "metadata": {
    "slideshow": {
     "slide_type": "slide"
    }
   },
   "source": [
    "## Creating outputs\n",
    "\n",
    "Need to specify the output type:\n",
    "\n",
    "* stream\n",
    "* display_data\n",
    "* execute_result\n",
    "* error\n",
    "\n",
    "NB: `display_data` and `execute_result` have data that are keyed by mimetypes. This an output to have more than one mimetype. \n",
    "\n",
    "For more on messages and output types, check out Matthias Bussonier and Paul Ivanov's talk:  \n",
    "[Jupyter: Kernels, protocols, and the IPython reference implementation](https://conferences.oreilly.com/jupyter/jup-ny/public/schedule/detail/63159)"
   ]
  },
  {
   "cell_type": "markdown",
   "metadata": {
    "slideshow": {
     "slide_type": "slide"
    }
   },
   "source": [
    "## Metadata\n",
    "\n",
    "Three types\n",
    "* notebook-level, `nb.metadata`\n",
    "* cell-level, `nb.cells[0].metadata`\n",
    "* output_level (for display_data and execute_result types), `nb.cells[0].outputs[0].metadata`\n",
    "\n",
    "\n",
    "Arbitrary content, with some reserved Jupyter specific fields."
   ]
  },
  {
   "cell_type": "markdown",
   "metadata": {
    "slideshow": {
     "slide_type": "slide"
    }
   },
   "source": [
    "### Notes on notebook metadata\n",
    "\n",
    "#### Reserved notebook metadata fields:\n",
    "* `kernelspec`\n",
    "* `language_info`\n",
    "* `authors` \n",
    "* `title`"
   ]
  },
  {
   "cell_type": "markdown",
   "metadata": {
    "slideshow": {
     "slide_type": "slide"
    }
   },
   "source": [
    "### Notes on cell metadata\n",
    "\n",
    "#### Reserved cell metadata fields (all are optional):\n",
    "* `deletable`\n",
    "* `collapsed`\n",
    "* `autoscroll`\n",
    "* `jupyter` (jupyter metadata namespace, for internal use)\n",
    "* `tags` (useful for semantic customization)\n",
    "* `name` (should be unique in notebook) \n",
    "\n",
    "\n",
    "for **raw** cells:\n",
    "* `format`"
   ]
  },
  {
   "cell_type": "markdown",
   "metadata": {
    "slideshow": {
     "slide_type": "slide"
    }
   },
   "source": [
    "### Notes on ouptut metadata\n",
    "\n",
    "#### Reserved output metadata\n",
    "* `isolated`\n",
    "\n",
    "#### NB: on `display_data` and `execute_result` metadata\n",
    "Just like their `data` objects, these values are objects keyed by their mimetypes."
   ]
  }
 ],
 "metadata": {
  "celltoolbar": "Slideshow",
  "kernelspec": {
   "display_name": "Python 3",
   "language": "python",
   "name": "python3"
  },
  "language_info": {
   "codemirror_mode": {
    "name": "ipython",
    "version": 3
   },
   "file_extension": ".py",
   "mimetype": "text/x-python",
   "name": "python",
   "nbconvert_exporter": "python",
   "pygments_lexer": "ipython3",
   "version": "3.6.2"
  }
 },
 "nbformat": 4,
 "nbformat_minor": 2
}
