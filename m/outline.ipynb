{
 "cells": [
  {
   "cell_type": "markdown",
   "metadata": {
    "slideshow": {
     "slide_type": "slide"
    },
    "tags": [
     "no_reset"
    ]
   },
   "source": [
    "## Outline\n",
    "\n",
    "1. [Introduction: *.ipynb and nbformat](#Introduction:-*.ipynb-and-nbformat)\n",
    "2. [Application #1: nbconvert](#Application-#1:-nbconvert)\n",
    "3. [Application #2: Nikola](#Application-#2:-Nikola)\n",
    "4. [Application #3: RISE](#Application-#3:-RISE)\n",
    "5. [Application #4: nbgrader](#Application-#4:-nbgrader)"
   ]
  }
 ],
 "metadata": {
  "celltoolbar": "Slideshow",
  "kernelspec": {
   "display_name": "Python 3",
   "language": "python",
   "name": "python3"
  },
  "language_info": {
   "codemirror_mode": {
    "name": "ipython",
    "version": 3
   },
   "file_extension": ".py",
   "mimetype": "text/x-python",
   "name": "python",
   "nbconvert_exporter": "python",
   "pygments_lexer": "ipython3",
   "version": "3.5.1"
  }
 },
 "nbformat": 4,
 "nbformat_minor": 2
}
