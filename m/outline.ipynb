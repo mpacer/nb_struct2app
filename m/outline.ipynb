{
 "cells": [
  {
   "cell_type": "markdown",
   "metadata": {
    "tags": [
     "no_reset"
    ]
   },
   "source": [
    "## Outline\n",
    "\n",
    "1. [Introduction: the notebook document format and nbformat](#Introduction:-the-notebook-document-format-and-nbformat)\n",
    "2. [Application #1: nbconvert](#Application-#1:-nbconvert)\n",
    "3. [Application #2: Nikola](#Application-#2:-Nikola)\n",
    "4. [Application #3: RISE](#Application-#3:-RISE)\n",
    "5. [Application #4: nbgrader](#Application-#4:-nbgrader)"
   ]
  }
 ],
 "metadata": {
  "celltoolbar": "Tags",
  "kernelspec": {
   "display_name": "Python 3",
   "language": "python",
   "name": "python3"
  },
  "language_info": {
   "codemirror_mode": {
    "name": "ipython",
    "version": 3
   },
   "file_extension": ".py",
   "mimetype": "text/x-python",
   "name": "python",
   "nbconvert_exporter": "python",
   "pygments_lexer": "ipython3",
   "version": "3.6.2"
  }
 },
 "nbformat": 4,
 "nbformat_minor": 2
}
