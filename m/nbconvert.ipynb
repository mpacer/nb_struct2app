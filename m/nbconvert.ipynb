{
 "cells": [
  {
   "cell_type": "markdown",
   "metadata": {
    "slideshow": {
     "slide_type": "slide"
    }
   },
   "source": [
    "## Application #1: nbconvert"
   ]
  },
  {
   "cell_type": "markdown",
   "metadata": {
    "slideshow": {
     "slide_type": "slide"
    }
   },
   "source": [
    "\n",
    "### Additional resource:\n",
    "\n",
    "Andreas Mueller: [*Writing (and publishing) a book written in Jupyter notebooks*](https://conferences.oreilly.com/jupyter/jup-ny/public/schedule/detail/60087)"
   ]
  },
  {
   "cell_type": "markdown",
   "metadata": {
    "slideshow": {
     "slide_type": "slide"
    }
   },
   "source": [
    "## Distinction between use cases for nbformat and nbconvert\n",
    "\n",
    "`nbformat`: creating and validating notebooks \n",
    "\n",
    "`nbconvert`: manipulate existing notebooks.\n"
   ]
  },
  {
   "cell_type": "markdown",
   "metadata": {
    "slideshow": {
     "slide_type": "slide"
    }
   },
   "source": [
    "## Nbconvert use cases\n",
    "\n",
    "* converting notebooks into other formats\n",
    "    * web-display: html, slides (with reveal.js)\n",
    "    * publishable documents: LaTeX/PDF, ASCIIDoc\n",
    "    * plain-text: rst, markdown\n",
    "    * executable scripts: e.g., `*.py` "
   ]
  },
  {
   "cell_type": "markdown",
   "metadata": {
    "slideshow": {
     "slide_type": "slide"
    }
   },
   "source": [
    "## Nbconvert use cases (cont.)\n",
    "\n",
    "* manipulating notebook content \n",
    "    * cell magic (`%%R`) code highlighting\n",
    "    * removing content\n",
    "    * extracting images references for plain-text formats (LaTeX, markdown)\n",
    "* executing notebooks from the command-line"
   ]
  },
  {
   "cell_type": "markdown",
   "metadata": {
    "slideshow": {
     "slide_type": "slide"
    }
   },
   "source": [
    "## Command line Interface\n",
    "\n",
    "* [NbConvertApp](#NbConvertApp)\n",
    "\n",
    "Wrapper around around the base class functionality."
   ]
  },
  {
   "cell_type": "markdown",
   "metadata": {
    "slideshow": {
     "slide_type": "slide"
    }
   },
   "source": [
    "`NbConvertApp` defines the CLI `jupyter nbconvert`.\n",
    "\n",
    "`NbConvertApp` is also what manages the configuration as established both on the command line and via traitlet config files."
   ]
  },
  {
   "cell_type": "markdown",
   "metadata": {
    "slideshow": {
     "slide_type": "slide"
    }
   },
   "source": [
    "### Nbconvert configuration: traitlets\n",
    "\n",
    "Wide class of problems requires configurability.\n",
    "\n",
    "Configuration is specified using traitlets in either\n",
    "- dynamic configuration file: `jupyter_nbconvert_config.py`\n",
    "- static configuration file: `jupyter_nbconvert_config.json`"
   ]
  },
  {
   "cell_type": "markdown",
   "metadata": {
    "slideshow": {
     "slide_type": "slide"
    }
   },
   "source": [
    "## Base Classes\n",
    "\n",
    "* [Exporters](#Exporters)\n",
    "* [Preprocessors](#Preprocessors)\n",
    "* [Templates (and filters)](#Templates-(and-filters)\n",
    "* [Writers](#Writers-&-Postprocessors)\n",
    "* [Postprocessors](#Writers-&-Postprocessors)"
   ]
  },
  {
   "cell_type": "markdown",
   "metadata": {
    "slideshow": {
     "slide_type": "slide"
    }
   },
   "source": [
    "## Exporters\n",
    "\n",
    "Orchestration layer.\n",
    "\n",
    "Keyed to the `--to <exporter_name>` command line argument."
   ]
  },
  {
   "cell_type": "markdown",
   "metadata": {
    "slideshow": {
     "slide_type": "slide"
    }
   },
   "source": [
    "Exporters specify many aspects of conversion pipeline. E.g.:\n",
    "* which preprocessors \n",
    "* whether & which template\n",
    "* output format"
   ]
  },
  {
   "cell_type": "markdown",
   "metadata": {
    "slideshow": {
     "slide_type": "slide"
    }
   },
   "source": [
    "### The resources dictionary\n",
    "\n",
    "In addition the `NotebookNode` instance, exporters create a resources dictionary. \n",
    "\n",
    "This is useful for passing information that shouldn't exist in notebook itself.  \n",
    "E.g.,:\n",
    "* Notebook styling (for html export)\n",
    "* pygments highlighting info (for LaTeX/PDF export)"
   ]
  },
  {
   "cell_type": "markdown",
   "metadata": {
    "slideshow": {
     "slide_type": "slide"
    }
   },
   "source": [
    "## Preprocessors\n",
    "\n",
    "Notebook to notebook transformations.\n",
    "\n",
    "Can read and write to resources as necessary.\n",
    "\n",
    "**ExecutePreprocessor**: This enables CLI execution.\n",
    "\n",
    "**ClearOutputPreprocessor**: Removes outputs from notebook and output metadata.\n",
    "\n",
    "**TagRemovePreprocessor**: Removes cells tagged with particular tags specified as traitlets."
   ]
  },
  {
   "cell_type": "markdown",
   "metadata": {
    "slideshow": {
     "slide_type": "slide"
    }
   },
   "source": [
    "## Templates (and filters)\n",
    "\n",
    "Nbconvert uses Jinja2 templates. \n",
    "\n",
    "Templates inherit from one another.\n",
    "\n",
    "Templates can access `filters` that can transform the content passed through them.\n",
    "\n",
    "One of the most common filters passes the plaintext representation of a cell's source to `pandoc` for conversion."
   ]
  },
  {
   "cell_type": "markdown",
   "metadata": {
    "slideshow": {
     "slide_type": "slide"
    }
   },
   "source": [
    "### pandoc & pandocfilters\n",
    "\n",
    "`pandoc` is a library that allows conversion between a wide variety of document formats.\n",
    "\n",
    "It uses an internal json representation to represent the parsed text. \n",
    "\n",
    "`pandocfilters` is a python library that allows you to write filters that manipulate the intermediate json representation."
   ]
  },
  {
   "cell_type": "markdown",
   "metadata": {
    "slideshow": {
     "slide_type": "slide"
    }
   },
   "source": [
    "##  Writers & Postprocessors\n",
    "\n",
    "**Writers** handles the Exporter's final output.\n",
    "\n",
    "The main writer used by `nbconvert` is the `FilesWriter` which writes to disk.\n",
    "\n",
    "**Postprocessors** manipulate the file after the Writer is finished.\n",
    "\n",
    "The only postprocessor supported by `nbconvert` is the `ServePostProcessor`, which serves html page after it is written to disk."
   ]
  },
  {
   "cell_type": "markdown",
   "metadata": {
    "slideshow": {
     "slide_type": "slide"
    }
   },
   "source": [
    "## Entrypoints\n",
    "\n",
    "In addition to being highly configurable, we have a mechanism for 3rd party libraries to register `Exporters` using entrypoints. \n",
    "\n",
    "1. Define `MyExporter` \n",
    "2. package it in `my_package`"
   ]
  },
  {
   "cell_type": "markdown",
   "metadata": {
    "slideshow": {
     "slide_type": "fragment"
    }
   },
   "source": [
    "use\n",
    "\n",
    "```python\n",
    "setup(…,\n",
    "      entry_points = {'nbconvert.exporters': ['myexporter = my_package:MyExporter']}\n",
    ")\n",
    "```"
   ]
  },
  {
   "cell_type": "markdown",
   "metadata": {
    "slideshow": {
     "slide_type": "slide"
    }
   },
   "source": [
    "3. `pip install my_package`\n",
    "4. `jupyter nbconvert --to myexporter` uses your custom exporter."
   ]
  },
  {
   "cell_type": "markdown",
   "metadata": {
    "slideshow": {
     "slide_type": "slide"
    }
   },
   "source": [
    "## Multi-notebook workflows\n",
    "\n",
    "Nbconvert is designed to handle workflows that work with individual notebooks. \n",
    "\n",
    "To work with multiple notebooks requires infrastructure inside of which you would use `nbconvert` or `nbformat`. \n",
    "\n",
    "For examples of these kinds of packages see:\n",
    "- [bookbook](https://github.com/takluyver/bookbook) (html or pdf books from multiple notebooks)\n",
    "- [multi_rise](https://github.com/mpacer/multi_rise) (one slideshow from many notebooks)"
   ]
  }
 ],
 "metadata": {
  "celltoolbar": "Slideshow",
  "kernelspec": {
   "display_name": "Python 3",
   "language": "python",
   "name": "python3"
  },
  "language_info": {
   "codemirror_mode": {
    "name": "ipython",
    "version": 3
   },
   "file_extension": ".py",
   "mimetype": "text/x-python",
   "name": "python",
   "nbconvert_exporter": "python",
   "pygments_lexer": "ipython3",
   "version": "3.6.2"
  }
 },
 "nbformat": 4,
 "nbformat_minor": 2
}
