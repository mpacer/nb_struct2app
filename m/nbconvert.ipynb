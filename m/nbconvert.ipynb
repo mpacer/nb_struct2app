{
 "cells": [
  {
   "cell_type": "markdown",
   "metadata": {
    "slideshow": {
     "slide_type": "slide"
    }
   },
   "source": [
    "## Application #1: nbconvert"
   ]
  },
  {
   "cell_type": "markdown",
   "metadata": {
    "slideshow": {
     "slide_type": "slide"
    }
   },
   "source": [
    "\n",
    "### Additional resource:\n",
    "\n",
    "Andreas Mueller: [*Writing (and publishing) a book written in Jupyter notebooks*](https://conferences.oreilly.com/jupyter/jup-ny/public/schedule/detail/60087)"
   ]
  },
  {
   "cell_type": "markdown",
   "metadata": {
    "slideshow": {
     "slide_type": "slide"
    }
   },
   "source": [
    "## Distinction between use cases for nbformat and nbconvert\n",
    "\n",
    "`nbformat`: creating and validating notebooks \n",
    "\n",
    "`nbconvert`: manipulate existing notebooks.\n"
   ]
  },
  {
   "cell_type": "markdown",
   "metadata": {
    "slideshow": {
     "slide_type": "slide"
    }
   },
   "source": [
    "## Nbconvert use cases\n",
    "\n",
    "* converting notebooks into other formats\n",
    "    * web-display: html, slides (with reveal.js)\n",
    "    * publishable documents: LaTeX/PDF, ASCIIDoc\n",
    "    * plain-text: rst, markdown\n",
    "    * executable scripts: e.g., `*.py` "
   ]
  },
  {
   "cell_type": "markdown",
   "metadata": {
    "slideshow": {
     "slide_type": "slide"
    }
   },
   "source": [
    "## Nbconvert use cases (cont.)\n",
    "\n",
    "* manipulating notebook content \n",
    "    * cell magic (`%%R`) code highlighting\n",
    "    * removing content\n",
    "    * extracting images references for plain-text formats (LaTeX, markdown)\n",
    "* executing notebooks from the command-line"
   ]
  },
  {
   "cell_type": "markdown",
   "metadata": {
    "slideshow": {
     "slide_type": "slide"
    }
   },
   "source": [
    "## Command Line Interface"
   ]
  },
  {
   "cell_type": "code",
   "execution_count": null,
   "metadata": {
    "slideshow": {
     "slide_type": "fragment"
    }
   },
   "outputs": [],
   "source": [
    "!jupyter nbconvert my_demo_notebook.ipynb --to markdown\n",
    "!cat my_demo_notebook.ipynb"
   ]
  },
  {
   "cell_type": "markdown",
   "metadata": {
    "slideshow": {
     "slide_type": "slide"
    }
   },
   "source": [
    "## NbConvertApp"
   ]
  },
  {
   "cell_type": "markdown",
   "metadata": {
    "slideshow": {
     "slide_type": "fragment"
    }
   },
   "source": [
    "* manages the CLI."
   ]
  },
  {
   "cell_type": "markdown",
   "metadata": {
    "slideshow": {
     "slide_type": "fragment"
    }
   },
   "source": [
    "* manages the configuration as established both on the command line and via traitlet config files."
   ]
  },
  {
   "cell_type": "markdown",
   "metadata": {},
   "source": [
    "* wraps base class functionality."
   ]
  },
  {
   "cell_type": "markdown",
   "metadata": {
    "slideshow": {
     "slide_type": "slide"
    }
   },
   "source": [
    "### Nbconvert configuration: traitlets\n",
    "\n",
    "Configuration is specified using traitlets\n",
    "- as on-disk config file: `jupyter_nbconvert_config.(py|json)`\n",
    "- command line arguments: `jupyter nbconvert --template=basic`\n",
    "- passed to instance: `Exporter(config=Config())`"
   ]
  },
  {
   "cell_type": "markdown",
   "metadata": {
    "slideshow": {
     "slide_type": "slide"
    }
   },
   "source": [
    "## Base Classes\n",
    "\n",
    "* [Exporters](#Exporters)\n",
    "* [Preprocessors](#Preprocessors)\n",
    "* [Templates (and filters)](#Templates-(and-filters)\n",
    "* [Writers](#Writers-&-Postprocessors)\n",
    "* [Postprocessors](#Writers-&-Postprocessors)"
   ]
  },
  {
   "cell_type": "markdown",
   "metadata": {
    "slideshow": {
     "slide_type": "slide"
    }
   },
   "source": [
    "## Exporters\n",
    "\n",
    "Orchestration layer.\n",
    "\n",
    "Keyed to the `--to <exporter_name>` command line argument."
   ]
  },
  {
   "cell_type": "markdown",
   "metadata": {
    "slideshow": {
     "slide_type": "slide"
    }
   },
   "source": [
    "Exporters specify many aspects of conversion pipeline. E.g.:\n",
    "* which preprocessors \n",
    "* whether & which template\n",
    "* output format"
   ]
  },
  {
   "cell_type": "markdown",
   "metadata": {
    "slideshow": {
     "slide_type": "slide"
    }
   },
   "source": [
    "### The resources dictionary\n",
    "\n",
    "In addition the `NotebookNode` instance, exporters create a resources dictionary. \n",
    "\n",
    "This is useful for passing information that not be in the notebook itself.\n",
    "* Notebook styling (for html export)\n",
    "* metadata for populating a jekyll header"
   ]
  },
  {
   "cell_type": "markdown",
   "metadata": {
    "slideshow": {
     "slide_type": "slide"
    }
   },
   "source": [
    "## Preprocessors\n",
    "\n",
    "Notebook to notebook transformations.\n",
    "\n",
    "**ExecutePreprocessor**: This enables CLI execution.  \n",
    "**TagRemovePreprocessor**: Removes cells tagged with particular tags specified as traitlets."
   ]
  },
  {
   "cell_type": "markdown",
   "metadata": {
    "slideshow": {
     "slide_type": "slide"
    }
   },
   "source": [
    "## Templates (and filters)\n",
    "\n",
    "Nbconvert uses Jinja2 templates. \n",
    "\n",
    "Templates inherit from one another.\n",
    "\n",
    "Templates can access `filters` that can transform the content passed through them.\n",
    "\n",
    "One of the most common filters passes the plaintext representation of a cell's source to `pandoc` for conversion."
   ]
  },
  {
   "cell_type": "markdown",
   "metadata": {
    "slideshow": {
     "slide_type": "slide"
    }
   },
   "source": [
    "### pandoc & pandocfilters\n",
    "\n",
    "`pandoc` converts between formats\n",
    "\n",
    "`pandocfilters` manipulate pandoc's intermediate `JSON` representation."
   ]
  },
  {
   "cell_type": "markdown",
   "metadata": {
    "slideshow": {
     "slide_type": "slide"
    }
   },
   "source": [
    "##  Writers & Postprocessors\n",
    "\n",
    "**Writers** handles the Exporter's final output.\n",
    "\n",
    "`FilesWriter` writes to disk.\n",
    "\n",
    "**Postprocessors** manipulate the file after the Writer is finished.\n",
    "\n",
    "`ServePostProcessor` serves html file."
   ]
  },
  {
   "cell_type": "markdown",
   "metadata": {
    "slideshow": {
     "slide_type": "slide"
    }
   },
   "source": [
    "## Entrypoints\n",
    "\n",
    "In addition to being highly configurable, we have a mechanism for 3rd party libraries to register `Exporters` using entrypoints. \n",
    "\n",
    "1. Define `JekyllExporter` \n",
    "2. package it in `my_jekyll_exporter`"
   ]
  },
  {
   "cell_type": "markdown",
   "metadata": {
    "slideshow": {
     "slide_type": "slide"
    }
   },
   "source": [
    "```python\n",
    "setup(…,\n",
    "      entry_points = {\n",
    "        'nbconvert.exporters': \n",
    "            ['jekyll = my_jekyll_exporter:JekyllExporter']\n",
    "      }\n",
    ")\n",
    "```"
   ]
  },
  {
   "cell_type": "markdown",
   "metadata": {
    "slideshow": {
     "slide_type": "slide"
    }
   },
   "source": [
    "### Entrypoints (contd.)\n",
    "And with `pip install my_jekyll_exporter`…\n",
    "\n",
    "Anyone can use your exporter with  \n",
    "`jupyter nbconvert --to jekyll` \n",
    "\n"
   ]
  },
  {
   "cell_type": "markdown",
   "metadata": {
    "slideshow": {
     "slide_type": "slide"
    }
   },
   "source": [
    "## Multi-notebook workflows\n",
    "\n",
    "Nbconvert works on single notebooks. \n",
    "\n",
    "Multiple notebook conversion is still in early days.\n",
    "\n",
    "Examples:\n",
    "- [bookbook](https://github.com/takluyver/bookbook) (html or pdf books from multiple notebooks)\n",
    "- [multi_rise](https://github.com/mpacer/multi_rise) (one slideshow from many notebooks)"
   ]
  }
 ],
 "metadata": {
  "celltoolbar": "Slideshow",
  "kernelspec": {
   "display_name": "Python 3",
   "language": "python",
   "name": "python3"
  },
  "language_info": {
   "codemirror_mode": {
    "name": "ipython",
    "version": 3
   },
   "file_extension": ".py",
   "mimetype": "text/x-python",
   "name": "python",
   "nbconvert_exporter": "python",
   "pygments_lexer": "ipython3",
   "version": "3.6.2"
  }
 },
 "nbformat": 4,
 "nbformat_minor": 2
}
