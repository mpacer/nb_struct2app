{
 "cells": [
  {
   "cell_type": "markdown",
   "metadata": {
    "slideshow": {
     "slide_type": "slide"
    }
   },
   "source": [
    "## Application #1: nbconvert"
   ]
  },
  {
   "cell_type": "markdown",
   "metadata": {},
   "source": [
    "\n",
    "## Additional resource: <br>\"Writing (and publishing) a book written in Jupyter notebooks\"\n",
    "\n",
    "\n",
    "Excellent discussion of the nbconvert machinery yesterday by Andreas Mueller:  \n",
    "[link to the video(once it exists)](https://conferences.oreilly.com/jupyter/jup-ny/public/schedule/detail/60087)"
   ]
  },
  {
   "cell_type": "markdown",
   "metadata": {
    "slideshow": {
     "slide_type": "slide"
    }
   },
   "source": [
    "## Distinction between use cases for nbformat and nbconvert\n",
    "\n",
    "`nbformat`: creating and validating notebooks \n",
    "\n",
    "`nbconvert`: manipulate existing notebooks.\n"
   ]
  },
  {
   "cell_type": "markdown",
   "metadata": {
    "slideshow": {
     "slide_type": "slide"
    }
   },
   "source": [
    "## Nbconvert allows many different kinds of interactions"
   ]
  },
  {
   "cell_type": "markdown",
   "metadata": {
    "slideshow": {
     "slide_type": "fragment"
    }
   },
   "source": [
    "* converting notebooks into other formats\n",
    "\n",
    "    * web-display: html, slides (with reveal.js)\n",
    "\n",
    "    * publishable documents: LaTeX/PDF, ASCIIDoc\n",
    "\n",
    "    * plain-text: rst, markdown\n",
    "\n",
    "    * executable scripts: `.py` (and others if defined by the kernel)"
   ]
  },
  {
   "cell_type": "markdown",
   "metadata": {
    "slideshow": {
     "slide_type": "fragment"
    }
   },
   "source": [
    "* manipulating notebooks directly \n",
    "    * e.g., removing content\n",
    "* executing notebooks from the command-line"
   ]
  },
  {
   "cell_type": "markdown",
   "metadata": {
    "slideshow": {
     "slide_type": "slide"
    }
   },
   "source": [
    "## Overall architecture\n",
    "\n",
    "* Exporters\n",
    "* Preprocessors\n",
    "* Templates (and filters)\n",
    "* Writers\n",
    "* Postprocessors"
   ]
  },
  {
   "cell_type": "markdown",
   "metadata": {},
   "source": [
    "## Exporters\n",
    "\n",
    "Orchestration layer.\n",
    "\n",
    "Exporters often are used to define the Preprocessors, Templates and filters that are to be used in a notebook."
   ]
  },
  {
   "cell_type": "markdown",
   "metadata": {},
   "source": [
    "## Preprocessors\n",
    "\n",
    "Notebook to notebook transforms.\n",
    "\n",
    "This is how execution is enabled through the `ExecutePreprocessor`."
   ]
  },
  {
   "cell_type": "markdown",
   "metadata": {},
   "source": [
    "## "
   ]
  }
 ],
 "metadata": {
  "celltoolbar": "Slideshow",
  "kernelspec": {
   "display_name": "Python 3",
   "language": "python",
   "name": "python3"
  },
  "language_info": {
   "codemirror_mode": {
    "name": "ipython",
    "version": 3
   },
   "file_extension": ".py",
   "mimetype": "text/x-python",
   "name": "python",
   "nbconvert_exporter": "python",
   "pygments_lexer": "ipython3",
   "version": "3.6.2"
  }
 },
 "nbformat": 4,
 "nbformat_minor": 2
}
