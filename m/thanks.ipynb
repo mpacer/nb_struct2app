{
 "cells": [
  {
   "cell_type": "markdown",
   "metadata": {
    "slideshow": {
     "slide_type": "slide"
    },
    "tags": [
     "no_reset"
    ]
   },
   "source": [
    "# Thanks! Any questions?\n",
    "\n",
    "### M Pacer ([@mdpacer](https://twitter.com/mdpacer))\n",
    "\n",
    "### Damián Avila ([@damian_avila](https://twitter.com/damian_avila))\n",
    "\n",
    "### Jess Hamrick ([@jhamrick](https://twitter.com/jhamrick))"
   ]
  }
 ],
 "metadata": {
  "celltoolbar": "Tags",
  "kernelspec": {
   "display_name": "Python 3",
   "language": "python",
   "name": "python3"
  },
  "language_info": {
   "codemirror_mode": {
    "name": "ipython",
    "version": 3
   },
   "file_extension": ".py",
   "mimetype": "text/x-python",
   "name": "python",
   "nbconvert_exporter": "python",
   "pygments_lexer": "ipython3",
   "version": "3.6.2"
  }
 },
 "nbformat": 4,
 "nbformat_minor": 2
}
