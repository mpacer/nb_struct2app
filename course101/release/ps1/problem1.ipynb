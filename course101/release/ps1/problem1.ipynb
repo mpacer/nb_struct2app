{
 "cells": [
  {
   "cell_type": "markdown",
   "metadata": {},
   "source": [
    "The idea of reasoning by following simple rules provides an attractively straightforward characterization of cognition. However, production systems can be very difficult to design in ways that are guaranteed to always work. In this problem, you will write some functions to help you work with production systems, and then you will use those functions to reason about several different sets of rules."
   ]
  },
  {
   "cell_type": "markdown",
   "metadata": {},
   "source": [
    "## Part A (1 point)"
   ]
  },
  {
   "cell_type": "markdown",
   "metadata": {},
   "source": [
    "We will represent a set of beliefs using Python sets: each element in the set corresponds to a true proposition. For example, the following belief states that `'a'` and `'b'` are true propositions:"
   ]
  },
  {
   "cell_type": "code",
   "execution_count": null,
   "metadata": {},
   "outputs": [],
   "source": [
    "example_belief = {'a', 'b'}"
   ]
  },
  {
   "cell_type": "markdown",
   "metadata": {},
   "source": [
    "As a quick refresher, Python sets are **unique, unordered collections** of objects. You can check if an item is in a set with the `in` keyword:"
   ]
  },
  {
   "cell_type": "code",
   "execution_count": null,
   "metadata": {},
   "outputs": [],
   "source": [
    "'a' in example_belief"
   ]
  },
  {
   "cell_type": "code",
   "execution_count": null,
   "metadata": {},
   "outputs": [],
   "source": [
    "'c' in example_belief"
   ]
  },
  {
   "cell_type": "markdown",
   "metadata": {},
   "source": [
    "You can add new things to the set using the `.add()` method, for example:"
   ]
  },
  {
   "cell_type": "code",
   "execution_count": null,
   "metadata": {},
   "outputs": [],
   "source": [
    "example_belief.add('c')\n",
    "example_belief"
   ]
  },
  {
   "cell_type": "markdown",
   "metadata": {},
   "source": [
    "So, our beliefs will be represented using sets, and we will represent the rules of our production system using a list of 2-tuples. Each tuple contains a *condition* and a *result*. The rule can be applied if the condition is present in the set of beliefs; if the rule is applied, then the result should be added to the set of beliefs. For example, the following belief again consists of `'a'` and `'b'`, and the rules state that \"if a, then b\" and that \"if c, then d\":"
   ]
  },
  {
   "cell_type": "code",
   "execution_count": null,
   "metadata": {},
   "outputs": [],
   "source": [
    "example_belief = {'a', 'b'}\n",
    "example_rules = [('a', 'b'), ('c', 'd')]"
   ]
  },
  {
   "cell_type": "markdown",
   "metadata": {},
   "source": [
    "To help visualize the rules a bit better, here is a function called `print_rules` that will print out each rule on a separate line:"
   ]
  },
  {
   "cell_type": "code",
   "execution_count": null,
   "metadata": {
    "deletable": false,
    "editable": false,
    "nbgrader": {
     "checksum": "d27c74f327d0448d31544726916ae5cf",
     "grade": false,
     "grade_id": "print_rules",
     "locked": true,
     "schema_version": 1,
     "solution": false
    }
   },
   "outputs": [],
   "source": [
    "def print_rules(rules):\n",
    "    for rule in rules:\n",
    "        print(str(rule[0]) + \" --> \" + str(rule[1]))"
   ]
  },
  {
   "cell_type": "code",
   "execution_count": null,
   "metadata": {},
   "outputs": [],
   "source": [
    "print_rules(example_rules)"
   ]
  },
  {
   "cell_type": "markdown",
   "metadata": {},
   "source": [
    "<div class=\"alert alert-success\">Using the representation of beliefs and rules specified above, write a function called <code>match</code> that searches through a given list of rules to find a rule that is triggered by the given set of beliefs.</div>"
   ]
  },
  {
   "cell_type": "code",
   "execution_count": null,
   "metadata": {
    "deletable": false,
    "nbgrader": {
     "checksum": "19f7bfd22d168d3ca40f43b29937860b",
     "grade": false,
     "grade_id": "match",
     "locked": false,
     "schema_version": 1,
     "solution": true
    }
   },
   "outputs": [],
   "source": [
    "def match(belief, rules):\n",
    "    \"\"\"Determine whether a rule is triggered by the given set of beliefs.\n",
    "\n",
    "    The *first* rule in the list of rules that is triggered should be\n",
    "    returned (and you should only ever return one rule, even if multiple are\n",
    "    triggered). If no rule is triggered, None should be returned.\n",
    "\n",
    "    A rule should only be triggered if it adds something new to the set of \n",
    "    beliefs: for example, if the beliefs are `{'a', 'b'}`, and there is only \n",
    "    one rule, `('a', 'b')`, then it should not be triggered because it \n",
    "    doesn't add anything new. If the beliefs were just `{'a'}`, however, then \n",
    "    the rule *should* be triggered because it would add `b` to the set of \n",
    "    beliefs.\n",
    "\n",
    "    Hint: you should be able to do this in four lines of code (or less),\n",
    "    including the return statement.\n",
    "    \n",
    "    Parameters\n",
    "    ----------\n",
    "    belief : set\n",
    "        A set of true propositions.\n",
    "    rules : list of tuples\n",
    "        A list of tuples, such that for each tuple, the first element implies\n",
    "        the second (but not vice versa).\n",
    "        \n",
    "    Returns\n",
    "    -------\n",
    "    The first rule (tuple) that was triggered, or None if no rules were triggered.\n",
    "    \n",
    "    \"\"\"\n",
    "    # YOUR CODE HERE\n",
    "    raise NotImplementedError()"
   ]
  },
  {
   "cell_type": "markdown",
   "metadata": {},
   "source": [
    "Check that your function behaves as expected, based on the example given above:"
   ]
  },
  {
   "cell_type": "code",
   "execution_count": null,
   "metadata": {},
   "outputs": [],
   "source": [
    "print(match({'a'}, [('a', 'b')])) # should print ('a', 'b')"
   ]
  },
  {
   "cell_type": "code",
   "execution_count": null,
   "metadata": {},
   "outputs": [],
   "source": [
    "print(match({'a', 'b'}, [('a', 'b')])) # should print None"
   ]
  },
  {
   "cell_type": "code",
   "execution_count": null,
   "metadata": {},
   "outputs": [],
   "source": [
    "# add your own test cases here!\n"
   ]
  },
  {
   "cell_type": "code",
   "execution_count": null,
   "metadata": {
    "deletable": false,
    "editable": false,
    "nbgrader": {
     "checksum": "32177cdb2bd9bcbf40ae05256c0d55fc",
     "grade": true,
     "grade_id": "test_match",
     "locked": false,
     "points": 1,
     "schema_version": 1,
     "solution": false
    }
   },
   "outputs": [],
   "source": [
    "from nose.tools import assert_equal\n",
    "\n",
    "# check that a --> b is triggered\n",
    "assert_equal(match({'a'}, [('a', 'b')]), ('a', 'b'))\n",
    "\n",
    "# check that nothing is triggered, because 'b' does not trigger any rules\n",
    "assert_equal(match({'b'}, [('a', 'b')]), None)\n",
    "\n",
    "# check that nothing is triggered, because 'a' and 'b' are already in the belief\n",
    "assert_equal(match({'a', 'b'}, [('a', 'b')]), None)\n",
    "\n",
    "# check that a --> b is triggered\n",
    "assert_equal(match({'a'}, [('a', 'b'), ('b', 'c')]), ('a', 'b'))\n",
    "\n",
    "# check that b --> c is triggered\n",
    "assert_equal(match({'a', 'b'}, [('a', 'b'), ('b', 'c')]), ('b', 'c'))\n",
    "    \n",
    "# check that nothing is triggered, because 'a', 'b', and 'c' are already in the belief\n",
    "assert_equal(match({'a', 'b', 'c'}, [('a', 'b'), ('b', 'c')]), None)\n",
    "\n",
    "print(\"Success!\")"
   ]
  },
  {
   "cell_type": "markdown",
   "metadata": {},
   "source": [
    "## Part B (1.5 points)"
   ]
  },
  {
   "cell_type": "markdown",
   "metadata": {},
   "source": [
    "Now that we have a way to trigger rules based on a set of beliefs, we want to engage in a process called [forward chaining](http://en.wikipedia.org/wiki/Forward_chaining). The idea behind forward chaining is that we want to execute rules that are triggered by our beliefs, and to continue triggering rules until no more can be triggered. For example, if we have:\n",
    "\n",
    "```python\n",
    "rules = [(\"belief1\", \"belief2\"), (\"belief2\", \"belief3\")]\n",
    "belief = {\"belief1\"}\n",
    "```\n",
    "\n",
    "To start out, we have `belief_1`, but we also have a rule \"if `belief_1`, then `belief_2`\". So, we should update our belief with `belief_2`.\n",
    "\n",
    "Then, we have *another* rule that says \"if `belief_2`, then `belief_3`\". Because our belief now consists of both `belief_1` and `belief_2` (due to triggering the first rule), this second rule should also be triggered, and should add `belief_3` to our total set of beliefs."
   ]
  },
  {
   "cell_type": "markdown",
   "metadata": {},
   "source": [
    "<div class=\"alert alert-success\">Write a function, <code>forward_chain</code>, to automatically perform forward chaining using a given set of initial beliefs and rules.</div>"
   ]
  },
  {
   "cell_type": "markdown",
   "metadata": {},
   "source": [
    "Make sure your function does in fact perform full forward chaining -- if there are two matching rules, but only one matches at the beginning, they should still both be triggered:"
   ]
  },
  {
   "cell_type": "code",
   "execution_count": null,
   "metadata": {
    "deletable": false,
    "nbgrader": {
     "checksum": "ecba59778d96bec84de551d0cf471f82",
     "grade": false,
     "grade_id": "forward_chain",
     "locked": false,
     "schema_version": 1,
     "solution": true
    }
   },
   "outputs": [],
   "source": [
    "def forward_chain(belief, rules):\n",
    "    \"\"\"Fully execute a set of given rules that match a given belief, until\n",
    "    no more new rules are triggered. That is, this function should:\n",
    "    (i) Scan through the rules until it finds rule(s) which are applicable,\n",
    "    (ii) trigger such rules and update beliefs,\n",
    "    (iii) repeat (i) and (ii) until no further rules can be triggered.\n",
    "    \n",
    "    Returns a new set of beliefs (without changing the original set of beliefs) \n",
    "    based on which rules were triggered.\n",
    "\n",
    "    Note: this function should employ a `while` loop and should call the `match` \n",
    "    function you implemented in the first part of this problem.\n",
    "\n",
    "    Hint: you should be able to do this in 8 lines of code, including the\n",
    "    return statement.\n",
    "    \n",
    "    Parameters\n",
    "    ----------\n",
    "    belief : set\n",
    "        A set of true propositions.\n",
    "    rules : list of tuples\n",
    "        A list of tuples, such that for each tuple, the first element implies\n",
    "        the second (but not vice versa).\n",
    "        \n",
    "    Returns\n",
    "    -------\n",
    "    tuple of (new_belief, triggered_rules):\n",
    "        new_belief is an updated set of true propositions, and triggered_rules\n",
    "        is the list of rules that were triggered, in order.\n",
    "        \n",
    "    \"\"\"\n",
    "    # YOUR CODE HERE\n",
    "    raise NotImplementedError()"
   ]
  },
  {
   "cell_type": "code",
   "execution_count": null,
   "metadata": {},
   "outputs": [],
   "source": [
    "b, r = forward_chain({'a'}, [('a', 'b'), ('b', 'c')])\n",
    "print_rules(r) # should print both 'a --> b' and 'b --> c'\n",
    "b              # should be {'a', 'b', 'c'}"
   ]
  },
  {
   "cell_type": "code",
   "execution_count": null,
   "metadata": {},
   "outputs": [],
   "source": [
    "# add your own test cases here!\n"
   ]
  },
  {
   "cell_type": "code",
   "execution_count": null,
   "metadata": {
    "deletable": false,
    "editable": false,
    "nbgrader": {
     "checksum": "f2ee5a4cf02dd6ae2a9a6ac8f9102671",
     "grade": true,
     "grade_id": "forward_chain_uses_match",
     "locked": false,
     "points": 0.25,
     "schema_version": 1,
     "solution": false
    }
   },
   "outputs": [],
   "source": [
    "\"\"\"Check that `forward_chain` uses the `match` function.\"\"\"\n",
    "from nose.tools import assert_raises\n",
    "orig_match = match\n",
    "del match\n",
    "try:\n",
    "    assert_raises(NameError, forward_chain, {'a'}, [('a', 'b')])\n",
    "finally:\n",
    "    match = orig_match\n",
    "\n",
    "print(\"Success!\")"
   ]
  },
  {
   "cell_type": "code",
   "execution_count": null,
   "metadata": {
    "deletable": false,
    "editable": false,
    "nbgrader": {
     "checksum": "93d43b09acc10499d9a0be24fc434272",
     "grade": true,
     "grade_id": "forward_chain_immutable_belief",
     "locked": false,
     "points": 0.25,
     "schema_version": 1,
     "solution": false
    }
   },
   "outputs": [],
   "source": [
    "\"\"\"Ensure that the new belief is a different object from the original belief.\"\"\"\n",
    "b1 = {'a'}\n",
    "b2 = forward_chain(b1, [('a', 'b')])\n",
    "assert_equal(b1, {'a'})\n",
    "assert_equal(b2, ({'a', 'b'}, [('a', 'b')]))\n",
    "\n",
    "print(\"Success!\")"
   ]
  },
  {
   "cell_type": "code",
   "execution_count": null,
   "metadata": {
    "deletable": false,
    "editable": false,
    "nbgrader": {
     "checksum": "82941fc7253fec4c6be9352de7eee17b",
     "grade": true,
     "grade_id": "test_forward_chain",
     "locked": false,
     "points": 1,
     "schema_version": 1,
     "solution": false
    }
   },
   "outputs": [],
   "source": [
    "\"\"\"Check that full forward chaining works.\"\"\"\n",
    "b, r = forward_chain({'a'}, [('a', 'b'), ('b', 'c'), ('c', 'd')])\n",
    "assert_equal(b, {'a', 'b', 'c', 'd'})\n",
    "assert_equal(r, [('a', 'b'), ('b', 'c'), ('c', 'd')])\n",
    "\n",
    "b, r = forward_chain({'a'}, [('b', 'c'), ('c', 'd'), ('a', 'b')])\n",
    "assert_equal(b, {'a', 'b', 'c', 'd'})\n",
    "assert_equal(r, [('a', 'b'), ('b', 'c'), ('c', 'd')])\n",
    "\n",
    "b, r = forward_chain({'a'}, [('a', 'c'), ('a', 'b')])\n",
    "assert_equal(b, {'a', 'b', 'c'})\n",
    "assert_equal(r, [('a', 'c'), ('a', 'b')])\n",
    "\n",
    "b, r = forward_chain({'b'}, [('a', 'b'), ('b', 'c')])\n",
    "assert_equal(b, {'b', 'c'})\n",
    "assert_equal(r, [('b', 'c')])\n",
    "\n",
    "b, r = forward_chain({'a', 'b', 'c'}, [('b', 'c'), ('b', 'a'), ('a', 'b')])\n",
    "assert_equal(b, {'a', 'b', 'c'})\n",
    "assert_equal(r, [])\n",
    "\n",
    "b, r = forward_chain(set(), [('b', 'c'), ('b', 'a'), ('a', 'b')])\n",
    "assert_equal(b, set())\n",
    "assert_equal(r, [])\n",
    "\n",
    "print(\"Success!\")"
   ]
  },
  {
   "cell_type": "markdown",
   "metadata": {},
   "source": [
    "## Part C (0.5 points)"
   ]
  },
  {
   "cell_type": "markdown",
   "metadata": {},
   "source": [
    "Imagine you have a small sprinkler that can water your grass, but does not reach the path you walk on, or your car. However, if it rains, then the car and the path both get wet. The sprinkler definitely comes on if the appropriate switch is flipped. We might try to capture this information in a production system as follows:\n",
    "\n",
    "    IF switch is flipped THEN sprinkler was on\n",
    "    IF sprinkler was on THEN grass is wet\n",
    "    IF it rained THEN car is wet\n",
    "    IF it rained THEN path is slippery\n",
    "    IF it rained THEN grass is wet\n",
    "\n",
    "Or, in Python:"
   ]
  },
  {
   "cell_type": "code",
   "execution_count": null,
   "metadata": {
    "deletable": false,
    "editable": false,
    "nbgrader": {
     "checksum": "835bcc10b2f597722f80d079bdd7c0d9",
     "grade": false,
     "grade_id": "rules_1",
     "locked": true,
     "schema_version": 1,
     "solution": false
    }
   },
   "outputs": [],
   "source": [
    "rules_1 = [\n",
    "    ('switch is flipped', 'sprinkler was on'),\n",
    "    ('sprinkler was on', 'grass is wet'),\n",
    "    ('it rained', 'car is wet'),\n",
    "    ('it rained', 'path is slippery'),\n",
    "    ('it rained', 'grass is wet')\n",
    "]"
   ]
  },
  {
   "cell_type": "markdown",
   "metadata": {},
   "source": [
    "If you now observed `switch is flipped` but nothing else, what would the above production system lead you to conclude? Use your `forward_chain` function to find out:"
   ]
  },
  {
   "cell_type": "code",
   "execution_count": null,
   "metadata": {
    "deletable": false,
    "editable": false,
    "nbgrader": {
     "checksum": "f8f210d8e1bb12717ad183635d6821df",
     "grade": false,
     "grade_id": "belief_1",
     "locked": true,
     "schema_version": 1,
     "solution": false
    }
   },
   "outputs": [],
   "source": [
    "# perform forward chaining on the belief that 'switch is flipped'\n",
    "belief_1, triggered_rules_1 = forward_chain({'switch is flipped'}, rules_1)\n",
    "\n",
    "# print which rules were triggered\n",
    "print_rules(triggered_rules_1)\n",
    "\n",
    "# show the final belief\n",
    "belief_1"
   ]
  },
  {
   "cell_type": "markdown",
   "metadata": {},
   "source": [
    "<div class=\"alert alert-success\">\n",
    "In words, what do the production rules have to say about the states of the sprinkler, grass, car, and the path given that you observed that the switch is flipped? Be careful to only report beliefs that are justified by your observations and the triggered rules of our production system and _not_ what you personally believe!\n",
    "</div>"
   ]
  },
  {
   "cell_type": "markdown",
   "metadata": {
    "deletable": false,
    "nbgrader": {
     "checksum": "fad8963e2894e8732648dbe5d399a00e",
     "grade": true,
     "grade_id": "explain_rules_1",
     "locked": false,
     "points": 0.5,
     "schema_version": 1,
     "solution": true
    }
   },
   "source": [
    "YOUR ANSWER HERE"
   ]
  },
  {
   "cell_type": "markdown",
   "metadata": {},
   "source": [
    "## Part D (0.5 points)"
   ]
  },
  {
   "cell_type": "markdown",
   "metadata": {},
   "source": [
    "For this next section, let's imagine a different production system that is similar but ultimately **unrelated** to the one we defined in Part C:\n",
    "\n",
    "    IF sprinkler was on THEN switch is flipped\n",
    "    IF car is wet THEN it rained\n",
    "    IF path is slippery THEN it rained\n",
    "    IF grass is wet THEN it rained\n",
    "\n",
    "Or, in Python:"
   ]
  },
  {
   "cell_type": "code",
   "execution_count": null,
   "metadata": {
    "deletable": false,
    "editable": false,
    "nbgrader": {
     "checksum": "b7d3f7e97f4b3ad3981a9a00e51ae5cc",
     "grade": false,
     "grade_id": "rules_2",
     "locked": true,
     "schema_version": 1,
     "solution": false
    }
   },
   "outputs": [],
   "source": [
    "rules_2 = [\n",
    "    ('sprinkler was on', 'switch is flipped'),\n",
    "    ('car is wet', 'it rained'),\n",
    "    ('path is slippery', 'it rained'),\n",
    "    ('grass is wet', 'it rained')\n",
    "]"
   ]
  },
  {
   "cell_type": "markdown",
   "metadata": {},
   "source": [
    "In this new production system, if you knew only that the grass is wet what would you conclude? Again, you can use your `forward_chain` function to find out:"
   ]
  },
  {
   "cell_type": "code",
   "execution_count": null,
   "metadata": {
    "deletable": false,
    "editable": false,
    "nbgrader": {
     "checksum": "e006186b3672513efafd8fc1ade5bf0e",
     "grade": false,
     "grade_id": "belief_2",
     "locked": true,
     "schema_version": 1,
     "solution": false
    }
   },
   "outputs": [],
   "source": [
    "# perform forward chaining on the belief that 'grass is wet'\n",
    "belief_2, triggered_rules_2 = forward_chain({'grass is wet'}, rules_2)\n",
    "\n",
    "# print which rules were triggered\n",
    "print_rules(triggered_rules_2)\n",
    "\n",
    "# show the final belief\n",
    "belief_2"
   ]
  },
  {
   "cell_type": "markdown",
   "metadata": {},
   "source": [
    "<div class=\"alert alert-success\">\n",
    "What conclusion(s) do you draw? Intuitively, do they seem like valid or reasonable inferences to make given the rules of your production system? Explain.\n",
    "</div>"
   ]
  },
  {
   "cell_type": "markdown",
   "metadata": {
    "deletable": false,
    "nbgrader": {
     "checksum": "3fc18f7153981514905b5c6800277ad5",
     "grade": true,
     "grade_id": "explain_rules_2",
     "locked": false,
     "points": 0.5,
     "schema_version": 1,
     "solution": true
    }
   },
   "source": [
    "YOUR ANSWER HERE"
   ]
  },
  {
   "cell_type": "markdown",
   "metadata": {},
   "source": [
    "## Part E (1.5 points)"
   ]
  },
  {
   "cell_type": "markdown",
   "metadata": {},
   "source": [
    "Finally, we can imagine a third production system where the rules apply in both directions:\n",
    "\n",
    "    IF switch is flipped THEN sprinkler was on\n",
    "    IF sprinkler was on THEN grass is wet\n",
    "    IF it is raining THEN car is wet\n",
    "    IF it is raining THEN path is slippery\n",
    "    IF it is raining THEN grass is wet\n",
    "    IF sprinkler was on THEN switch is flipped\n",
    "    IF car is wet THEN it is raining\n",
    "    IF path is slippery THEN it is raining\n",
    "    IF grass is wet THEN it is raining\n",
    "\n",
    "If you observed `sprinkler was on`, what would you conclude? You can again use `forward_chain`:"
   ]
  },
  {
   "cell_type": "code",
   "execution_count": null,
   "metadata": {
    "deletable": false,
    "editable": false,
    "nbgrader": {
     "checksum": "ef84170f65e020dea6bc92a602082f46",
     "grade": false,
     "grade_id": "belief_3",
     "locked": true,
     "schema_version": 1,
     "solution": false
    }
   },
   "outputs": [],
   "source": [
    "# perform forward chaining on the belief that 'sprinkler was on'\n",
    "belief_3, triggered_rules_3 = forward_chain({'sprinkler was on'}, rules_1 + rules_2)\n",
    "\n",
    "# print which rules were triggered\n",
    "print_rules(triggered_rules_3)\n",
    "\n",
    "# show the final belief\n",
    "belief_3"
   ]
  },
  {
   "cell_type": "markdown",
   "metadata": {},
   "source": [
    "<div class=\"alert alert-success\">\n",
    "Do these conclusions match your intuitions about what inferences should or should not be valid? Explain your reasoning.\n",
    "</div>"
   ]
  },
  {
   "cell_type": "markdown",
   "metadata": {
    "deletable": false,
    "nbgrader": {
     "checksum": "6d5ec2c0951d009f57a984741a457f2b",
     "grade": true,
     "grade_id": "explain_rules_3",
     "locked": false,
     "points": 0.5,
     "schema_version": 1,
     "solution": true
    }
   },
   "source": [
    "YOUR ANSWER HERE"
   ]
  },
  {
   "cell_type": "markdown",
   "metadata": {},
   "source": [
    "<div class=\"alert alert-success\">\n",
    "What does this tell us about the limitations of production systems?\n",
    "</div>"
   ]
  },
  {
   "cell_type": "markdown",
   "metadata": {
    "deletable": false,
    "nbgrader": {
     "checksum": "f9854aba01986aefcc8c82d34b9e49db",
     "grade": true,
     "grade_id": "explain_limits",
     "locked": false,
     "points": 1,
     "schema_version": 1,
     "solution": true
    }
   },
   "source": [
    "YOUR ANSWER HERE"
   ]
  }
 ],
 "metadata": {
  "kernelspec": {
   "display_name": "Python 3",
   "language": "python",
   "name": "python3"
  },
  "language_info": {
   "codemirror_mode": {
    "name": "ipython",
    "version": 3
   },
   "file_extension": ".py",
   "mimetype": "text/x-python",
   "name": "python",
   "nbconvert_exporter": "python",
   "pygments_lexer": "ipython3",
   "version": "3.5.1"
  }
 },
 "nbformat": 4,
 "nbformat_minor": 1
}
