{
 "cells": [
  {
   "cell_type": "markdown",
   "metadata": {
    "slideshow": {
     "slide_type": "slide"
    }
   },
   "source": [
    "# Application #4: nbgrader"
   ]
  },
  {
   "cell_type": "markdown",
   "metadata": {
    "slideshow": {
     "slide_type": "slide"
    }
   },
   "source": [
    "# Notebooks are perfect for weaving together instructions, coding exercises, plotting exercises, written responses, etc."
   ]
  },
  {
   "cell_type": "markdown",
   "metadata": {
    "slideshow": {
     "slide_type": "fragment"
    }
   },
   "source": [
    "# [Example Instructor Notebook](course101/source/ps1/problem1.ipynb)"
   ]
  },
  {
   "cell_type": "markdown",
   "metadata": {
    "slideshow": {
     "slide_type": "slide"
    }
   },
   "source": [
    "# nbgrader: a tool for creating and grading assignments in Jupyter notebooks"
   ]
  },
  {
   "cell_type": "markdown",
   "metadata": {
    "slideshow": {
     "slide_type": "slide"
    }
   },
   "source": [
    "# nbgrader: a tool for ***creating*** and grading assignments in Jupyter notebooks"
   ]
  },
  {
   "cell_type": "markdown",
   "metadata": {
    "slideshow": {
     "slide_type": "slide"
    }
   },
   "source": [
    "![](autograded-answer-cell.png)"
   ]
  },
  {
   "cell_type": "raw",
   "metadata": {
    "slideshow": {
     "slide_type": "slide"
    }
   },
   "source": [
    "{\n",
    "  \"nbgrader\": {\n",
    "    \"grade\": false,        # this is not a test cell\n",
    "    \"locked\": false,       # this cell should be editable\n",
    "    \"solution\": true,      # this cell will contain a \n",
    "                           # student's solution\n",
    "    \"grade_id\": \"squares\", # the name of the cell\n",
    "    \"schema_version\": 1    # the metadata version\n",
    "  },\n",
    "  \"collapsed\": true,\n",
    "  \"trusted\": true\n",
    "}"
   ]
  },
  {
   "cell_type": "markdown",
   "metadata": {
    "slideshow": {
     "slide_type": "slide"
    }
   },
   "source": [
    "# nbgrader assign"
   ]
  },
  {
   "cell_type": "markdown",
   "metadata": {
    "slideshow": {
     "slide_type": "fragment"
    }
   },
   "source": [
    "* Clear the instructor solutions (`ClearSolutions` preprocessor)"
   ]
  },
  {
   "cell_type": "markdown",
   "metadata": {
    "slideshow": {
     "slide_type": "fragment"
    }
   },
   "source": [
    "* Make test cells uneditable (`LockCells` preprocessor)"
   ]
  },
  {
   "cell_type": "markdown",
   "metadata": {
    "slideshow": {
     "slide_type": "fragment"
    }
   },
   "source": [
    "* Clear cell output (`ClearOutput` preprocessor)"
   ]
  },
  {
   "cell_type": "markdown",
   "metadata": {
    "slideshow": {
     "slide_type": "fragment"
    }
   },
   "source": [
    "* ... etc. ..."
   ]
  },
  {
   "cell_type": "code",
   "execution_count": 3,
   "metadata": {
    "slideshow": {
     "slide_type": "slide"
    }
   },
   "outputs": [
    {
     "name": "stderr",
     "output_type": "stream",
     "text": [
      "[AssignApp | WARNING] No nbgrader_config.py file found (rerun with --debug to see where nbgrader is looking)\n",
      "[AssignApp | DEBUG] Searching ['/Users/jhamrick/Dropbox/presentations/2017.08.25-jupytercon/jess/course101', '/Users/jhamrick/.jupyter', '/Users/jhamrick/miniconda3/envs/jupytercon/etc/jupyter', '/usr/local/etc/jupyter', '/etc/jupyter'] for config files\n",
      "[AssignApp | DEBUG] Looking for jupyter_config in /etc/jupyter\n",
      "[AssignApp | DEBUG] Looking for jupyter_config in /usr/local/etc/jupyter\n",
      "[AssignApp | DEBUG] Looking for jupyter_config in /Users/jhamrick/miniconda3/envs/jupytercon/etc/jupyter\n",
      "[AssignApp | DEBUG] Looking for jupyter_config in /Users/jhamrick/.jupyter\n",
      "[AssignApp | DEBUG] Looking for jupyter_config in /Users/jhamrick/Dropbox/presentations/2017.08.25-jupytercon/jess/course101\n",
      "[AssignApp | DEBUG] Looking for nbgrader_config in /etc/jupyter\n",
      "[AssignApp | DEBUG] Looking for nbgrader_config in /usr/local/etc/jupyter\n",
      "[AssignApp | DEBUG] Looking for nbgrader_config in /Users/jhamrick/miniconda3/envs/jupytercon/etc/jupyter\n",
      "[AssignApp | DEBUG] Looking for nbgrader_config in /Users/jhamrick/.jupyter\n",
      "[AssignApp | DEBUG] Looking for nbgrader_config in /Users/jhamrick/Dropbox/presentations/2017.08.25-jupytercon/jess/course101\n",
      "[AssignApp | DEBUG] Looking for nbgrader_config in /Users/jhamrick/Dropbox/presentations/2017.08.25-jupytercon/jess/course101\n",
      "[AssignApp | WARNING] Removing existing assignment: /Users/jhamrick/Dropbox/presentations/2017.08.25-jupytercon/jess/course101/release/ps1\n",
      "[AssignApp | INFO] Copying /Users/jhamrick/Dropbox/presentations/2017.08.25-jupytercon/jess/course101/source/./ps1/jupyter.png -> /Users/jhamrick/Dropbox/presentations/2017.08.25-jupytercon/jess/course101/release/./ps1/jupyter.png\n",
      "[AssignApp | INFO] Updating/creating assignment 'ps1': {}\n",
      "[AssignApp | INFO] Converting notebook /Users/jhamrick/Dropbox/presentations/2017.08.25-jupytercon/jess/course101/source/./ps1/problem1.ipynb\n",
      "[AssignApp | DEBUG] Student: .\n",
      "[AssignApp | DEBUG] Assignment: ps1\n",
      "[AssignApp | DEBUG] Notebook: problem1\n",
      "[AssignApp | DEBUG] Applying preprocessor: IncludeHeaderFooter\n",
      "[AssignApp | DEBUG] Applying preprocessor: LockCells\n",
      "[AssignApp | DEBUG] Applying preprocessor: ClearSolutions\n",
      "[AssignApp | DEBUG] Applying preprocessor: ClearOutput\n",
      "[AssignApp | DEBUG] Applying preprocessor: CheckCellMetadata\n",
      "[AssignApp | DEBUG] Applying preprocessor: ComputeChecksums\n",
      "[AssignApp | DEBUG] Checksum for 'squares' is 8f1eab8d02a9520920aa06f8a86a2492\n",
      "[AssignApp | DEBUG] Checksum for 'correct_squares' is 8f41dd0f9c8fd2da8e8708d73e506b3a\n",
      "[AssignApp | DEBUG] Checksum for 'squares_invalid_input' is 23c2b667d3b60eff3be46eb3290a6b4a\n",
      "[AssignApp | DEBUG] Checksum for 'sum_of_squares' is 166e1abc6621f93f8084ec312c49f757\n",
      "[AssignApp | DEBUG] Checksum for 'correct_sum_of_squares' is 35f884697f5b0145e7306523a083cfd1\n",
      "[AssignApp | DEBUG] Checksum for 'sum_of_squares_uses_squares' is 2d414bfb292d5a6d2b442fc7d8206a0b\n",
      "[AssignApp | DEBUG] Checksum for 'sum_of_squares_equation' is f3cc38a3e522c0be10852ebbe2a638b7\n",
      "[AssignApp | DEBUG] Checksum for 'sum_of_squares_application' is 5a96910dbc324f5565edf92f5c98af1b\n",
      "[AssignApp | DEBUG] Applying preprocessor: SaveCells\n",
      "[AssignApp | DEBUG] Creating notebook 'problem1' in the database\n",
      "[AssignApp | DEBUG] Notebook kernelspec: {'display_name': 'Python 3', 'language': 'python', 'name': 'python3'}\n",
      "[AssignApp | DEBUG] Recorded grade cell GradeCell<ps1/problem1/correct_squares> into the gradebook\n",
      "[AssignApp | DEBUG] Recorded grade cell GradeCell<ps1/problem1/squares_invalid_input> into the gradebook\n",
      "[AssignApp | DEBUG] Recorded grade cell GradeCell<ps1/problem1/correct_sum_of_squares> into the gradebook\n",
      "[AssignApp | DEBUG] Recorded grade cell GradeCell<ps1/problem1/sum_of_squares_uses_squares> into the gradebook\n",
      "[AssignApp | DEBUG] Recorded grade cell GradeCell<ps1/problem1/sum_of_squares_equation> into the gradebook\n",
      "[AssignApp | DEBUG] Recorded grade cell GradeCell<ps1/problem1/sum_of_squares_application> into the gradebook\n",
      "[AssignApp | DEBUG] Recorded solution cell Notebook<ps1/problem1>/squares into the gradebook\n",
      "[AssignApp | DEBUG] Recorded solution cell Notebook<ps1/problem1>/sum_of_squares into the gradebook\n",
      "[AssignApp | DEBUG] Recorded solution cell Notebook<ps1/problem1>/sum_of_squares_equation into the gradebook\n",
      "[AssignApp | DEBUG] Recorded solution cell Notebook<ps1/problem1>/sum_of_squares_application into the gradebook\n",
      "[AssignApp | DEBUG] Recorded source cell SolutionCell<ps1/problem1/jupyter> into the gradebook\n",
      "[AssignApp | DEBUG] Recorded source cell SolutionCell<ps1/problem1/squares> into the gradebook\n",
      "[AssignApp | DEBUG] Recorded source cell SolutionCell<ps1/problem1/correct_squares> into the gradebook\n",
      "[AssignApp | DEBUG] Recorded source cell SolutionCell<ps1/problem1/squares_invalid_input> into the gradebook\n",
      "[AssignApp | DEBUG] Recorded source cell SolutionCell<ps1/problem1/sum_of_squares> into the gradebook\n",
      "[AssignApp | DEBUG] Recorded source cell SolutionCell<ps1/problem1/correct_sum_of_squares> into the gradebook\n",
      "[AssignApp | DEBUG] Recorded source cell SolutionCell<ps1/problem1/sum_of_squares_uses_squares> into the gradebook\n",
      "[AssignApp | DEBUG] Recorded source cell SolutionCell<ps1/problem1/sum_of_squares_equation> into the gradebook\n",
      "[AssignApp | DEBUG] Recorded source cell SolutionCell<ps1/problem1/sum_of_squares_application> into the gradebook\n",
      "[AssignApp | DEBUG] Applying preprocessor: ClearHiddenTests\n",
      "[AssignApp | DEBUG] Applying preprocessor: ComputeChecksums\n",
      "[AssignApp | DEBUG] Checksum for 'squares' is 8f1eab8d02a9520920aa06f8a86a2492\n",
      "[AssignApp | DEBUG] Checksum for 'correct_squares' is 8f41dd0f9c8fd2da8e8708d73e506b3a\n",
      "[AssignApp | DEBUG] Checksum for 'squares_invalid_input' is 23c2b667d3b60eff3be46eb3290a6b4a\n",
      "[AssignApp | DEBUG] Checksum for 'sum_of_squares' is 166e1abc6621f93f8084ec312c49f757\n",
      "[AssignApp | DEBUG] Checksum for 'correct_sum_of_squares' is 35f884697f5b0145e7306523a083cfd1\n",
      "[AssignApp | DEBUG] Checksum for 'sum_of_squares_uses_squares' is 2d414bfb292d5a6d2b442fc7d8206a0b\n",
      "[AssignApp | DEBUG] Checksum for 'sum_of_squares_equation' is f3cc38a3e522c0be10852ebbe2a638b7\n",
      "[AssignApp | DEBUG] Checksum for 'sum_of_squares_application' is 5a96910dbc324f5565edf92f5c98af1b\n",
      "[AssignApp | DEBUG] Applying preprocessor: CheckCellMetadata\n",
      "[AssignApp | INFO] Writing 7429 bytes to /Users/jhamrick/Dropbox/presentations/2017.08.25-jupytercon/jess/course101/release/./ps1/problem1.ipynb\n",
      "[AssignApp | INFO] Setting destination file permissions to 644\n"
     ]
    }
   ],
   "source": [
    "%%bash\n",
    "\n",
    "cd course101\n",
    "nbgrader assign ps1 --force --create --debug"
   ]
  },
  {
   "cell_type": "markdown",
   "metadata": {
    "slideshow": {
     "slide_type": "slide"
    }
   },
   "source": [
    "# [Example Student Notebook](course101/release/ps1/problem1.ipynb)"
   ]
  },
  {
   "cell_type": "markdown",
   "metadata": {
    "slideshow": {
     "slide_type": "slide"
    }
   },
   "source": [
    "# Instructor Version"
   ]
  },
  {
   "cell_type": "code",
   "execution_count": null,
   "metadata": {
    "collapsed": true,
    "slideshow": {
     "slide_type": "-"
    }
   },
   "outputs": [],
   "source": [
    "def squares(n):\n",
    "    \"\"\"Compute the squares of numbers from 1 to n, such that the \n",
    "    ith element of the returned list equals i^2.\n",
    "    \n",
    "    \"\"\"\n",
    "    ### BEGIN SOLUTION\n",
    "    if n < 1:\n",
    "        raise ValueError(\"n must be greater than or equal to 1\")\n",
    "    return [i ** 2 for i in range(1, n + 1)]\n",
    "    ### END SOLUTION"
   ]
  },
  {
   "cell_type": "markdown",
   "metadata": {
    "slideshow": {
     "slide_type": "slide"
    }
   },
   "source": [
    "# Student Version"
   ]
  },
  {
   "cell_type": "code",
   "execution_count": null,
   "metadata": {
    "collapsed": true,
    "slideshow": {
     "slide_type": "-"
    }
   },
   "outputs": [],
   "source": [
    "def squares(n):\n",
    "    \"\"\"Compute the squares of numbers from 1 to n, such that the \n",
    "    ith element of the returned list equals i^2.\n",
    "    \n",
    "    \"\"\"\n",
    "    # YOUR CODE HERE\n",
    "    raise NotImplementedError()"
   ]
  },
  {
   "cell_type": "markdown",
   "metadata": {
    "slideshow": {
     "slide_type": "slide"
    }
   },
   "source": [
    "# Other nbgrader functionality"
   ]
  },
  {
   "cell_type": "markdown",
   "metadata": {
    "slideshow": {
     "slide_type": "fragment"
    }
   },
   "source": [
    "* nbgrader autograde"
   ]
  },
  {
   "cell_type": "markdown",
   "metadata": {
    "slideshow": {
     "slide_type": "fragment"
    }
   },
   "source": [
    "* Formgrader extension"
   ]
  },
  {
   "cell_type": "markdown",
   "metadata": {
    "slideshow": {
     "slide_type": "fragment"
    }
   },
   "source": [
    "* nbgrader feedback"
   ]
  },
  {
   "cell_type": "markdown",
   "metadata": {
    "slideshow": {
     "slide_type": "fragment"
    }
   },
   "source": [
    "# http://nbgrader.readthedocs.io"
   ]
  }
 ],
 "metadata": {
  "celltoolbar": "Slideshow",
  "kernelspec": {
   "display_name": "Python 3",
   "language": "python",
   "name": "python3"
  },
  "language_info": {
   "codemirror_mode": {
    "name": "ipython",
    "version": 3
   },
   "file_extension": ".py",
   "mimetype": "text/x-python",
   "name": "python",
   "nbconvert_exporter": "python",
   "pygments_lexer": "ipython3",
   "version": "3.5.1"
  },
  "livereveal": {
   "transition": "none"
  }
 },
 "nbformat": 4,
 "nbformat_minor": 2
}
