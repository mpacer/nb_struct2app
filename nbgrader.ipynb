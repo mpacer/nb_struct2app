{
 "cells": [
  {
   "cell_type": "markdown",
   "metadata": {
    "slideshow": {
     "slide_type": "slide"
    }
   },
   "source": [
    "# Application #4: nbgrader"
   ]
  },
  {
   "cell_type": "markdown",
   "metadata": {
    "slideshow": {
     "slide_type": "fragment"
    }
   },
   "source": [
    "A tool for creating and grading assignments in Jupyter notebooks"
   ]
  },
  {
   "cell_type": "markdown",
   "metadata": {
    "slideshow": {
     "slide_type": "slide"
    }
   },
   "source": [
    "# Notebooks are perfect for weaving together instructions, coding exercises, plotting exercises, written responses, etc."
   ]
  },
  {
   "cell_type": "markdown",
   "metadata": {
    "slideshow": {
     "slide_type": "fragment"
    }
   },
   "source": [
    "# [Example Notebook](course101/release/ps1/problem1.ipynb)"
   ]
  },
  {
   "cell_type": "markdown",
   "metadata": {
    "slideshow": {
     "slide_type": "slide"
    }
   },
   "source": [
    "# Notebooks are perfect for weaving together instructions, coding exercises, plotting exercises, written responses, etc."
   ]
  },
  {
   "cell_type": "markdown",
   "metadata": {
    "slideshow": {
     "slide_type": "fragment"
    }
   },
   "source": [
    "But challenging to use:\n",
    "* Maintaining separate instructor and student versions\n",
    "* Autograding & manual grading\n",
    "* Adding comments & feedback"
   ]
  },
  {
   "cell_type": "markdown",
   "metadata": {
    "slideshow": {
     "slide_type": "slide"
    }
   },
   "source": [
    "# nbgrader: a tool for creating and grading assignments in Jupyter notebooks"
   ]
  },
  {
   "cell_type": "markdown",
   "metadata": {
    "slideshow": {
     "slide_type": "slide"
    }
   },
   "source": [
    "<h1>nbgrader: a tool for <span style=\"color: orange\">creating</span> and grading assignments in Jupyter notebooks</h1>"
   ]
  },
  {
   "cell_type": "markdown",
   "metadata": {
    "slideshow": {
     "slide_type": "slide"
    }
   },
   "source": [
    "# [Example Instructor Notebook](course101/source/ps1/problem1.ipynb)"
   ]
  },
  {
   "cell_type": "markdown",
   "metadata": {
    "slideshow": {
     "slide_type": "slide"
    }
   },
   "source": [
    "![](autograded-answer-cell.png)"
   ]
  },
  {
   "cell_type": "raw",
   "metadata": {
    "slideshow": {
     "slide_type": "slide"
    }
   },
   "source": [
    "{\n",
    "  \"nbgrader\": {\n",
    "    \"grade\": false,        # this is not a test cell\n",
    "    \"locked\": false,       # this cell should be editable\n",
    "    \"solution\": true,      # this cell will contain a \n",
    "                           # student's solution\n",
    "    \"grade_id\": \"squares\", # the name of the cell\n",
    "    \"schema_version\": 1    # the metadata version\n",
    "  },\n",
    "  \"collapsed\": true,\n",
    "  \"trusted\": true\n",
    "}"
   ]
  },
  {
   "cell_type": "markdown",
   "metadata": {
    "slideshow": {
     "slide_type": "slide"
    }
   },
   "source": [
    "# nbgrader assign"
   ]
  },
  {
   "cell_type": "markdown",
   "metadata": {
    "slideshow": {
     "slide_type": "fragment"
    }
   },
   "source": [
    "* Clear the instructor solutions (`ClearSolutions` preprocessor)"
   ]
  },
  {
   "cell_type": "markdown",
   "metadata": {
    "slideshow": {
     "slide_type": "fragment"
    }
   },
   "source": [
    "* Make test cells uneditable (`LockCells` preprocessor)"
   ]
  },
  {
   "cell_type": "markdown",
   "metadata": {
    "slideshow": {
     "slide_type": "fragment"
    }
   },
   "source": [
    "* Clear cell output (`ClearOutput` preprocessor)"
   ]
  },
  {
   "cell_type": "markdown",
   "metadata": {
    "slideshow": {
     "slide_type": "fragment"
    }
   },
   "source": [
    "* ... etc. ..."
   ]
  },
  {
   "cell_type": "markdown",
   "metadata": {
    "slideshow": {
     "slide_type": "slide"
    }
   },
   "source": [
    "# Instructor Version"
   ]
  },
  {
   "cell_type": "code",
   "execution_count": null,
   "metadata": {
    "collapsed": true,
    "slideshow": {
     "slide_type": "-"
    }
   },
   "outputs": [],
   "source": [
    "def squares(n):\n",
    "    \"\"\"Compute the squares of numbers from 1 to n, such that the \n",
    "    ith element of the returned list equals i^2.\n",
    "    \n",
    "    \"\"\"\n",
    "    ### BEGIN SOLUTION\n",
    "    if n < 1:\n",
    "        raise ValueError(\"n must be greater than or equal to 1\")\n",
    "    return [i ** 2 for i in range(1, n + 1)]\n",
    "    ### END SOLUTION"
   ]
  },
  {
   "cell_type": "markdown",
   "metadata": {
    "slideshow": {
     "slide_type": "slide"
    }
   },
   "source": [
    "# Student Version"
   ]
  },
  {
   "cell_type": "code",
   "execution_count": null,
   "metadata": {
    "collapsed": true,
    "slideshow": {
     "slide_type": "-"
    }
   },
   "outputs": [],
   "source": [
    "def squares(n):\n",
    "    \"\"\"Compute the squares of numbers from 1 to n, such that the \n",
    "    ith element of the returned list equals i^2.\n",
    "    \n",
    "    \"\"\"\n",
    "    # YOUR CODE HERE\n",
    "    raise NotImplementedError()"
   ]
  },
  {
   "cell_type": "code",
   "execution_count": 4,
   "metadata": {
    "scrolled": false,
    "slideshow": {
     "slide_type": "slide"
    }
   },
   "outputs": [
    {
     "name": "stderr",
     "output_type": "stream",
     "text": [
      "[AssignApp | DEBUG] Searching ['/Users/jhamrick/Dropbox/presentations/2017.08.25-jupytercon/jess/course101', '/Users/jhamrick/.jupyter', '/Users/jhamrick/miniconda3/envs/jupytercon/etc/jupyter', '/usr/local/etc/jupyter', '/etc/jupyter'] for config files\n",
      "[AssignApp | DEBUG] Looking for jupyter_config in /etc/jupyter\n",
      "[AssignApp | DEBUG] Looking for jupyter_config in /usr/local/etc/jupyter\n",
      "[AssignApp | DEBUG] Looking for jupyter_config in /Users/jhamrick/miniconda3/envs/jupytercon/etc/jupyter\n",
      "[AssignApp | DEBUG] Looking for jupyter_config in /Users/jhamrick/.jupyter\n",
      "[AssignApp | DEBUG] Looking for jupyter_config in /Users/jhamrick/Dropbox/presentations/2017.08.25-jupytercon/jess/course101\n",
      "[AssignApp | DEBUG] Looking for nbgrader_config in /etc/jupyter\n",
      "[AssignApp | DEBUG] Looking for nbgrader_config in /usr/local/etc/jupyter\n",
      "[AssignApp | DEBUG] Looking for nbgrader_config in /Users/jhamrick/miniconda3/envs/jupytercon/etc/jupyter\n",
      "[AssignApp | DEBUG] Looking for nbgrader_config in /Users/jhamrick/.jupyter\n",
      "[AssignApp | DEBUG] Looking for nbgrader_config in /Users/jhamrick/Dropbox/presentations/2017.08.25-jupytercon/jess/course101\n",
      "[AssignApp | DEBUG] Loaded config file: /Users/jhamrick/Dropbox/presentations/2017.08.25-jupytercon/jess/course101/nbgrader_config.py\n",
      "[AssignApp | DEBUG] Looking for nbgrader_config in /Users/jhamrick/Dropbox/presentations/2017.08.25-jupytercon/jess/course101\n",
      "[AssignApp | DEBUG] Loaded config file: /Users/jhamrick/Dropbox/presentations/2017.08.25-jupytercon/jess/course101/nbgrader_config.py\n",
      "[AssignApp | WARNING] Removing existing assignment: /Users/jhamrick/Dropbox/presentations/2017.08.25-jupytercon/jess/course101/release/ps1\n",
      "[AssignApp | INFO] Updating/creating assignment 'ps1': {}\n",
      "[AssignApp | INFO] Converting notebook /Users/jhamrick/Dropbox/presentations/2017.08.25-jupytercon/jess/course101/source/./ps1/problem1.ipynb\n",
      "[AssignApp | DEBUG] Student: .\n",
      "[AssignApp | DEBUG] Assignment: ps1\n",
      "[AssignApp | DEBUG] Notebook: problem1\n",
      "[AssignApp | DEBUG] Applying preprocessor: IncludeHeaderFooter\n",
      "[AssignApp | DEBUG] Applying preprocessor: LockCells\n",
      "[AssignApp | DEBUG] Applying preprocessor: ClearSolutions\n",
      "[AssignApp | DEBUG] Applying preprocessor: ClearOutput\n",
      "[AssignApp | DEBUG] Applying preprocessor: CheckCellMetadata\n",
      "[AssignApp | DEBUG] Applying preprocessor: ComputeChecksums\n",
      "[AssignApp | DEBUG] Checksum for 'match' is 19f7bfd22d168d3ca40f43b29937860b\n",
      "[AssignApp | DEBUG] Checksum for 'test_match' is 32177cdb2bd9bcbf40ae05256c0d55fc\n",
      "[AssignApp | DEBUG] Checksum for 'forward_chain' is ecba59778d96bec84de551d0cf471f82\n",
      "[AssignApp | DEBUG] Checksum for 'forward_chain_uses_match' is f2ee5a4cf02dd6ae2a9a6ac8f9102671\n",
      "[AssignApp | DEBUG] Checksum for 'forward_chain_immutable_belief' is 93d43b09acc10499d9a0be24fc434272\n",
      "[AssignApp | DEBUG] Checksum for 'test_forward_chain' is 82941fc7253fec4c6be9352de7eee17b\n",
      "[AssignApp | DEBUG] Checksum for 'explain_rules_1' is fad8963e2894e8732648dbe5d399a00e\n",
      "[AssignApp | DEBUG] Checksum for 'explain_rules_2' is 3fc18f7153981514905b5c6800277ad5\n",
      "[AssignApp | DEBUG] Checksum for 'explain_rules_3' is 6d5ec2c0951d009f57a984741a457f2b\n",
      "[AssignApp | DEBUG] Checksum for 'explain_limits' is f9854aba01986aefcc8c82d34b9e49db\n",
      "[AssignApp | DEBUG] Applying preprocessor: SaveCells\n",
      "[AssignApp | DEBUG] Removing existing notebook 'problem1' from the database\n",
      "[AssignApp | DEBUG] Creating notebook 'problem1' in the database\n",
      "[AssignApp | DEBUG] Notebook kernelspec: {'display_name': 'Python 3', 'language': 'python', 'name': 'python3'}\n",
      "[AssignApp | DEBUG] Recorded grade cell GradeCell<ps1/problem1/test_match> into the gradebook\n",
      "[AssignApp | DEBUG] Recorded grade cell GradeCell<ps1/problem1/forward_chain_uses_match> into the gradebook\n",
      "[AssignApp | DEBUG] Recorded grade cell GradeCell<ps1/problem1/forward_chain_immutable_belief> into the gradebook\n",
      "[AssignApp | DEBUG] Recorded grade cell GradeCell<ps1/problem1/test_forward_chain> into the gradebook\n",
      "[AssignApp | DEBUG] Recorded grade cell GradeCell<ps1/problem1/explain_rules_1> into the gradebook\n",
      "[AssignApp | DEBUG] Recorded grade cell GradeCell<ps1/problem1/explain_rules_2> into the gradebook\n",
      "[AssignApp | DEBUG] Recorded grade cell GradeCell<ps1/problem1/explain_rules_3> into the gradebook\n",
      "[AssignApp | DEBUG] Recorded grade cell GradeCell<ps1/problem1/explain_limits> into the gradebook\n",
      "[AssignApp | DEBUG] Recorded solution cell Notebook<ps1/problem1>/match into the gradebook\n",
      "[AssignApp | DEBUG] Recorded solution cell Notebook<ps1/problem1>/forward_chain into the gradebook\n",
      "[AssignApp | DEBUG] Recorded solution cell Notebook<ps1/problem1>/explain_rules_1 into the gradebook\n",
      "[AssignApp | DEBUG] Recorded solution cell Notebook<ps1/problem1>/explain_rules_2 into the gradebook\n",
      "[AssignApp | DEBUG] Recorded solution cell Notebook<ps1/problem1>/explain_rules_3 into the gradebook\n",
      "[AssignApp | DEBUG] Recorded solution cell Notebook<ps1/problem1>/explain_limits into the gradebook\n",
      "[AssignApp | DEBUG] Recorded source cell SolutionCell<ps1/problem1/print_rules> into the gradebook\n",
      "[AssignApp | DEBUG] Recorded source cell SolutionCell<ps1/problem1/match> into the gradebook\n",
      "[AssignApp | DEBUG] Recorded source cell SolutionCell<ps1/problem1/test_match> into the gradebook\n",
      "[AssignApp | DEBUG] Recorded source cell SolutionCell<ps1/problem1/forward_chain> into the gradebook\n",
      "[AssignApp | DEBUG] Recorded source cell SolutionCell<ps1/problem1/forward_chain_uses_match> into the gradebook\n",
      "[AssignApp | DEBUG] Recorded source cell SolutionCell<ps1/problem1/forward_chain_immutable_belief> into the gradebook\n",
      "[AssignApp | DEBUG] Recorded source cell SolutionCell<ps1/problem1/test_forward_chain> into the gradebook\n",
      "[AssignApp | DEBUG] Recorded source cell SolutionCell<ps1/problem1/rules_1> into the gradebook\n",
      "[AssignApp | DEBUG] Recorded source cell SolutionCell<ps1/problem1/belief_1> into the gradebook\n",
      "[AssignApp | DEBUG] Recorded source cell SolutionCell<ps1/problem1/explain_rules_1> into the gradebook\n",
      "[AssignApp | DEBUG] Recorded source cell SolutionCell<ps1/problem1/rules_2> into the gradebook\n",
      "[AssignApp | DEBUG] Recorded source cell SolutionCell<ps1/problem1/belief_2> into the gradebook\n",
      "[AssignApp | DEBUG] Recorded source cell SolutionCell<ps1/problem1/explain_rules_2> into the gradebook\n",
      "[AssignApp | DEBUG] Recorded source cell SolutionCell<ps1/problem1/belief_3> into the gradebook\n",
      "[AssignApp | DEBUG] Recorded source cell SolutionCell<ps1/problem1/explain_rules_3> into the gradebook\n",
      "[AssignApp | DEBUG] Recorded source cell SolutionCell<ps1/problem1/explain_limits> into the gradebook\n",
      "[AssignApp | DEBUG] Applying preprocessor: ClearHiddenTests\n",
      "[AssignApp | DEBUG] Applying preprocessor: ComputeChecksums\n",
      "[AssignApp | DEBUG] Checksum for 'match' is 19f7bfd22d168d3ca40f43b29937860b\n",
      "[AssignApp | DEBUG] Checksum for 'test_match' is 32177cdb2bd9bcbf40ae05256c0d55fc\n",
      "[AssignApp | DEBUG] Checksum for 'forward_chain' is ecba59778d96bec84de551d0cf471f82\n",
      "[AssignApp | DEBUG] Checksum for 'forward_chain_uses_match' is f2ee5a4cf02dd6ae2a9a6ac8f9102671\n",
      "[AssignApp | DEBUG] Checksum for 'forward_chain_immutable_belief' is 93d43b09acc10499d9a0be24fc434272\n",
      "[AssignApp | DEBUG] Checksum for 'test_forward_chain' is 82941fc7253fec4c6be9352de7eee17b\n",
      "[AssignApp | DEBUG] Checksum for 'explain_rules_1' is fad8963e2894e8732648dbe5d399a00e\n",
      "[AssignApp | DEBUG] Checksum for 'explain_rules_2' is 3fc18f7153981514905b5c6800277ad5\n",
      "[AssignApp | DEBUG] Checksum for 'explain_rules_3' is 6d5ec2c0951d009f57a984741a457f2b\n",
      "[AssignApp | DEBUG] Checksum for 'explain_limits' is f9854aba01986aefcc8c82d34b9e49db\n",
      "[AssignApp | DEBUG] Applying preprocessor: CheckCellMetadata\n",
      "[AssignApp | INFO] Writing 23725 bytes to /Users/jhamrick/Dropbox/presentations/2017.08.25-jupytercon/jess/course101/release/./ps1/problem1.ipynb\n",
      "[AssignApp | INFO] Setting destination file permissions to 644\n"
     ]
    }
   ],
   "source": [
    "%%bash\n",
    "\n",
    "cd course101\n",
    "nbgrader assign ps1 --force --create --debug"
   ]
  },
  {
   "cell_type": "markdown",
   "metadata": {
    "slideshow": {
     "slide_type": "slide"
    }
   },
   "source": [
    "# [Example Student Notebook](course101/release/ps1/problem1.ipynb)"
   ]
  },
  {
   "cell_type": "markdown",
   "metadata": {
    "slideshow": {
     "slide_type": "slide"
    }
   },
   "source": [
    "# Other nbgrader functionality"
   ]
  },
  {
   "cell_type": "markdown",
   "metadata": {
    "slideshow": {
     "slide_type": "fragment"
    }
   },
   "source": [
    "* nbgrader autograde"
   ]
  },
  {
   "cell_type": "markdown",
   "metadata": {
    "slideshow": {
     "slide_type": "fragment"
    }
   },
   "source": [
    "* Formgrader extension"
   ]
  },
  {
   "cell_type": "markdown",
   "metadata": {
    "slideshow": {
     "slide_type": "fragment"
    }
   },
   "source": [
    "* nbgrader feedback"
   ]
  },
  {
   "cell_type": "markdown",
   "metadata": {
    "slideshow": {
     "slide_type": "fragment"
    },
    "tags": [
     "no_reset"
    ]
   },
   "source": [
    "# http://nbgrader.readthedocs.io"
   ]
  }
 ],
 "metadata": {
  "celltoolbar": "Tags",
  "kernelspec": {
   "display_name": "Python 3",
   "language": "python",
   "name": "python3"
  },
  "language_info": {
   "codemirror_mode": {
    "name": "ipython",
    "version": 3
   },
   "file_extension": ".py",
   "mimetype": "text/x-python",
   "name": "python",
   "nbconvert_exporter": "python",
   "pygments_lexer": "ipython3",
   "version": "3.6.2"
  },
  "livereveal": {
   "transition": "none"
  }
 },
 "nbformat": 4,
 "nbformat_minor": 2
}
