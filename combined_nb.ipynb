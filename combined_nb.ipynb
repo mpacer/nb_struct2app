{
 "cells": [
  {
   "cell_type": "markdown",
   "metadata": {
    "origin": "m/title.ipynb",
    "tags": [
     "no_reset"
    ]
   },
   "source": [
    "# The Jupyter Notebook as Document:<br>from structure to application\n",
    "\n",
    "### M Pacer<br>Damián Avila<br> Jess Hamrick"
   ]
  },
  {
   "cell_type": "markdown",
   "metadata": {
    "origin": "m/usertest_notice.ipynb",
    "slideshow": {
     "slide_type": "slide"
    },
    "tags": [
     "no_reset"
    ]
   },
   "source": [
    "# JupyterLab User Testing!\n",
    "\n",
    "**What**: 5–30 mins of making JupyterLab better  \n",
    "**When**: Friday from 8am to 5:30pm  \n",
    "**Where**: 2nd floor, Gramercy  \n",
    "**How**: Walk in or sign up at: https://bit.ly/jupytercon-usertesting"
   ]
  },
  {
   "cell_type": "markdown",
   "metadata": {
    "origin": "m/outline.ipynb",
    "slideshow": {
     "slide_type": "slide"
    },
    "tags": [
     "no_reset"
    ]
   },
   "source": [
    "## Outline\n",
    "\n",
    "1. [Introduction: *.ipynb and nbformat](#Introduction:-*.ipynb-and-nbformat)\n",
    "2. [Application #1: nbconvert](#Application-#1:-nbconvert)\n",
    "3. [Application #2: Nikola](#Application-#2:-Nikola)\n",
    "4. [Application #3: RISE](#Application-#3:-RISE)\n",
    "5. [Application #4: nbgrader](#Application-#4:-nbgrader)"
   ]
  },
  {
   "cell_type": "markdown",
   "metadata": {
    "origin": "m/nbformat.ipynb",
    "slideshow": {
     "slide_type": "slide"
    }
   },
   "source": [
    "## Introduction: `*.ipynb` and nbformat"
   ]
  },
  {
   "cell_type": "markdown",
   "metadata": {
    "origin": "m/nbformat.ipynb",
    "slideshow": {
     "slide_type": "slide"
    }
   },
   "source": [
    "###  `*.ipynb`\n",
    "\n",
    "* JSON on-disk representation\n",
    "* json schema defines required structure\n",
    "* current schema version: 4\n",
    "\n",
    "### nbformat\n",
    "\n",
    "Python library for simple notebooks operations."
   ]
  },
  {
   "cell_type": "markdown",
   "metadata": {
    "origin": "m/nbformat.ipynb",
    "slideshow": {
     "slide_type": "slide"
    }
   },
   "source": [
    "Straightforward questions: \n",
    "\n",
    "1. **Minimal structure** needed to meet the schema?\n",
    "2. **Validate** a notebook against the schema?"
   ]
  },
  {
   "cell_type": "markdown",
   "metadata": {
    "origin": "m/nbformat.ipynb",
    "slideshow": {
     "slide_type": "slide"
    }
   },
   "source": [
    "#### Minimal structure "
   ]
  },
  {
   "cell_type": "code",
   "execution_count": null,
   "metadata": {
    "origin": "m/nbformat.ipynb",
    "slideshow": {
     "slide_type": "-"
    }
   },
   "outputs": [],
   "source": [
    "import nbformat\n",
    "from nbformat.v4 import new_notebook\n",
    "nb = new_notebook()\n",
    "display(nb)"
   ]
  },
  {
   "cell_type": "markdown",
   "metadata": {
    "origin": "m/nbformat.ipynb",
    "slideshow": {
     "slide_type": "fragment"
    }
   },
   "source": [
    "* `cells`: list\n",
    "* `metadata`: dict\n",
    "* `nbformat`, `nbformat_minor`: int, int"
   ]
  },
  {
   "cell_type": "markdown",
   "metadata": {
    "origin": "m/nbformat.ipynb",
    "slideshow": {
     "slide_type": "slide"
    }
   },
   "source": [
    "**Validate**"
   ]
  },
  {
   "cell_type": "code",
   "execution_count": null,
   "metadata": {
    "origin": "m/nbformat.ipynb",
    "slideshow": {
     "slide_type": "-"
    }
   },
   "outputs": [],
   "source": [
    "nbformat.validate(nb)"
   ]
  },
  {
   "cell_type": "markdown",
   "metadata": {
    "origin": "m/nbformat.ipynb",
    "slideshow": {
     "slide_type": "fragment"
    }
   },
   "source": [
    "What happens if it's invalid?"
   ]
  },
  {
   "cell_type": "code",
   "execution_count": null,
   "metadata": {
    "origin": "m/nbformat.ipynb",
    "slideshow": {
     "slide_type": "fragment"
    }
   },
   "outputs": [],
   "source": [
    "nb.pizza = True\n",
    "nbformat.validate(nb)"
   ]
  },
  {
   "cell_type": "markdown",
   "metadata": {
    "origin": "m/nbformat.ipynb",
    "slideshow": {
     "slide_type": "slide"
    }
   },
   "source": [
    "#### Cells and their `source`s"
   ]
  },
  {
   "cell_type": "code",
   "execution_count": null,
   "metadata": {
    "origin": "m/nbformat.ipynb",
    "slideshow": {
     "slide_type": "-"
    }
   },
   "outputs": [],
   "source": [
    "nb = new_notebook() # get rid of pizza\n",
    "from nbformat.v4 import new_code_cell, new_markdown_cell, new_raw_cell"
   ]
  },
  {
   "cell_type": "markdown",
   "metadata": {
    "origin": "m/nbformat.ipynb",
    "slideshow": {
     "slide_type": "fragment"
    }
   },
   "source": [
    "* Three types of cells:\n",
    "    * code_cell\n",
    "    * markdown_cell\n",
    "    * raw_cell"
   ]
  },
  {
   "cell_type": "markdown",
   "metadata": {
    "origin": "m/nbformat.ipynb",
    "slideshow": {
     "slide_type": "slide"
    }
   },
   "source": [
    "#### Markdown cells"
   ]
  },
  {
   "cell_type": "code",
   "execution_count": null,
   "metadata": {
    "origin": "m/nbformat.ipynb",
    "slideshow": {
     "slide_type": "-"
    }
   },
   "outputs": [],
   "source": [
    "md = new_markdown_cell(\"First argument is the source string.\")\n",
    "display(md)\n",
    "nb.cells.append(md)"
   ]
  },
  {
   "cell_type": "markdown",
   "metadata": {
    "origin": "m/nbformat.ipynb",
    "slideshow": {
     "slide_type": "fragment"
    }
   },
   "source": [
    "* `cell_type`: str, \"markdown\"\n",
    "* `metadata`: dict\n",
    "* `source`: str or list of strings"
   ]
  },
  {
   "cell_type": "markdown",
   "metadata": {
    "origin": "m/nbformat.ipynb",
    "slideshow": {
     "slide_type": "slide"
    }
   },
   "source": [
    "#### Raw cells"
   ]
  },
  {
   "cell_type": "code",
   "execution_count": null,
   "metadata": {
    "origin": "m/nbformat.ipynb",
    "slideshow": {
     "slide_type": "-"
    }
   },
   "outputs": [],
   "source": [
    "raw = new_raw_cell([\"Sources can also be a \",\"list of strings.\"])\n",
    "display(raw)\n",
    "nb.cells.append(raw)"
   ]
  },
  {
   "cell_type": "markdown",
   "metadata": {
    "origin": "m/nbformat.ipynb",
    "slideshow": {
     "slide_type": "fragment"
    }
   },
   "source": [
    "* `cell_type`: str, \"raw\"\n",
    "* `metadata`: dict\n",
    "* `source`: str or list of strings"
   ]
  },
  {
   "cell_type": "markdown",
   "metadata": {
    "origin": "m/nbformat.ipynb",
    "slideshow": {
     "slide_type": "slide"
    }
   },
   "source": [
    "#### Code cells"
   ]
  },
  {
   "cell_type": "code",
   "execution_count": null,
   "metadata": {
    "origin": "m/nbformat.ipynb",
    "slideshow": {
     "slide_type": "-"
    }
   },
   "outputs": [],
   "source": [
    "code = new_code_cell([\"#Either way, you need newlines\\n\", \n",
    "                      \"print('like this')\"])\n",
    "display(code)\n",
    "nb.cells.append(code)"
   ]
  },
  {
   "cell_type": "markdown",
   "metadata": {
    "origin": "m/nbformat.ipynb",
    "slideshow": {
     "slide_type": "fragment"
    }
   },
   "source": [
    "* `cell_type`: str, \"code\"\n",
    "* `execution_count`: `None` or int\n",
    "* `metadata`: dict\n",
    "* `outputs`: list\n",
    "* `source`: str or list of strings"
   ]
  },
  {
   "cell_type": "markdown",
   "metadata": {
    "origin": "m/nbformat.ipynb",
    "slideshow": {
     "slide_type": "slide"
    }
   },
   "source": [
    "## Creating outputs\n",
    "\n",
    "Output types:\n",
    "\n",
    "* stream\n",
    "* display_data\n",
    "* execute_result\n",
    "* error"
   ]
  },
  {
   "cell_type": "markdown",
   "metadata": {
    "origin": "m/nbformat.ipynb",
    "slideshow": {
     "slide_type": "slide"
    }
   },
   "source": [
    "`display_data` and `execute_result` can have multiple mimetypes. \n",
    "\n",
    "For more on messages and output types:   \n",
    "Matthias Bussonier and Paul Ivanov's \n",
    "[*Jupyter: Kernels, protocols, and the IPython reference implementation*](https://conferences.oreilly.com/jupyter/jup-ny/public/schedule/detail/63159)"
   ]
  },
  {
   "cell_type": "markdown",
   "metadata": {
    "origin": "m/nbformat.ipynb",
    "slideshow": {
     "slide_type": "slide"
    }
   },
   "source": [
    "## Metadata\n",
    "\n",
    "* notebook-level, `nb.metadata`\n",
    "* cell-level, `nb.cells[0].metadata`\n",
    "* output_level (for display_data and execute_result types), `nb.cells[0].outputs[0].metadata`\n",
    "\n",
    "Arbitrary content, with some reserved Jupyter specific fields."
   ]
  },
  {
   "cell_type": "markdown",
   "metadata": {
    "origin": "m/nbformat.ipynb",
    "slideshow": {
     "slide_type": "slide"
    }
   },
   "source": [
    "#### Reserved notebook metadata fields:\n",
    "* `kernelspec`\n",
    "* `language_info`\n",
    "* `authors` \n",
    "* `title`"
   ]
  },
  {
   "cell_type": "markdown",
   "metadata": {
    "origin": "m/nbformat.ipynb",
    "slideshow": {
     "slide_type": "slide"
    }
   },
   "source": [
    "#### Reserved cell metadata fields (all are optional):\n",
    "* `deletable`\n",
    "* `collapsed`\n",
    "* `autoscroll` \n",
    "* `jupyter` (jupyter metadata namespace, for internal use)\n",
    "* `tags` (useful for semantic customization)\n",
    "* `name` (should be unique)  \n",
    "* for raw cells: `format` (content type)"
   ]
  },
  {
   "cell_type": "markdown",
   "metadata": {
    "origin": "m/nbformat.ipynb",
    "slideshow": {
     "slide_type": "slide"
    },
    "tags": [
     "no_reset"
    ]
   },
   "source": [
    "#### Reserved output metadata\n",
    "* `isolated`\n",
    "\n",
    "`display_data` and `execute_result` metadata are keyed with mimetypes."
   ]
  },
  {
   "cell_type": "markdown",
   "metadata": {
    "origin": "m/nbformat.ipynb",
    "slideshow": {
     "slide_type": "slide"
    }
   },
   "source": [
    "## Reading & writing notebooks to disk"
   ]
  },
  {
   "cell_type": "code",
   "execution_count": null,
   "metadata": {
    "origin": "m/nbformat.ipynb",
    "slideshow": {
     "slide_type": "fragment"
    }
   },
   "outputs": [],
   "source": [
    "nbformat.write(nb, \"my_demo_notebook.ipynb\")\n",
    "!ls my_*"
   ]
  },
  {
   "cell_type": "code",
   "execution_count": null,
   "metadata": {
    "origin": "m/nbformat.ipynb",
    "slideshow": {
     "slide_type": "fragment"
    },
    "tags": [
     "no_reset"
    ]
   },
   "outputs": [],
   "source": [
    "nb2 = nbformat.read(\"my_demo_notebook.ipynb\", as_version=4)\n",
    "print(nb2)"
   ]
  },
  {
   "cell_type": "markdown",
   "metadata": {
    "origin": "m/nbconvert.ipynb",
    "slideshow": {
     "slide_type": "slide"
    }
   },
   "source": [
    "## Application #1: nbconvert"
   ]
  },
  {
   "cell_type": "markdown",
   "metadata": {
    "origin": "m/nbconvert.ipynb",
    "slideshow": {
     "slide_type": "slide"
    }
   },
   "source": [
    "\n",
    "### Additional resource:\n",
    "\n",
    "Andreas Mueller: [*Writing (and publishing) a book written in Jupyter notebooks*](https://conferences.oreilly.com/jupyter/jup-ny/public/schedule/detail/60087)"
   ]
  },
  {
   "cell_type": "markdown",
   "metadata": {
    "origin": "m/nbconvert.ipynb",
    "slideshow": {
     "slide_type": "slide"
    }
   },
   "source": [
    "## Distinction between use cases for nbformat and nbconvert\n",
    "\n",
    "`nbformat`: creating and validating notebooks \n",
    "\n",
    "`nbconvert`: manipulate existing notebooks.\n"
   ]
  },
  {
   "cell_type": "markdown",
   "metadata": {
    "origin": "m/nbconvert.ipynb",
    "slideshow": {
     "slide_type": "slide"
    }
   },
   "source": [
    "## Nbconvert use cases\n",
    "\n",
    "* converting notebooks into other formats\n",
    "    * web-display: html, slides (with reveal.js)\n",
    "    * publishable documents: LaTeX/PDF, ASCIIDoc\n",
    "    * plain-text: rst, markdown\n",
    "    * executable scripts: e.g., `*.py` "
   ]
  },
  {
   "cell_type": "markdown",
   "metadata": {
    "origin": "m/nbconvert.ipynb",
    "slideshow": {
     "slide_type": "slide"
    }
   },
   "source": [
    "## Nbconvert use cases (cont.)\n",
    "\n",
    "* manipulating notebook content \n",
    "    * cell magic (`%%R`) code highlighting\n",
    "    * removing content\n",
    "    * extracting images references for plain-text formats (LaTeX, markdown)\n",
    "* executing notebooks from the command-line"
   ]
  },
  {
   "cell_type": "markdown",
   "metadata": {
    "origin": "m/nbconvert.ipynb",
    "slideshow": {
     "slide_type": "slide"
    }
   },
   "source": [
    "## Command Line Interface"
   ]
  },
  {
   "cell_type": "code",
   "execution_count": null,
   "metadata": {
    "origin": "m/nbconvert.ipynb",
    "slideshow": {
     "slide_type": "fragment"
    }
   },
   "outputs": [],
   "source": [
    "!jupyter nbconvert my_demo_notebook.ipynb --to markdown\n",
    "!cat my_demo_notebook.ipynb"
   ]
  },
  {
   "cell_type": "markdown",
   "metadata": {
    "origin": "m/nbconvert.ipynb",
    "slideshow": {
     "slide_type": "slide"
    }
   },
   "source": [
    "## NbConvertApp"
   ]
  },
  {
   "cell_type": "markdown",
   "metadata": {
    "origin": "m/nbconvert.ipynb",
    "slideshow": {
     "slide_type": "fragment"
    }
   },
   "source": [
    "* manages the CLI."
   ]
  },
  {
   "cell_type": "markdown",
   "metadata": {
    "origin": "m/nbconvert.ipynb",
    "slideshow": {
     "slide_type": "fragment"
    }
   },
   "source": [
    "* manages the configuration as established both on the command line and via traitlet config files."
   ]
  },
  {
   "cell_type": "markdown",
   "metadata": {
    "origin": "m/nbconvert.ipynb"
   },
   "source": [
    "* wraps base class functionality."
   ]
  },
  {
   "cell_type": "markdown",
   "metadata": {
    "origin": "m/nbconvert.ipynb",
    "slideshow": {
     "slide_type": "slide"
    }
   },
   "source": [
    "### Nbconvert configuration: traitlets\n",
    "\n",
    "Configuration is specified using traitlets\n",
    "- as on-disk config file: `jupyter_nbconvert_config.(py|json)`\n",
    "- command line arguments: `jupyter nbconvert --template=basic`\n",
    "- passed to instance: `Exporter(config=Config())`"
   ]
  },
  {
   "cell_type": "markdown",
   "metadata": {
    "origin": "m/nbconvert.ipynb",
    "slideshow": {
     "slide_type": "slide"
    }
   },
   "source": [
    "## Base Classes\n",
    "\n",
    "* [Exporters](#Exporters)\n",
    "* [Preprocessors](#Preprocessors)\n",
    "* [Templates (and filters)](#Templates-(and-filters)\n",
    "* [Writers](#Writers-&-Postprocessors)\n",
    "* [Postprocessors](#Writers-&-Postprocessors)"
   ]
  },
  {
   "cell_type": "markdown",
   "metadata": {
    "origin": "m/nbconvert.ipynb",
    "slideshow": {
     "slide_type": "slide"
    }
   },
   "source": [
    "## Exporters\n",
    "\n",
    "Orchestration layer.\n",
    "\n",
    "Keyed to the `--to <exporter_name>` command line argument."
   ]
  },
  {
   "cell_type": "markdown",
   "metadata": {
    "origin": "m/nbconvert.ipynb",
    "slideshow": {
     "slide_type": "slide"
    }
   },
   "source": [
    "Exporters specify many aspects of conversion pipeline. E.g.:\n",
    "* which preprocessors \n",
    "* whether & which template\n",
    "* output format"
   ]
  },
  {
   "cell_type": "markdown",
   "metadata": {
    "origin": "m/nbconvert.ipynb",
    "slideshow": {
     "slide_type": "slide"
    }
   },
   "source": [
    "### The resources dictionary\n",
    "\n",
    "In addition the `NotebookNode` instance, exporters create a resources dictionary. \n",
    "\n",
    "This is useful for passing information that not be in the notebook itself.\n",
    "* Notebook styling (for html export)\n",
    "* metadata for populating a jekyll header"
   ]
  },
  {
   "cell_type": "markdown",
   "metadata": {
    "origin": "m/nbconvert.ipynb",
    "slideshow": {
     "slide_type": "slide"
    }
   },
   "source": [
    "## Preprocessors\n",
    "\n",
    "Notebook to notebook transformations.\n",
    "\n",
    "**ExecutePreprocessor**: This enables CLI execution.  \n",
    "**TagRemovePreprocessor**: Removes cells tagged with particular tags specified as traitlets."
   ]
  },
  {
   "cell_type": "markdown",
   "metadata": {
    "origin": "m/nbconvert.ipynb",
    "slideshow": {
     "slide_type": "slide"
    }
   },
   "source": [
    "## Templates (and filters)\n",
    "\n",
    "Nbconvert uses Jinja2 templates. \n",
    "\n",
    "Templates inherit from one another.\n",
    "\n",
    "Templates can access `filters` that can transform the content passed through them.\n",
    "\n",
    "One of the most common filters passes the plaintext representation of a cell's source to `pandoc` for conversion."
   ]
  },
  {
   "cell_type": "markdown",
   "metadata": {
    "origin": "m/nbconvert.ipynb",
    "slideshow": {
     "slide_type": "slide"
    }
   },
   "source": [
    "### pandoc & pandocfilters\n",
    "\n",
    "`pandoc` converts between formats\n",
    "\n",
    "`pandocfilters` manipulate pandoc's intermediate `JSON` representation."
   ]
  },
  {
   "cell_type": "markdown",
   "metadata": {
    "origin": "m/nbconvert.ipynb",
    "slideshow": {
     "slide_type": "slide"
    }
   },
   "source": [
    "##  Writers & Postprocessors\n",
    "\n",
    "**Writers** handles the Exporter's final output.\n",
    "\n",
    "`FilesWriter` writes to disk.\n",
    "\n",
    "**Postprocessors** manipulate the file after the Writer is finished.\n",
    "\n",
    "`ServePostProcessor` serves html file."
   ]
  },
  {
   "cell_type": "markdown",
   "metadata": {
    "origin": "m/nbconvert.ipynb",
    "slideshow": {
     "slide_type": "slide"
    }
   },
   "source": [
    "## Entrypoints\n",
    "\n",
    "In addition to being highly configurable, we have a mechanism for 3rd party libraries to register `Exporters` using entrypoints. \n",
    "\n",
    "1. Define `JekyllExporter` \n",
    "2. package it in `my_jekyll_exporter`"
   ]
  },
  {
   "cell_type": "markdown",
   "metadata": {
    "origin": "m/nbconvert.ipynb",
    "slideshow": {
     "slide_type": "slide"
    }
   },
   "source": [
    "```python\n",
    "setup(…,\n",
    "      entry_points = {\n",
    "        'nbconvert.exporters': \n",
    "            ['jekyll = my_jekyll_exporter:JekyllExporter']\n",
    "      }\n",
    ")\n",
    "```"
   ]
  },
  {
   "cell_type": "markdown",
   "metadata": {
    "origin": "m/nbconvert.ipynb",
    "slideshow": {
     "slide_type": "slide"
    }
   },
   "source": [
    "### Entrypoints (contd.)\n",
    "And with `pip install my_jekyll_exporter`…\n",
    "\n",
    "Anyone can use your exporter with  \n",
    "`jupyter nbconvert --to jekyll` \n",
    "\n"
   ]
  },
  {
   "cell_type": "markdown",
   "metadata": {
    "origin": "m/nbconvert.ipynb",
    "slideshow": {
     "slide_type": "slide"
    }
   },
   "source": [
    "## Multi-notebook workflows\n",
    "\n",
    "Nbconvert works on single notebooks. \n",
    "\n",
    "Multiple notebook conversion is still in early days.\n",
    "\n",
    "Examples:\n",
    "- [bookbook](https://github.com/takluyver/bookbook) (html or pdf books from multiple notebooks)\n",
    "- [multi_rise](https://github.com/mpacer/multi_rise) (one slideshow from many notebooks)"
   ]
  },
  {
   "cell_type": "markdown",
   "metadata": {
    "origin": "m/nbconvert.ipynb",
    "slideshow": {
     "slide_type": "slide"
    }
   },
   "source": [
    "Execute for next speaker"
   ]
  },
  {
   "cell_type": "code",
   "execution_count": null,
   "metadata": {
    "origin": "m/nbconvert.ipynb",
    "slideshow": {
     "slide_type": "-"
    }
   },
   "outputs": [],
   "source": [
    "%reset -f"
   ]
  },
  {
   "cell_type": "markdown",
   "metadata": {
    "origin": "damian/Nikola.ipynb",
    "slideshow": {
     "slide_type": "slide"
    }
   },
   "source": [
    "# Nikola"
   ]
  },
  {
   "cell_type": "markdown",
   "metadata": {
    "origin": "damian/Nikola.ipynb",
    "slideshow": {
     "slide_type": "fragment"
    }
   },
   "source": [
    "### Static site generator"
   ]
  },
  {
   "cell_type": "markdown",
   "metadata": {
    "origin": "damian/Nikola.ipynb",
    "slideshow": {
     "slide_type": "slide"
    }
   },
   "source": [
    "# Features"
   ]
  },
  {
   "cell_type": "markdown",
   "metadata": {
    "origin": "damian/Nikola.ipynb",
    "slideshow": {
     "slide_type": "fragment"
    }
   },
   "source": [
    "* It’s just a bunch of HTML files and assets.\n",
    "* Incremental builds/rebuild using `doit`, so Nikola is fast.\n",
    "* Multilingual\n",
    "* Extensible\n",
    "* Friendly CLI"
   ]
  },
  {
   "cell_type": "markdown",
   "metadata": {
    "origin": "damian/Nikola.ipynb",
    "slideshow": {
     "slide_type": "subslide"
    }
   },
   "source": [
    "* Multiple input formats such as reStructuredText, Markdown, HTML and **Jupyter Notebooks** (out of the box as part of the core!!)"
   ]
  },
  {
   "cell_type": "markdown",
   "metadata": {
    "origin": "damian/Nikola.ipynb",
    "slideshow": {
     "slide_type": "slide"
    }
   },
   "source": [
    "# The core of the Nikola / Jupyter integration"
   ]
  },
  {
   "cell_type": "markdown",
   "metadata": {
    "origin": "damian/Nikola.ipynb",
    "slideshow": {
     "slide_type": "fragment"
    }
   },
   "source": [
    "* https://github.com/getnikola/nikola/blob/master/nikola/plugins/compile/ipynb.py"
   ]
  },
  {
   "cell_type": "code",
   "execution_count": null,
   "metadata": {
    "collapsed": true,
    "origin": "damian/Nikola.ipynb",
    "slideshow": {
     "slide_type": "subslide"
    }
   },
   "outputs": [],
   "source": [
    "from nbconvert.exporters import HTMLExporter\n",
    "\n",
    "...\n",
    "\n",
    "def _compile_string(self, nb_json):\n",
    "    \"\"\"Export notebooks as HTML strings.\"\"\"\n",
    "    self._req_missing_ipynb()\n",
    "    c = Config(self.site.config['IPYNB_CONFIG'])\n",
    "    c.update(get_default_jupyter_config())\n",
    "    exportHtml = HTMLExporter(config=c)\n",
    "    body, _ = exportHtml.from_notebook_node(nb_json)\n",
    "    return body"
   ]
  },
  {
   "cell_type": "markdown",
   "metadata": {
    "origin": "damian/Nikola.ipynb",
    "slideshow": {
     "slide_type": "slide"
    }
   },
   "source": [
    "# Some other gems"
   ]
  },
  {
   "cell_type": "code",
   "execution_count": null,
   "metadata": {
    "collapsed": true,
    "origin": "damian/Nikola.ipynb",
    "slideshow": {
     "slide_type": "subslide"
    }
   },
   "outputs": [],
   "source": [
    "def read_metadata(self, post, lang=None):\n",
    "    \"\"\"Read metadata directly from ipynb file.\n",
    "    As ipynb files support arbitrary metadata as json, the metadata used by Nikola\n",
    "    will be assume to be in the 'nikola' subfield.\n",
    "    \"\"\"\n",
    "    self._req_missing_ipynb()\n",
    "    if lang is None:\n",
    "        lang = LocaleBorg().current_lang\n",
    "    source = post.translated_source_path(lang)\n",
    "    with io.open(source, \"r\", encoding=\"utf8\") as in_file:\n",
    "        nb_json = nbformat.read(in_file, current_nbformat)\n",
    "    # Metadata might not exist in two-file posts or in hand-crafted\n",
    "    # .ipynb files.\n",
    "    return nb_json.get('metadata', {}).get('nikola', {})"
   ]
  },
  {
   "cell_type": "code",
   "execution_count": null,
   "metadata": {
    "collapsed": true,
    "origin": "damian/Nikola.ipynb",
    "slideshow": {
     "slide_type": "subslide"
    }
   },
   "outputs": [],
   "source": [
    "def create_post(self, path, **kw):\n",
    "    \"\"\"Create a new post.\"\"\"\n",
    "    ...\n",
    "\n",
    "    if content.startswith(\"{\"):\n",
    "        # imported .ipynb file, guaranteed to start with \"{\" because it’s JSON.\n",
    "        nb = nbformat.reads(content, current_nbformat)\n",
    "    else:\n",
    "        nb = nbformat.v4.new_notebook()\n",
    "        nb[\"cells\"] = [nbformat.v4.new_markdown_cell(content)]"
   ]
  },
  {
   "cell_type": "markdown",
   "metadata": {
    "origin": "damian/Nikola.ipynb",
    "slideshow": {
     "slide_type": "slide"
    }
   },
   "source": [
    "# Let see it in action!"
   ]
  },
  {
   "cell_type": "code",
   "execution_count": 7,
   "metadata": {
    "origin": "damian/Nikola.ipynb",
    "slideshow": {
     "slide_type": "slide"
    }
   },
   "outputs": [
    {
     "name": "stdout",
     "output_type": "stream",
     "text": [
      "/media/data/devel/damian_blog\n"
     ]
    }
   ],
   "source": [
    "cd /media/data/devel/damian_blog/"
   ]
  },
  {
   "cell_type": "code",
   "execution_count": 8,
   "metadata": {
    "origin": "damian/Nikola.ipynb",
    "slideshow": {
     "slide_type": "-"
    }
   },
   "outputs": [
    {
     "name": "stdout",
     "output_type": "stream",
     "text": [
      "cache\t\t  galleries    plugins\t    Start.ipynb      toggle.tpl\r\n",
      "conf.py\t\t  Guardfile    posts\t    state_data.json  yes\r\n",
      "Customization.md  old_conf.py  __pycache__  stories\r\n",
      "files\t\t  output       README.md    themes\r\n"
     ]
    }
   ],
   "source": [
    "!ls"
   ]
  },
  {
   "cell_type": "code",
   "execution_count": null,
   "metadata": {
    "collapsed": true,
    "origin": "damian/Nikola.ipynb",
    "slideshow": {
     "slide_type": "subslide"
    }
   },
   "outputs": [],
   "source": [
    "title = \"We are above 1000 stars!\""
   ]
  },
  {
   "cell_type": "code",
   "execution_count": null,
   "metadata": {
    "collapsed": true,
    "origin": "damian/Nikola.ipynb",
    "slideshow": {
     "slide_type": "fragment"
    }
   },
   "outputs": [],
   "source": [
    "tags_list = ['Jupyter', 'python', 'reveal', 'RISE', 'slideshow']"
   ]
  },
  {
   "cell_type": "code",
   "execution_count": null,
   "metadata": {
    "collapsed": true,
    "origin": "damian/Nikola.ipynb",
    "slideshow": {
     "slide_type": "-"
    }
   },
   "outputs": [],
   "source": [
    "tags = ', '.join(tags_list)"
   ]
  },
  {
   "cell_type": "code",
   "execution_count": null,
   "metadata": {
    "collapsed": true,
    "origin": "damian/Nikola.ipynb",
    "slideshow": {
     "slide_type": "subslide"
    }
   },
   "outputs": [],
   "source": [
    "!nikola new_post -f ipynb -t \"{title}\" --tags=\"{tags}\""
   ]
  },
  {
   "cell_type": "markdown",
   "metadata": {
    "origin": "damian/Nikola.ipynb",
    "slideshow": {
     "slide_type": "fragment"
    }
   },
   "source": [
    "```\n",
    "Creating New Post\n",
    "-----------------\n",
    "\n",
    "Title: We are above 1000 stars!\n",
    "Scanning posts......done!\n",
    "[2017-07-12T16:45:00Z] NOTICE: compile_ipynb: No kernel specified, assuming \"python3\".\n",
    "[2017-07-12T16:45:01Z] INFO: new_post: Your post's text is at: posts/we-are-above-1000-stars.ipynb\n",
    "```"
   ]
  },
  {
   "cell_type": "code",
   "execution_count": null,
   "metadata": {
    "collapsed": true,
    "origin": "damian/Nikola.ipynb",
    "slideshow": {
     "slide_type": "subslide"
    }
   },
   "outputs": [],
   "source": [
    "!nikola build"
   ]
  },
  {
   "cell_type": "code",
   "execution_count": null,
   "metadata": {
    "collapsed": true,
    "origin": "damian/Nikola.ipynb",
    "slideshow": {
     "slide_type": "fragment"
    }
   },
   "outputs": [],
   "source": [
    "!nikola deploy"
   ]
  },
  {
   "cell_type": "code",
   "execution_count": 9,
   "metadata": {
    "origin": "damian/Nikola.ipynb",
    "slideshow": {
     "slide_type": "slide"
    }
   },
   "outputs": [
    {
     "data": {
      "text/html": [
       "\n",
       "        <iframe\n",
       "            width=\"980\"\n",
       "            height=\"600\"\n",
       "            src=\"http://www.damian.oquanta.info/\"\n",
       "            frameborder=\"0\"\n",
       "            allowfullscreen\n",
       "        ></iframe>\n",
       "        "
      ],
      "text/plain": [
       "<IPython.lib.display.IFrame at 0x7ff9bcc27390>"
      ]
     },
     "execution_count": 9,
     "metadata": {},
     "output_type": "execute_result"
    }
   ],
   "source": [
    "from IPython.display import IFrame\n",
    "IFrame(\"http://www.damian.oquanta.info/\", 980, 600)"
   ]
  },
  {
   "cell_type": "markdown",
   "metadata": {
    "origin": "damian/Nikola.ipynb",
    "slideshow": {
     "slide_type": "slide"
    }
   },
   "source": [
    "Execute for next speaker"
   ]
  },
  {
   "cell_type": "code",
   "execution_count": null,
   "metadata": {
    "origin": "damian/Nikola.ipynb",
    "slideshow": {
     "slide_type": "-"
    }
   },
   "outputs": [],
   "source": [
    "%reset -f"
   ]
  },
  {
   "cell_type": "markdown",
   "metadata": {
    "origin": "damian/RISE.ipynb",
    "slideshow": {
     "slide_type": "slide"
    }
   },
   "source": [
    "# RISE"
   ]
  },
  {
   "cell_type": "markdown",
   "metadata": {
    "origin": "damian/RISE.ipynb",
    "slideshow": {
     "slide_type": "subslide"
    }
   },
   "source": [
    "### Reveal.js - Jupyter/IPython Slideshow Extension"
   ]
  },
  {
   "cell_type": "markdown",
   "metadata": {
    "origin": "damian/RISE.ipynb",
    "slideshow": {
     "slide_type": "slide"
    }
   },
   "source": [
    "Previously, we developed a \"converter\" for the nbconvert library to export a ipynb to a **STATIC** html slideshow based in `Reveal.js` library."
   ]
  },
  {
   "cell_type": "markdown",
   "metadata": {
    "origin": "damian/RISE.ipynb",
    "slideshow": {
     "slide_type": "slide"
    }
   },
   "source": [
    "But with **RISE**, you don't have a **STATIC** version anymore, you have a **LIVE** version! A notebook rendered as a `Reveal.js`-based slideshow, where you can execute code or show to the audience whatever you can show/do inside the notebook itself (but in a \"slidy\" way)."
   ]
  },
  {
   "cell_type": "markdown",
   "metadata": {
    "origin": "damian/RISE.ipynb",
    "slideshow": {
     "slide_type": "slide"
    }
   },
   "source": [
    "# RISE at his core..."
   ]
  },
  {
   "cell_type": "markdown",
   "metadata": {
    "origin": "damian/RISE.ipynb",
    "slideshow": {
     "slide_type": "subslide"
    }
   },
   "source": [
    "### Reveal.js is a framework to create beautiful HTML-based presentations"
   ]
  },
  {
   "cell_type": "markdown",
   "metadata": {
    "origin": "damian/RISE.ipynb",
    "slideshow": {
     "slide_type": "fragment"
    }
   },
   "source": [
    "https://github.com/hakimel/reveal.js/"
   ]
  },
  {
   "cell_type": "markdown",
   "metadata": {
    "origin": "damian/RISE.ipynb",
    "slideshow": {
     "slide_type": "fragment"
    }
   },
   "source": [
    "* Reveal.js understand a specfic html structure"
   ]
  },
  {
   "cell_type": "markdown",
   "metadata": {
    "origin": "damian/RISE.ipynb",
    "slideshow": {
     "slide_type": "subslide"
    }
   },
   "source": [
    "### So, to make RISE work, we need to:"
   ]
  },
  {
   "cell_type": "markdown",
   "metadata": {
    "origin": "damian/RISE.ipynb",
    "slideshow": {
     "slide_type": "fragment"
    }
   },
   "source": [
    "* \"signal\" the `Slide Type` for each cell "
   ]
  },
  {
   "cell_type": "markdown",
   "metadata": {
    "origin": "damian/RISE.ipynb",
    "slideshow": {
     "slide_type": "fragment"
    }
   },
   "source": [
    "* rearrange the cells accordingly with the strucuture `Reveal.js` understand"
   ]
  },
  {
   "cell_type": "markdown",
   "metadata": {
    "origin": "damian/RISE.ipynb",
    "slideshow": {
     "slide_type": "slide"
    }
   },
   "source": [
    "# RISE is just another \"view\" of the Notebook"
   ]
  },
  {
   "cell_type": "markdown",
   "metadata": {
    "origin": "damian/RISE.ipynb",
    "slideshow": {
     "slide_type": "subslide"
    }
   },
   "source": [
    "### Anything that works in the notebook, it should work in RISE."
   ]
  },
  {
   "cell_type": "markdown",
   "metadata": {
    "origin": "damian/RISE.ipynb",
    "slideshow": {
     "slide_type": "fragment"
    }
   },
   "source": [
    "### If you can execute code in the Notebook, then you can execute code in RISE."
   ]
  },
  {
   "cell_type": "markdown",
   "metadata": {
    "origin": "damian/RISE.ipynb",
    "slideshow": {
     "slide_type": "subslide"
    }
   },
   "source": [
    "With **RISE** we provide a simple way to get a *presentation view* from our content with the *huge* amount of features coming from `Reveal.js` and with all the power from the **Jupyter** `notebook` machinery."
   ]
  },
  {
   "cell_type": "markdown",
   "metadata": {
    "origin": "damian/RISE.ipynb",
    "slideshow": {
     "slide_type": "subslide"
    }
   },
   "source": [
    "https://github.com/damianavila/RISE\n",
    "\n",
    "# @damian_avila"
   ]
  },
  {
   "cell_type": "markdown",
   "metadata": {
    "origin": "damian/RISE.ipynb",
    "slideshow": {
     "slide_type": "slide"
    }
   },
   "source": [
    "Execute for next speaker"
   ]
  },
  {
   "cell_type": "code",
   "execution_count": null,
   "metadata": {
    "origin": "damian/RISE.ipynb",
    "slideshow": {
     "slide_type": "-"
    }
   },
   "outputs": [],
   "source": [
    "%reset -f"
   ]
  },
  {
   "cell_type": "markdown",
   "metadata": {
    "origin": "nbgrader.ipynb",
    "slideshow": {
     "slide_type": "slide"
    }
   },
   "source": [
    "# Application #4: nbgrader"
   ]
  },
  {
   "cell_type": "markdown",
   "metadata": {
    "origin": "nbgrader.ipynb",
    "slideshow": {
     "slide_type": "fragment"
    }
   },
   "source": [
    "A tool for creating and grading assignments in Jupyter notebooks"
   ]
  },
  {
   "cell_type": "markdown",
   "metadata": {
    "origin": "nbgrader.ipynb",
    "slideshow": {
     "slide_type": "slide"
    }
   },
   "source": [
    "# Notebooks are perfect for weaving together instructions, coding exercises, plotting exercises, written responses, etc."
   ]
  },
  {
   "cell_type": "markdown",
   "metadata": {
    "origin": "nbgrader.ipynb",
    "slideshow": {
     "slide_type": "fragment"
    }
   },
   "source": [
    "# [Example Notebook](course101/release/ps1/problem1.ipynb)"
   ]
  },
  {
   "cell_type": "markdown",
   "metadata": {
    "origin": "nbgrader.ipynb",
    "slideshow": {
     "slide_type": "slide"
    }
   },
   "source": [
    "# Notebooks are perfect for weaving together instructions, coding exercises, plotting exercises, written responses, etc."
   ]
  },
  {
   "cell_type": "markdown",
   "metadata": {
    "origin": "nbgrader.ipynb",
    "slideshow": {
     "slide_type": "fragment"
    }
   },
   "source": [
    "But challenging to use:\n",
    "* Maintaining separate instructor and student versions\n",
    "* Autograding & manual grading\n",
    "* Adding comments & feedback"
   ]
  },
  {
   "cell_type": "markdown",
   "metadata": {
    "origin": "nbgrader.ipynb",
    "slideshow": {
     "slide_type": "slide"
    }
   },
   "source": [
    "# nbgrader: a tool for creating and grading assignments in Jupyter notebooks"
   ]
  },
  {
   "cell_type": "markdown",
   "metadata": {
    "origin": "nbgrader.ipynb",
    "slideshow": {
     "slide_type": "slide"
    }
   },
   "source": [
    "<h1>nbgrader: a tool for <span style=\"color: orange\">creating</span> and grading assignments in Jupyter notebooks</h1>"
   ]
  },
  {
   "cell_type": "markdown",
   "metadata": {
    "origin": "nbgrader.ipynb",
    "slideshow": {
     "slide_type": "slide"
    }
   },
   "source": [
    "# [Example Instructor Notebook](course101/source/ps1/problem1.ipynb)"
   ]
  },
  {
   "cell_type": "markdown",
   "metadata": {
    "origin": "nbgrader.ipynb",
    "slideshow": {
     "slide_type": "slide"
    }
   },
   "source": [
    "![](autograded-answer-cell.png)"
   ]
  },
  {
   "cell_type": "raw",
   "metadata": {
    "origin": "nbgrader.ipynb",
    "slideshow": {
     "slide_type": "slide"
    }
   },
   "source": [
    "{\n",
    "  \"nbgrader\": {\n",
    "    \"grade\": false,        # this is not a test cell\n",
    "    \"locked\": false,       # this cell should be editable\n",
    "    \"solution\": true,      # this cell will contain a \n",
    "                           # student's solution\n",
    "    \"grade_id\": \"squares\", # the name of the cell\n",
    "    \"schema_version\": 1    # the metadata version\n",
    "  },\n",
    "  \"collapsed\": true,\n",
    "  \"trusted\": true\n",
    "}"
   ]
  },
  {
   "cell_type": "markdown",
   "metadata": {
    "origin": "nbgrader.ipynb",
    "slideshow": {
     "slide_type": "slide"
    }
   },
   "source": [
    "# nbgrader assign"
   ]
  },
  {
   "cell_type": "markdown",
   "metadata": {
    "origin": "nbgrader.ipynb",
    "slideshow": {
     "slide_type": "fragment"
    }
   },
   "source": [
    "* Clear the instructor solutions (`ClearSolutions` preprocessor)"
   ]
  },
  {
   "cell_type": "markdown",
   "metadata": {
    "origin": "nbgrader.ipynb",
    "slideshow": {
     "slide_type": "fragment"
    }
   },
   "source": [
    "* Make test cells uneditable (`LockCells` preprocessor)"
   ]
  },
  {
   "cell_type": "markdown",
   "metadata": {
    "origin": "nbgrader.ipynb",
    "slideshow": {
     "slide_type": "fragment"
    }
   },
   "source": [
    "* Clear cell output (`ClearOutput` preprocessor)"
   ]
  },
  {
   "cell_type": "markdown",
   "metadata": {
    "origin": "nbgrader.ipynb",
    "slideshow": {
     "slide_type": "fragment"
    }
   },
   "source": [
    "* ... etc. ..."
   ]
  },
  {
   "cell_type": "markdown",
   "metadata": {
    "origin": "nbgrader.ipynb",
    "slideshow": {
     "slide_type": "slide"
    }
   },
   "source": [
    "# Instructor Version"
   ]
  },
  {
   "cell_type": "code",
   "execution_count": null,
   "metadata": {
    "collapsed": true,
    "origin": "nbgrader.ipynb",
    "slideshow": {
     "slide_type": "-"
    }
   },
   "outputs": [],
   "source": [
    "def squares(n):\n",
    "    \"\"\"Compute the squares of numbers from 1 to n, such that the \n",
    "    ith element of the returned list equals i^2.\n",
    "    \n",
    "    \"\"\"\n",
    "    ### BEGIN SOLUTION\n",
    "    if n < 1:\n",
    "        raise ValueError(\"n must be greater than or equal to 1\")\n",
    "    return [i ** 2 for i in range(1, n + 1)]\n",
    "    ### END SOLUTION"
   ]
  },
  {
   "cell_type": "markdown",
   "metadata": {
    "origin": "nbgrader.ipynb",
    "slideshow": {
     "slide_type": "slide"
    }
   },
   "source": [
    "# Student Version"
   ]
  },
  {
   "cell_type": "code",
   "execution_count": null,
   "metadata": {
    "collapsed": true,
    "origin": "nbgrader.ipynb",
    "slideshow": {
     "slide_type": "-"
    }
   },
   "outputs": [],
   "source": [
    "def squares(n):\n",
    "    \"\"\"Compute the squares of numbers from 1 to n, such that the \n",
    "    ith element of the returned list equals i^2.\n",
    "    \n",
    "    \"\"\"\n",
    "    # YOUR CODE HERE\n",
    "    raise NotImplementedError()"
   ]
  },
  {
   "cell_type": "code",
   "execution_count": 4,
   "metadata": {
    "origin": "nbgrader.ipynb",
    "scrolled": false,
    "slideshow": {
     "slide_type": "slide"
    }
   },
   "outputs": [
    {
     "name": "stderr",
     "output_type": "stream",
     "text": [
      "[AssignApp | DEBUG] Searching ['/Users/jhamrick/Dropbox/presentations/2017.08.25-jupytercon/jess/course101', '/Users/jhamrick/.jupyter', '/Users/jhamrick/miniconda3/envs/jupytercon/etc/jupyter', '/usr/local/etc/jupyter', '/etc/jupyter'] for config files\n",
      "[AssignApp | DEBUG] Looking for jupyter_config in /etc/jupyter\n",
      "[AssignApp | DEBUG] Looking for jupyter_config in /usr/local/etc/jupyter\n",
      "[AssignApp | DEBUG] Looking for jupyter_config in /Users/jhamrick/miniconda3/envs/jupytercon/etc/jupyter\n",
      "[AssignApp | DEBUG] Looking for jupyter_config in /Users/jhamrick/.jupyter\n",
      "[AssignApp | DEBUG] Looking for jupyter_config in /Users/jhamrick/Dropbox/presentations/2017.08.25-jupytercon/jess/course101\n",
      "[AssignApp | DEBUG] Looking for nbgrader_config in /etc/jupyter\n",
      "[AssignApp | DEBUG] Looking for nbgrader_config in /usr/local/etc/jupyter\n",
      "[AssignApp | DEBUG] Looking for nbgrader_config in /Users/jhamrick/miniconda3/envs/jupytercon/etc/jupyter\n",
      "[AssignApp | DEBUG] Looking for nbgrader_config in /Users/jhamrick/.jupyter\n",
      "[AssignApp | DEBUG] Looking for nbgrader_config in /Users/jhamrick/Dropbox/presentations/2017.08.25-jupytercon/jess/course101\n",
      "[AssignApp | DEBUG] Loaded config file: /Users/jhamrick/Dropbox/presentations/2017.08.25-jupytercon/jess/course101/nbgrader_config.py\n",
      "[AssignApp | DEBUG] Looking for nbgrader_config in /Users/jhamrick/Dropbox/presentations/2017.08.25-jupytercon/jess/course101\n",
      "[AssignApp | DEBUG] Loaded config file: /Users/jhamrick/Dropbox/presentations/2017.08.25-jupytercon/jess/course101/nbgrader_config.py\n",
      "[AssignApp | WARNING] Removing existing assignment: /Users/jhamrick/Dropbox/presentations/2017.08.25-jupytercon/jess/course101/release/ps1\n",
      "[AssignApp | INFO] Updating/creating assignment 'ps1': {}\n",
      "[AssignApp | INFO] Converting notebook /Users/jhamrick/Dropbox/presentations/2017.08.25-jupytercon/jess/course101/source/./ps1/problem1.ipynb\n",
      "[AssignApp | DEBUG] Student: .\n",
      "[AssignApp | DEBUG] Assignment: ps1\n",
      "[AssignApp | DEBUG] Notebook: problem1\n",
      "[AssignApp | DEBUG] Applying preprocessor: IncludeHeaderFooter\n",
      "[AssignApp | DEBUG] Applying preprocessor: LockCells\n",
      "[AssignApp | DEBUG] Applying preprocessor: ClearSolutions\n",
      "[AssignApp | DEBUG] Applying preprocessor: ClearOutput\n",
      "[AssignApp | DEBUG] Applying preprocessor: CheckCellMetadata\n",
      "[AssignApp | DEBUG] Applying preprocessor: ComputeChecksums\n",
      "[AssignApp | DEBUG] Checksum for 'match' is 19f7bfd22d168d3ca40f43b29937860b\n",
      "[AssignApp | DEBUG] Checksum for 'test_match' is 32177cdb2bd9bcbf40ae05256c0d55fc\n",
      "[AssignApp | DEBUG] Checksum for 'forward_chain' is ecba59778d96bec84de551d0cf471f82\n",
      "[AssignApp | DEBUG] Checksum for 'forward_chain_uses_match' is f2ee5a4cf02dd6ae2a9a6ac8f9102671\n",
      "[AssignApp | DEBUG] Checksum for 'forward_chain_immutable_belief' is 93d43b09acc10499d9a0be24fc434272\n",
      "[AssignApp | DEBUG] Checksum for 'test_forward_chain' is 82941fc7253fec4c6be9352de7eee17b\n",
      "[AssignApp | DEBUG] Checksum for 'explain_rules_1' is fad8963e2894e8732648dbe5d399a00e\n",
      "[AssignApp | DEBUG] Checksum for 'explain_rules_2' is 3fc18f7153981514905b5c6800277ad5\n",
      "[AssignApp | DEBUG] Checksum for 'explain_rules_3' is 6d5ec2c0951d009f57a984741a457f2b\n",
      "[AssignApp | DEBUG] Checksum for 'explain_limits' is f9854aba01986aefcc8c82d34b9e49db\n",
      "[AssignApp | DEBUG] Applying preprocessor: SaveCells\n",
      "[AssignApp | DEBUG] Removing existing notebook 'problem1' from the database\n",
      "[AssignApp | DEBUG] Creating notebook 'problem1' in the database\n",
      "[AssignApp | DEBUG] Notebook kernelspec: {'display_name': 'Python 3', 'language': 'python', 'name': 'python3'}\n",
      "[AssignApp | DEBUG] Recorded grade cell GradeCell<ps1/problem1/test_match> into the gradebook\n",
      "[AssignApp | DEBUG] Recorded grade cell GradeCell<ps1/problem1/forward_chain_uses_match> into the gradebook\n",
      "[AssignApp | DEBUG] Recorded grade cell GradeCell<ps1/problem1/forward_chain_immutable_belief> into the gradebook\n",
      "[AssignApp | DEBUG] Recorded grade cell GradeCell<ps1/problem1/test_forward_chain> into the gradebook\n",
      "[AssignApp | DEBUG] Recorded grade cell GradeCell<ps1/problem1/explain_rules_1> into the gradebook\n",
      "[AssignApp | DEBUG] Recorded grade cell GradeCell<ps1/problem1/explain_rules_2> into the gradebook\n",
      "[AssignApp | DEBUG] Recorded grade cell GradeCell<ps1/problem1/explain_rules_3> into the gradebook\n",
      "[AssignApp | DEBUG] Recorded grade cell GradeCell<ps1/problem1/explain_limits> into the gradebook\n",
      "[AssignApp | DEBUG] Recorded solution cell Notebook<ps1/problem1>/match into the gradebook\n",
      "[AssignApp | DEBUG] Recorded solution cell Notebook<ps1/problem1>/forward_chain into the gradebook\n",
      "[AssignApp | DEBUG] Recorded solution cell Notebook<ps1/problem1>/explain_rules_1 into the gradebook\n",
      "[AssignApp | DEBUG] Recorded solution cell Notebook<ps1/problem1>/explain_rules_2 into the gradebook\n",
      "[AssignApp | DEBUG] Recorded solution cell Notebook<ps1/problem1>/explain_rules_3 into the gradebook\n",
      "[AssignApp | DEBUG] Recorded solution cell Notebook<ps1/problem1>/explain_limits into the gradebook\n",
      "[AssignApp | DEBUG] Recorded source cell SolutionCell<ps1/problem1/print_rules> into the gradebook\n",
      "[AssignApp | DEBUG] Recorded source cell SolutionCell<ps1/problem1/match> into the gradebook\n",
      "[AssignApp | DEBUG] Recorded source cell SolutionCell<ps1/problem1/test_match> into the gradebook\n",
      "[AssignApp | DEBUG] Recorded source cell SolutionCell<ps1/problem1/forward_chain> into the gradebook\n",
      "[AssignApp | DEBUG] Recorded source cell SolutionCell<ps1/problem1/forward_chain_uses_match> into the gradebook\n",
      "[AssignApp | DEBUG] Recorded source cell SolutionCell<ps1/problem1/forward_chain_immutable_belief> into the gradebook\n",
      "[AssignApp | DEBUG] Recorded source cell SolutionCell<ps1/problem1/test_forward_chain> into the gradebook\n",
      "[AssignApp | DEBUG] Recorded source cell SolutionCell<ps1/problem1/rules_1> into the gradebook\n",
      "[AssignApp | DEBUG] Recorded source cell SolutionCell<ps1/problem1/belief_1> into the gradebook\n",
      "[AssignApp | DEBUG] Recorded source cell SolutionCell<ps1/problem1/explain_rules_1> into the gradebook\n",
      "[AssignApp | DEBUG] Recorded source cell SolutionCell<ps1/problem1/rules_2> into the gradebook\n",
      "[AssignApp | DEBUG] Recorded source cell SolutionCell<ps1/problem1/belief_2> into the gradebook\n",
      "[AssignApp | DEBUG] Recorded source cell SolutionCell<ps1/problem1/explain_rules_2> into the gradebook\n",
      "[AssignApp | DEBUG] Recorded source cell SolutionCell<ps1/problem1/belief_3> into the gradebook\n",
      "[AssignApp | DEBUG] Recorded source cell SolutionCell<ps1/problem1/explain_rules_3> into the gradebook\n",
      "[AssignApp | DEBUG] Recorded source cell SolutionCell<ps1/problem1/explain_limits> into the gradebook\n",
      "[AssignApp | DEBUG] Applying preprocessor: ClearHiddenTests\n",
      "[AssignApp | DEBUG] Applying preprocessor: ComputeChecksums\n",
      "[AssignApp | DEBUG] Checksum for 'match' is 19f7bfd22d168d3ca40f43b29937860b\n",
      "[AssignApp | DEBUG] Checksum for 'test_match' is 32177cdb2bd9bcbf40ae05256c0d55fc\n",
      "[AssignApp | DEBUG] Checksum for 'forward_chain' is ecba59778d96bec84de551d0cf471f82\n",
      "[AssignApp | DEBUG] Checksum for 'forward_chain_uses_match' is f2ee5a4cf02dd6ae2a9a6ac8f9102671\n",
      "[AssignApp | DEBUG] Checksum for 'forward_chain_immutable_belief' is 93d43b09acc10499d9a0be24fc434272\n",
      "[AssignApp | DEBUG] Checksum for 'test_forward_chain' is 82941fc7253fec4c6be9352de7eee17b\n",
      "[AssignApp | DEBUG] Checksum for 'explain_rules_1' is fad8963e2894e8732648dbe5d399a00e\n",
      "[AssignApp | DEBUG] Checksum for 'explain_rules_2' is 3fc18f7153981514905b5c6800277ad5\n",
      "[AssignApp | DEBUG] Checksum for 'explain_rules_3' is 6d5ec2c0951d009f57a984741a457f2b\n",
      "[AssignApp | DEBUG] Checksum for 'explain_limits' is f9854aba01986aefcc8c82d34b9e49db\n",
      "[AssignApp | DEBUG] Applying preprocessor: CheckCellMetadata\n",
      "[AssignApp | INFO] Writing 23725 bytes to /Users/jhamrick/Dropbox/presentations/2017.08.25-jupytercon/jess/course101/release/./ps1/problem1.ipynb\n",
      "[AssignApp | INFO] Setting destination file permissions to 644\n"
     ]
    }
   ],
   "source": [
    "%%bash\n",
    "\n",
    "cd course101\n",
    "nbgrader assign ps1 --force --create --debug"
   ]
  },
  {
   "cell_type": "markdown",
   "metadata": {
    "origin": "nbgrader.ipynb",
    "slideshow": {
     "slide_type": "slide"
    }
   },
   "source": [
    "# [Example Student Notebook](course101/release/ps1/problem1.ipynb)"
   ]
  },
  {
   "cell_type": "markdown",
   "metadata": {
    "origin": "nbgrader.ipynb",
    "slideshow": {
     "slide_type": "slide"
    }
   },
   "source": [
    "# Other nbgrader functionality"
   ]
  },
  {
   "cell_type": "markdown",
   "metadata": {
    "origin": "nbgrader.ipynb",
    "slideshow": {
     "slide_type": "fragment"
    }
   },
   "source": [
    "* nbgrader autograde"
   ]
  },
  {
   "cell_type": "markdown",
   "metadata": {
    "origin": "nbgrader.ipynb",
    "slideshow": {
     "slide_type": "fragment"
    }
   },
   "source": [
    "* Formgrader extension"
   ]
  },
  {
   "cell_type": "markdown",
   "metadata": {
    "origin": "nbgrader.ipynb",
    "slideshow": {
     "slide_type": "fragment"
    }
   },
   "source": [
    "* nbgrader feedback"
   ]
  },
  {
   "cell_type": "markdown",
   "metadata": {
    "origin": "nbgrader.ipynb",
    "slideshow": {
     "slide_type": "fragment"
    },
    "tags": [
     "no_reset"
    ]
   },
   "source": [
    "# http://nbgrader.readthedocs.io"
   ]
  },
  {
   "cell_type": "markdown",
   "metadata": {
    "origin": "m/outline.ipynb",
    "slideshow": {
     "slide_type": "slide"
    },
    "tags": [
     "no_reset"
    ]
   },
   "source": [
    "## Outline\n",
    "\n",
    "1. [Introduction: *.ipynb and nbformat](#Introduction:-*.ipynb-and-nbformat)\n",
    "2. [Application #1: nbconvert](#Application-#1:-nbconvert)\n",
    "3. [Application #2: Nikola](#Application-#2:-Nikola)\n",
    "4. [Application #3: RISE](#Application-#3:-RISE)\n",
    "5. [Application #4: nbgrader](#Application-#4:-nbgrader)"
   ]
  },
  {
   "cell_type": "markdown",
   "metadata": {
    "origin": "m/usertest_notice.ipynb",
    "slideshow": {
     "slide_type": "slide"
    },
    "tags": [
     "no_reset"
    ]
   },
   "source": [
    "# JupyterLab User Testing!\n",
    "\n",
    "**What**: 5–30 mins of making JupyterLab better  \n",
    "**When**: Friday from 8am to 5:30pm  \n",
    "**Where**: 2nd floor, Gramercy  \n",
    "**How**: Walk in or sign up at: https://bit.ly/jupytercon-usertesting"
   ]
  },
  {
   "cell_type": "markdown",
   "metadata": {
    "origin": "m/thanks.ipynb",
    "slideshow": {
     "slide_type": "slide"
    },
    "tags": [
     "no_reset"
    ]
   },
   "source": [
    "# Thanks! Any questions?\n",
    "\n",
    "### M Pacer ([@mdpacer](https://twitter.com/mdpacer))\n",
    "\n",
    "### Damián Avila ([@damian_avila](https://twitter.com/damian_avila))\n",
    "\n",
    "### Jess Hamrick ([@jhamrick](https://twitter.com/jhamrick))"
   ]
  }
 ],
 "metadata": {
  "kernelspec": {
   "display_name": "Python 3",
   "language": "python",
   "name": "python3"
  },
  "language_info": {
   "codemirror_mode": {
    "name": "ipython",
    "version": 3
   },
   "file_extension": ".py",
   "mimetype": "text/x-python",
   "name": "python",
   "nbconvert_exporter": "python",
   "pygments_lexer": "ipython3",
   "version": "3.5.1"
  },
  "livereveal": {
   "transition": "none"
  }
 },
 "nbformat": 4,
 "nbformat_minor": 2
}
