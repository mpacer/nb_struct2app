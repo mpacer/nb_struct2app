{
 "cells": [
  {
   "cell_type": "markdown",
   "metadata": {
    "slideshow": {
     "slide_type": "slide"
    }
   },
   "source": [
    "# Nikola"
   ]
  },
  {
   "cell_type": "markdown",
   "metadata": {
    "slideshow": {
     "slide_type": "fragment"
    }
   },
   "source": [
    "### Static site generator"
   ]
  },
  {
   "cell_type": "markdown",
   "metadata": {
    "slideshow": {
     "slide_type": "slide"
    }
   },
   "source": [
    "# Features"
   ]
  },
  {
   "cell_type": "markdown",
   "metadata": {
    "slideshow": {
     "slide_type": "fragment"
    }
   },
   "source": [
    "* Static sites: it’s just a bunch of HTML files and assets.\n",
    "* Incremental builds/rebuild using `doit`, so Nikola is fast.\n",
    "* Multilingual\n",
    "* Extensible\n",
    "* Friendly CLI"
   ]
  },
  {
   "cell_type": "markdown",
   "metadata": {
    "slideshow": {
     "slide_type": "fragment"
    }
   },
   "source": [
    "* Multiple input formats such as reStructuredText, Markdown, HTML and **Jupyter Notebooks** (out of the box as part of the core!!)"
   ]
  },
  {
   "cell_type": "markdown",
   "metadata": {
    "slideshow": {
     "slide_type": "slide"
    }
   },
   "source": [
    "# The core of the Nikola / Jupyter integration"
   ]
  },
  {
   "cell_type": "markdown",
   "metadata": {
    "slideshow": {
     "slide_type": "fragment"
    }
   },
   "source": [
    "* https://github.com/getnikola/nikola/blob/master/nikola/plugins/compile/ipynb.py"
   ]
  },
  {
   "cell_type": "markdown",
   "metadata": {
    "slideshow": {
     "slide_type": "subslide"
    }
   },
   "source": [
    "```python\n",
    "from nbconvert.exporters import HTMLExporter\n",
    "\n",
    "...\n",
    "\n",
    "def _compile_string(self, nb_json):\n",
    "    \"\"\"Export notebooks as HTML strings.\"\"\"\n",
    "    self._req_missing_ipynb()\n",
    "    c = Config(self.site.config['IPYNB_CONFIG'])\n",
    "    c.update(get_default_jupyter_config())\n",
    "    exportHtml = HTMLExporter(config=c)\n",
    "    body, _ = exportHtml.from_notebook_node(nb_json)\n",
    "    return body\n",
    "\n",
    "```"
   ]
  },
  {
   "cell_type": "markdown",
   "metadata": {
    "slideshow": {
     "slide_type": "slide"
    }
   },
   "source": [
    "# Some other gems"
   ]
  },
  {
   "cell_type": "markdown",
   "metadata": {
    "slideshow": {
     "slide_type": "subslide"
    }
   },
   "source": [
    "```python\n",
    "def read_metadata(self, post, lang=None):\n",
    "    \"\"\"Read metadata directly from ipynb file.\n",
    "    As ipynb files support arbitrary metadata as json, the metadata used by Nikola\n",
    "    will be assume to be in the 'nikola' subfield.\n",
    "    \"\"\"\n",
    "    self._req_missing_ipynb()\n",
    "    if lang is None:\n",
    "        lang = LocaleBorg().current_lang\n",
    "    source = post.translated_source_path(lang)\n",
    "    with io.open(source, \"r\", encoding=\"utf8\") as in_file:\n",
    "        nb_json = nbformat.read(in_file, current_nbformat)\n",
    "    # Metadata might not exist in two-file posts or in hand-crafted\n",
    "    # .ipynb files.\n",
    "    return nb_json.get('metadata', {}).get('nikola', {})\n",
    "```"
   ]
  },
  {
   "cell_type": "markdown",
   "metadata": {
    "slideshow": {
     "slide_type": "subslide"
    }
   },
   "source": [
    "```python\n",
    "def create_post(self, path, **kw):\n",
    "    \"\"\"Create a new post.\"\"\"\n",
    "    self._req_missing_ipynb()\n",
    "    content = kw.pop('content', None)\n",
    "    onefile = kw.pop('onefile', False)\n",
    "    kernel = kw.pop('jupyter_kernel', None)\n",
    "    # is_page is not needed to create the file\n",
    "    kw.pop('is_page', False)\n",
    "\n",
    "    metadata = {}\n",
    "    metadata.update(self.default_metadata)\n",
    "    metadata.update(kw)\n",
    "\n",
    "    makedirs(os.path.dirname(path))\n",
    "\n",
    "    if content.startswith(\"{\"):\n",
    "        # imported .ipynb file, guaranteed to start with \"{\" because it’s JSON.\n",
    "        nb = nbformat.reads(content, current_nbformat)\n",
    "    else:\n",
    "        nb = nbformat.v4.new_notebook()\n",
    "        nb[\"cells\"] = [nbformat.v4.new_markdown_cell(content)]\n",
    "\n",
    "        if kernel is None:\n",
    "            kernel = self.default_kernel\n",
    "            self.logger.notice('No kernel specified, assuming \"{0}\".'.format(kernel))\n",
    "\n",
    "        IPYNB_KERNELS = {}\n",
    "        ksm = kernelspec.KernelSpecManager()\n",
    "        for k in ksm.find_kernel_specs():\n",
    "            IPYNB_KERNELS[k] = ksm.get_kernel_spec(k).to_dict()\n",
    "            IPYNB_KERNELS[k]['name'] = k\n",
    "            del IPYNB_KERNELS[k]['argv']\n",
    "\n",
    "        if kernel not in IPYNB_KERNELS:\n",
    "            self.logger.error('Unknown kernel \"{0}\". Maybe you mispelled it?'.format(kernel))\n",
    "            self.logger.info(\"Available kernels: {0}\".format(\", \".join(sorted(IPYNB_KERNELS))))\n",
    "            raise Exception('Unknown kernel \"{0}\"'.format(kernel))\n",
    "\n",
    "        nb[\"metadata\"][\"kernelspec\"] = IPYNB_KERNELS[kernel]\n",
    "\n",
    "    if onefile:\n",
    "        nb[\"metadata\"][\"nikola\"] = metadata\n",
    "\n",
    "    with io.open(path, \"w+\", encoding=\"utf8\") as fd:\n",
    "        nbformat.write(nb, fd, 4)\n",
    "```        "
   ]
  },
  {
   "cell_type": "markdown",
   "metadata": {
    "slideshow": {
     "slide_type": "slide"
    }
   },
   "source": [
    "# Let see it in action!"
   ]
  },
  {
   "cell_type": "code",
   "execution_count": 3,
   "metadata": {
    "slideshow": {
     "slide_type": "slide"
    }
   },
   "outputs": [
    {
     "name": "stdout",
     "output_type": "stream",
     "text": [
      "/media/data/devel/damian_blog\n"
     ]
    }
   ],
   "source": [
    "cd damian_blog/"
   ]
  },
  {
   "cell_type": "code",
   "execution_count": 7,
   "metadata": {
    "slideshow": {
     "slide_type": "-"
    }
   },
   "outputs": [
    {
     "name": "stdout",
     "output_type": "stream",
     "text": [
      "total 9480\r\n",
      "drwx------ 13 damian damian    4096 jul 12 14:16 .\r\n",
      "drwxrwxr-x 24 damian damian    4096 ago 25 01:28 ..\r\n",
      "drwxrwxr-x  6 damian damian    4096 jun 12 19:49 cache\r\n",
      "-rw-rw-r--  1 damian damian   41009 jun 12 19:45 conf.py\r\n",
      "-rw-rw-r--  1 damian damian    1607 may 10  2015 Customization.md\r\n",
      "-rw-rw-r--  1 damian damian   80632 jul 12 14:15 .doit.db.bak\r\n",
      "-rw-rw-r--  1 damian damian 9375377 jul 12 14:15 .doit.db.dat\r\n",
      "-rw-rw-r--  1 damian damian   80632 jul 12 14:15 .doit.db.dir\r\n",
      "drwx------  3 damian damian    4096 ago 28  2013 files\r\n",
      "drwx------ 13 damian damian    4096 jul 12 13:52 galleries\r\n",
      "drwx------  9 damian damian    4096 jul 12 14:16 .git\r\n",
      "-rwxr-xr-x  1 damian damian     343 sep 24  2013 Guardfile\r\n",
      "drwxr-xr-x  2 damian damian    4096 jun 19  2016 .ipynb_checkpoints\r\n",
      "-rw-rw-r--  1 damian damian   31785 may 31  2015 old_conf.py\r\n",
      "drwxrwxr-x 14 damian damian    4096 jun 13 08:45 output\r\n",
      "drwxrwxr-x  3 damian damian    4096 may 31  2015 plugins\r\n",
      "drwx------  3 damian damian   12288 jul 12 14:15 posts\r\n",
      "drwxrwxr-x  2 damian damian    4096 jun 12 19:45 __pycache__\r\n",
      "-rw-r--r--  1 damian damian      91 abr 29  2014 README.md\r\n",
      "-rw-rw-r--  1 damian damian    2135 jul 12 13:45 Start.ipynb\r\n",
      "-rw-------  1 damian damian      49 jul 12 14:16 state_data.json\r\n",
      "drwx------  2 damian damian    4096 ago 28  2013 stories\r\n",
      "drwxrwxr-x  5 damian damian    4096 may 30  2014 themes\r\n",
      "-rw-rw-r--  1 damian damian     501 may 30  2016 toggle.tpl\r\n",
      "-rw-rw-r--  1 damian damian       0 jun 14  2015 yes\r\n"
     ]
    }
   ],
   "source": [
    "!ls -la"
   ]
  },
  {
   "cell_type": "code",
   "execution_count": null,
   "metadata": {
    "collapsed": true,
    "slideshow": {
     "slide_type": "subslide"
    }
   },
   "outputs": [],
   "source": [
    "title = \"We are above 1000 stars!\""
   ]
  },
  {
   "cell_type": "code",
   "execution_count": null,
   "metadata": {
    "collapsed": true,
    "slideshow": {
     "slide_type": "fragment"
    }
   },
   "outputs": [],
   "source": [
    "tags_list = ['Jupyter', 'python', 'reveal', 'RISE', 'slideshow']"
   ]
  },
  {
   "cell_type": "code",
   "execution_count": null,
   "metadata": {
    "collapsed": true,
    "slideshow": {
     "slide_type": "-"
    }
   },
   "outputs": [],
   "source": [
    "tags = ', '.join(tags_list)"
   ]
  },
  {
   "cell_type": "code",
   "execution_count": null,
   "metadata": {
    "collapsed": true,
    "slideshow": {
     "slide_type": "subslide"
    }
   },
   "outputs": [],
   "source": [
    "!nikola new_post -f ipynb -t \"{title}\" --tags=\"{tags}\""
   ]
  },
  {
   "cell_type": "markdown",
   "metadata": {
    "slideshow": {
     "slide_type": "fragment"
    }
   },
   "source": [
    "```\n",
    "Creating New Post\n",
    "-----------------\n",
    "\n",
    "Title: We are above 1000 stars!\n",
    "Scanning posts......done!\n",
    "[2017-07-12T16:45:00Z] NOTICE: compile_ipynb: No kernel specified, assuming \"python3\".\n",
    "[2017-07-12T16:45:01Z] INFO: new_post: Your post's text is at: posts/we-are-above-1000-stars.ipynb\n",
    "```"
   ]
  },
  {
   "cell_type": "code",
   "execution_count": null,
   "metadata": {
    "collapsed": true,
    "slideshow": {
     "slide_type": "subslide"
    }
   },
   "outputs": [],
   "source": [
    "!nikola build"
   ]
  },
  {
   "cell_type": "code",
   "execution_count": null,
   "metadata": {
    "collapsed": true,
    "slideshow": {
     "slide_type": "fragment"
    }
   },
   "outputs": [],
   "source": [
    "!nikola deploy"
   ]
  },
  {
   "cell_type": "code",
   "execution_count": 20,
   "metadata": {
    "slideshow": {
     "slide_type": "slide"
    }
   },
   "outputs": [
    {
     "data": {
      "text/html": [
       "\n",
       "        <iframe\n",
       "            width=\"980\"\n",
       "            height=\"600\"\n",
       "            src=\"http://www.damian.oquanta.info/\"\n",
       "            frameborder=\"0\"\n",
       "            allowfullscreen\n",
       "        ></iframe>\n",
       "        "
      ],
      "text/plain": [
       "<IPython.lib.display.IFrame at 0x7f12a4137668>"
      ]
     },
     "execution_count": 20,
     "metadata": {},
     "output_type": "execute_result"
    }
   ],
   "source": [
    "from IPython.display import IFrame\n",
    "IFrame(\"http://www.damian.oquanta.info/\", 980, 600)"
   ]
  }
 ],
 "metadata": {
  "celltoolbar": "Slideshow",
  "kernelspec": {
   "display_name": "Python 3",
   "language": "python",
   "name": "python3"
  },
  "language_info": {
   "codemirror_mode": {
    "name": "ipython",
    "version": 3
   },
   "file_extension": ".py",
   "mimetype": "text/x-python",
   "name": "python",
   "nbconvert_exporter": "python",
   "pygments_lexer": "ipython3",
   "version": "3.6.0"
  }
 },
 "nbformat": 4,
 "nbformat_minor": 2
}
