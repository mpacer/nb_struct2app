{
 "cells": [
  {
   "cell_type": "markdown",
   "metadata": {
    "slideshow": {
     "slide_type": "slide"
    }
   },
   "source": [
    "# Application #2: Nikola"
   ]
  },
  {
   "cell_type": "markdown",
   "metadata": {
    "slideshow": {
     "slide_type": "fragment"
    }
   },
   "source": [
    "### Static site generator"
   ]
  },
  {
   "cell_type": "markdown",
   "metadata": {
    "slideshow": {
     "slide_type": "slide"
    }
   },
   "source": [
    "# Features"
   ]
  },
  {
   "cell_type": "markdown",
   "metadata": {
    "slideshow": {
     "slide_type": "fragment"
    }
   },
   "source": [
    "* Static sites: it’s just a bunch of HTML files and assets.\n",
    "* Incremental builds/rebuild using `doit`, so Nikola is fast.\n",
    "* Multilingual\n",
    "* Extensible\n",
    "* Friendly CLI"
   ]
  },
  {
   "cell_type": "markdown",
   "metadata": {
    "slideshow": {
     "slide_type": "subslide"
    }
   },
   "source": [
    "* Multiple input formats such as reStructuredText, Markdown, HTML and **Jupyter Notebooks** (out of the box as part of the core!!)"
   ]
  },
  {
   "cell_type": "markdown",
   "metadata": {
    "slideshow": {
     "slide_type": "slide"
    }
   },
   "source": [
    "# The core of the Nikola / Jupyter integration"
   ]
  },
  {
   "cell_type": "markdown",
   "metadata": {
    "slideshow": {
     "slide_type": "fragment"
    }
   },
   "source": [
    "* https://github.com/getnikola/nikola/blob/master/nikola/plugins/compile/ipynb.py"
   ]
  },
  {
   "cell_type": "code",
   "execution_count": null,
   "metadata": {
    "collapsed": true,
    "slideshow": {
     "slide_type": "subslide"
    }
   },
   "outputs": [],
   "source": [
    "from nbconvert.exporters import HTMLExporter\n",
    "\n",
    "...\n",
    "\n",
    "def _compile_string(self, nb_json):\n",
    "    \"\"\"Export notebooks as HTML strings.\"\"\"\n",
    "    self._req_missing_ipynb()\n",
    "    c = Config(self.site.config['IPYNB_CONFIG'])\n",
    "    c.update(get_default_jupyter_config())\n",
    "    exportHtml = HTMLExporter(config=c)\n",
    "    body, _ = exportHtml.from_notebook_node(nb_json)\n",
    "    return body"
   ]
  },
  {
   "cell_type": "markdown",
   "metadata": {
    "slideshow": {
     "slide_type": "slide"
    }
   },
   "source": [
    "# Some other gems"
   ]
  },
  {
   "cell_type": "code",
   "execution_count": null,
   "metadata": {
    "collapsed": true,
    "slideshow": {
     "slide_type": "subslide"
    }
   },
   "outputs": [],
   "source": [
    "def read_metadata(self, post, lang=None):\n",
    "    \"\"\"Read metadata directly from ipynb file.\n",
    "    As ipynb files support arbitrary metadata as json, the metadata used by Nikola\n",
    "    will be assume to be in the 'nikola' subfield.\n",
    "    \"\"\"\n",
    "    self._req_missing_ipynb()\n",
    "    if lang is None:\n",
    "        lang = LocaleBorg().current_lang\n",
    "    source = post.translated_source_path(lang)\n",
    "    with io.open(source, \"r\", encoding=\"utf8\") as in_file:\n",
    "        nb_json = nbformat.read(in_file, current_nbformat)\n",
    "    # Metadata might not exist in two-file posts or in hand-crafted\n",
    "    # .ipynb files.\n",
    "    return nb_json.get('metadata', {}).get('nikola', {})"
   ]
  },
  {
   "cell_type": "code",
   "execution_count": null,
   "metadata": {
    "collapsed": true,
    "slideshow": {
     "slide_type": "subslide"
    }
   },
   "outputs": [],
   "source": [
    "def create_post(self, path, **kw):\n",
    "    \"\"\"Create a new post.\"\"\"\n",
    "    ...\n",
    "\n",
    "    if content.startswith(\"{\"):\n",
    "        # imported .ipynb file, guaranteed to start with \"{\" because it’s JSON.\n",
    "        nb = nbformat.reads(content, current_nbformat)\n",
    "    else:\n",
    "        nb = nbformat.v4.new_notebook()\n",
    "        nb[\"cells\"] = [nbformat.v4.new_markdown_cell(content)]\n",
    "\n",
    "        if kernel is None:\n",
    "            kernel = self.default_kernel\n",
    "            self.logger.notice('No kernel specified, assuming \"{0}\".'.format(kernel)) "
   ]
  },
  {
   "cell_type": "code",
   "execution_count": null,
   "metadata": {
    "collapsed": true,
    "slideshow": {
     "slide_type": "subslide"
    }
   },
   "outputs": [],
   "source": [
    "        IPYNB_KERNELS = {}\n",
    "        ksm = kernelspec.KernelSpecManager()\n",
    "        for k in ksm.find_kernel_specs():\n",
    "            IPYNB_KERNELS[k] = ksm.get_kernel_spec(k).to_dict()\n",
    "            IPYNB_KERNELS[k]['name'] = k\n",
    "            del IPYNB_KERNELS[k]['argv']\n",
    "\n",
    "        if kernel not in IPYNB_KERNELS:\n",
    "            self.logger.error('Unknown kernel \"{0}\". Maybe you mispelled it?'.format(kernel))\n",
    "            self.logger.info(\"Available kernels: {0}\".format(\", \".join(sorted(IPYNB_KERNELS))))\n",
    "            raise Exception('Unknown kernel \"{0}\"'.format(kernel))\n",
    "\n",
    "        nb[\"metadata\"][\"kernelspec\"] = IPYNB_KERNELS[kernel]\n",
    "\n",
    "    if onefile:\n",
    "        nb[\"metadata\"][\"nikola\"] = metadata "
   ]
  },
  {
   "cell_type": "markdown",
   "metadata": {
    "slideshow": {
     "slide_type": "slide"
    }
   },
   "source": [
    "# Let see it in action!"
   ]
  },
  {
   "cell_type": "code",
   "execution_count": 7,
   "metadata": {
    "slideshow": {
     "slide_type": "slide"
    }
   },
   "outputs": [
    {
     "name": "stdout",
     "output_type": "stream",
     "text": [
      "/media/data/devel/damian_blog\n"
     ]
    }
   ],
   "source": [
    "cd /media/data/devel/damian_blog/"
   ]
  },
  {
   "cell_type": "code",
   "execution_count": 8,
   "metadata": {
    "slideshow": {
     "slide_type": "-"
    }
   },
   "outputs": [
    {
     "name": "stdout",
     "output_type": "stream",
     "text": [
      "cache\t\t  galleries    plugins\t    Start.ipynb      toggle.tpl\r\n",
      "conf.py\t\t  Guardfile    posts\t    state_data.json  yes\r\n",
      "Customization.md  old_conf.py  __pycache__  stories\r\n",
      "files\t\t  output       README.md    themes\r\n"
     ]
    }
   ],
   "source": [
    "!ls"
   ]
  },
  {
   "cell_type": "code",
   "execution_count": null,
   "metadata": {
    "collapsed": true,
    "slideshow": {
     "slide_type": "subslide"
    }
   },
   "outputs": [],
   "source": [
    "title = \"We are above 1000 stars!\""
   ]
  },
  {
   "cell_type": "code",
   "execution_count": null,
   "metadata": {
    "collapsed": true,
    "slideshow": {
     "slide_type": "fragment"
    }
   },
   "outputs": [],
   "source": [
    "tags_list = ['Jupyter', 'python', 'reveal', 'RISE', 'slideshow']"
   ]
  },
  {
   "cell_type": "code",
   "execution_count": null,
   "metadata": {
    "collapsed": true,
    "slideshow": {
     "slide_type": "-"
    }
   },
   "outputs": [],
   "source": [
    "tags = ', '.join(tags_list)"
   ]
  },
  {
   "cell_type": "code",
   "execution_count": null,
   "metadata": {
    "collapsed": true,
    "slideshow": {
     "slide_type": "subslide"
    }
   },
   "outputs": [],
   "source": [
    "!nikola new_post -f ipynb -t \"{title}\" --tags=\"{tags}\""
   ]
  },
  {
   "cell_type": "markdown",
   "metadata": {
    "slideshow": {
     "slide_type": "fragment"
    }
   },
   "source": [
    "```\n",
    "Creating New Post\n",
    "-----------------\n",
    "\n",
    "Title: We are above 1000 stars!\n",
    "Scanning posts......done!\n",
    "[2017-07-12T16:45:00Z] NOTICE: compile_ipynb: No kernel specified, assuming \"python3\".\n",
    "[2017-07-12T16:45:01Z] INFO: new_post: Your post's text is at: posts/we-are-above-1000-stars.ipynb\n",
    "```"
   ]
  },
  {
   "cell_type": "code",
   "execution_count": null,
   "metadata": {
    "collapsed": true,
    "slideshow": {
     "slide_type": "subslide"
    }
   },
   "outputs": [],
   "source": [
    "!nikola build"
   ]
  },
  {
   "cell_type": "code",
   "execution_count": null,
   "metadata": {
    "collapsed": true,
    "slideshow": {
     "slide_type": "fragment"
    }
   },
   "outputs": [],
   "source": [
    "!nikola deploy"
   ]
  },
  {
   "cell_type": "code",
   "execution_count": 9,
   "metadata": {
    "slideshow": {
     "slide_type": "slide"
    }
   },
   "outputs": [
    {
     "data": {
      "text/html": [
       "\n",
       "        <iframe\n",
       "            width=\"980\"\n",
       "            height=\"600\"\n",
       "            src=\"http://www.damian.oquanta.info/\"\n",
       "            frameborder=\"0\"\n",
       "            allowfullscreen\n",
       "        ></iframe>\n",
       "        "
      ],
      "text/plain": [
       "<IPython.lib.display.IFrame at 0x7ff9bcc27390>"
      ]
     },
     "execution_count": 9,
     "metadata": {},
     "output_type": "execute_result"
    }
   ],
   "source": [
    "from IPython.display import IFrame\n",
    "IFrame(\"http://www.damian.oquanta.info/\", 980, 600)"
   ]
  },
  {
   "cell_type": "code",
   "execution_count": null,
   "metadata": {
    "collapsed": true
   },
   "outputs": [],
   "source": []
  }
 ],
 "metadata": {
  "celltoolbar": "Slideshow",
  "kernelspec": {
   "display_name": "Python 3",
   "language": "python",
   "name": "python3"
  },
  "language_info": {
   "codemirror_mode": {
    "name": "ipython",
    "version": 3
   },
   "file_extension": ".py",
   "mimetype": "text/x-python",
   "name": "python",
   "nbconvert_exporter": "python",
   "pygments_lexer": "ipython3",
   "version": "3.5.1"
  }
 },
 "nbformat": 4,
 "nbformat_minor": 2
}
